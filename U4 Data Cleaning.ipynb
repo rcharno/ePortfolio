{
 "cells": [
  {
   "cell_type": "code",
   "execution_count": 1,
   "id": "c57fdf22-4c4f-4dd6-a92e-69ef48f8bbef",
   "metadata": {
    "tags": []
   },
   "outputs": [],
   "source": [
    "#Kazil, Jacqueline, and Katharine Jarmul. Data Wrangling with Python : Tips and Tools to Make Your Life Easier, O'Reilly Media, Incorporated, 2016. \n",
    "\n",
    "#First activity looks to replace headers which are not in english with more readable ones"
   ]
  },
  {
   "cell_type": "code",
   "execution_count": 2,
   "id": "9b46a204-d8cf-4a14-b1cc-1fc0fddc6e4b",
   "metadata": {
    "tags": []
   },
   "outputs": [],
   "source": [
    "from csv import DictReader"
   ]
  },
  {
   "cell_type": "code",
   "execution_count": 3,
   "id": "8ac73c45-0182-4bd9-ac19-2f8b8a9ab955",
   "metadata": {
    "tags": []
   },
   "outputs": [],
   "source": [
    "data_rdr = DictReader(open('mn.csv'))"
   ]
  },
  {
   "cell_type": "code",
   "execution_count": 4,
   "id": "82aaa0d2-18c0-40a3-ab53-e94a1a6e5ac4",
   "metadata": {},
   "outputs": [],
   "source": [
    "header_rdr = DictReader(open('mn_headers.csv',encoding='UTF-8'))"
   ]
  },
  {
   "cell_type": "code",
   "execution_count": 5,
   "id": "c09d09ff-7a46-4e2f-b556-8ae204e0e8db",
   "metadata": {
    "tags": []
   },
   "outputs": [],
   "source": [
    "#This code writes the iterable DictReader object into a new list so we can preserve the data and reuse it. \n",
    "#We’re using the list generator format so we can do it in one simple line of code that’s readable and clear.\n",
    "\n"
   ]
  },
  {
   "cell_type": "code",
   "execution_count": 6,
   "id": "2540fbfb-7f4f-4f1c-94c7-5a912a8a255e",
   "metadata": {
    "tags": []
   },
   "outputs": [],
   "source": [
    "data_rows = [d for d in data_rdr]"
   ]
  },
  {
   "cell_type": "code",
   "execution_count": 7,
   "id": "1d9aa358-ba93-4870-bac4-6dfe96f670a0",
   "metadata": {
    "tags": []
   },
   "outputs": [],
   "source": [
    "header_rows = [h for h in header_rdr]"
   ]
  },
  {
   "cell_type": "code",
   "execution_count": 8,
   "id": "eb8a87d7-26c1-4ae1-97a9-43efb8e246ae",
   "metadata": {
    "tags": []
   },
   "outputs": [
    {
     "name": "stdout",
     "output_type": "stream",
     "text": [
      "[{'HH1': '1', 'HH2': '17', 'LN': '1', 'MWM1': '1', 'MWM2': '17', 'MWM4': '1', 'MWM5': '14', 'MWM6D': '7', 'MWM6M': '4', 'MWM6Y': '2014', 'MWM7': 'Completed', 'MWM8': '2', 'MWM9': '20', 'MWM10H': '17', 'MWM10M': '59', 'MWM11H': '18', 'MWM11M': '7', 'MWB1M': '5', 'MWB1Y': '1984', 'MWB2': '29', 'MWB3': 'Yes', 'MWB4': 'Higher', 'MWB5': '31', 'MWB7': 'NA', 'MMT2': 'Almost every day', 'MMT3': 'At least once a week', 'MMT4': 'Less than once a week', 'MMT6': 'Yes', 'MMT7': 'Yes', 'MMT8': 'Almost every day', 'MMT9': 'Yes', 'MMT10': 'Yes', 'MMT11': 'Almost every day', 'MMT12': 'Yes', 'MMT13': 'Yes', 'MMT14': 'Almost every day', 'MCM1': 'No', 'MCM3': 'NA', 'MCM4': 'NA', 'MCM5A': 'NA', 'MCM5B': 'NA', 'MCM6': 'NA', 'MCM7A': 'NA', 'MCM7B': 'NA', 'MCM8': 'No', 'MCM9A': 'NA', 'MCM9B': 'NA', 'MCM10': '0', 'MCM11A': 'NA', 'MCM11B': 'NA', 'MCM12M': 'NA', 'MCM12Y': 'NA', 'MDV1A': 'No', 'MDV1B': 'No', 'MDV1C': 'No', 'MDV1D': 'No', 'MDV1E': 'No', 'MDV1F': 'No', 'MMA1': 'Yes, currently married', 'MMA3': 'No (Only one)', 'MMA4': 'NA', 'MMA5': 'NA', 'MMA6': 'NA', 'MMA7': 'Only once', 'MMA8M': '9', 'MMA8Y': '2013', 'MMA9': 'NA', 'MSB1': '20', 'MSB2': 'Yes', 'MSB3U': 'Days ago', 'MSB3N': '0', 'MSB4': 'No', 'MSB5': 'Wife', 'MSB8': 'No', 'MSB9': 'NA', 'MSB10': 'NA', 'MSB13': 'NA', 'MSB14': 'NA', 'MSB15': '5', 'MHA1': 'Yes', 'MHA2': 'Yes', 'MHA3': 'No', 'MHA4': 'Yes', 'MHA5': 'No', 'MHA6': 'No', 'MHA7': 'Yes', 'MHA8A': 'DK', 'MHA8B': 'Yes', 'MHA8C': 'DK', 'MHA9': 'Yes', 'MHA10': 'Yes', 'MHA11': 'No', 'MHA12': 'Yes', 'MHA24': 'Yes', 'MHA25': 'Less than 12 months ago', 'MHA26': 'Yes', 'MHA27': 'NA', 'MMC1': 'No', 'MMC2': 'NA', 'MMC3': 'NA', 'MMC4': 'NA', 'MTA1': 'No', 'MTA2': 'NA', 'MTA3': 'NA', 'MTA4': 'NA', 'MTA5': 'NA', 'MTA6': 'No', 'MTA7': 'NA', 'MTA8A': 'NA', 'MTA8B': 'NA', 'MTA8C': 'NA', 'MTA8D': 'NA', 'MTA8E': 'NA', 'MTA8X': 'NA', 'MTA9': 'NA', 'MTA10': 'No', 'MTA11': 'NA', 'MTA12A': 'NA', 'MTA12B': 'NA', 'MTA12C': 'NA', 'MTA12X': 'NA', 'MTA13': 'NA', 'MTA14': 'Yes', 'MTA15': '16', 'MTA16': '0', 'MTA17': 'NA', 'TNLN': 'NA', 'TN4': 'NA', 'TN5': 'NA', 'TN6': 'NA', 'TN8': 'NA', 'TN9': 'NA', 'TN10': 'NA', 'TN11': 'NA', 'TN12_1': 'NA', 'TN12_2': 'NA', 'TN12_3': 'NA', 'TN12_4': 'NA', 'HH6': 'Urban', 'HH7': 'Bulawayo', 'MWDOI': '1372', 'MWDOB': '1013', 'MWAGE': '25-29', 'MWDOM': '1365', 'MWAGEM': '29', 'MWDOBLC': 'NA', 'MMSTATUS': 'Currently married/in union', 'MCEB': '0', 'MCSURV': '0', 'MCDEAD': '0', 'mwelevel': 'Higher', 'mnweight': '0.403797142', 'wscore': '1.603670102', 'windex5': '5', 'wscoreu': '1.272551842', 'windex5u': '5', 'wscorer': 'NA', 'windex5r': 'NA'}, {'HH1': '1', 'HH2': '20', 'LN': '1', 'MWM1': '1', 'MWM2': '20', 'MWM4': '1', 'MWM5': '14', 'MWM6D': '7', 'MWM6M': '4', 'MWM6Y': '2014', 'MWM7': 'Completed', 'MWM8': '2', 'MWM9': '20', 'MWM10H': '17', 'MWM10M': '32', 'MWM11H': '17', 'MWM11M': '42', 'MWB1M': '5', 'MWB1Y': '1976', 'MWB2': '37', 'MWB3': 'Yes', 'MWB4': 'Higher', 'MWB5': '31', 'MWB7': 'NA', 'MMT2': 'At least once a week', 'MMT3': 'Not at all', 'MMT4': 'Almost every day', 'MMT6': 'Yes', 'MMT7': 'Yes', 'MMT8': 'Almost every day', 'MMT9': 'Yes', 'MMT10': 'Yes', 'MMT11': 'Almost every day', 'MMT12': 'Yes', 'MMT13': 'Yes', 'MMT14': 'Almost every day', 'MCM1': 'No', 'MCM3': 'NA', 'MCM4': 'NA', 'MCM5A': 'NA', 'MCM5B': 'NA', 'MCM6': 'NA', 'MCM7A': 'NA', 'MCM7B': 'NA', 'MCM8': 'No', 'MCM9A': 'NA', 'MCM9B': 'NA', 'MCM10': '0', 'MCM11A': 'NA', 'MCM11B': 'NA', 'MCM12M': 'NA', 'MCM12Y': 'NA', 'MDV1A': 'No', 'MDV1B': 'No', 'MDV1C': 'No', 'MDV1D': 'No', 'MDV1E': 'No', 'MDV1F': 'No', 'MMA1': 'Yes, currently married', 'MMA3': 'No (Only one)', 'MMA4': 'NA', 'MMA5': 'NA', 'MMA6': 'NA', 'MMA7': 'Only once', 'MMA8M': '2', 'MMA8Y': '2014', 'MMA9': 'NA', 'MSB1': '37', 'MSB2': 'No', 'MSB3U': 'Days ago', 'MSB3N': '0', 'MSB4': 'No', 'MSB5': 'Wife', 'MSB8': 'No', 'MSB9': 'NA', 'MSB10': 'NA', 'MSB13': 'NA', 'MSB14': 'NA', 'MSB15': '1', 'MHA1': 'Yes', 'MHA2': 'Yes', 'MHA3': 'No', 'MHA4': 'Yes', 'MHA5': 'No', 'MHA6': 'No', 'MHA7': 'Yes', 'MHA8A': 'No', 'MHA8B': 'Yes', 'MHA8C': 'Yes', 'MHA9': 'Yes', 'MHA10': 'Yes', 'MHA11': 'Yes', 'MHA12': 'No', 'MHA24': 'Yes', 'MHA25': 'Less than 12 months ago', 'MHA26': 'Yes', 'MHA27': 'NA', 'MMC1': 'No', 'MMC2': 'NA', 'MMC3': 'NA', 'MMC4': 'NA', 'MTA1': 'No', 'MTA2': 'NA', 'MTA3': 'NA', 'MTA4': 'NA', 'MTA5': 'NA', 'MTA6': 'No', 'MTA7': 'NA', 'MTA8A': 'NA', 'MTA8B': 'NA', 'MTA8C': 'NA', 'MTA8D': 'NA', 'MTA8E': 'NA', 'MTA8X': 'NA', 'MTA9': 'NA', 'MTA10': 'No', 'MTA11': 'NA', 'MTA12A': 'NA', 'MTA12B': 'NA', 'MTA12C': 'NA', 'MTA12X': 'NA', 'MTA13': 'NA', 'MTA14': 'No', 'MTA15': 'NA', 'MTA16': 'NA', 'MTA17': 'NA', 'TNLN': 'NA', 'TN4': 'NA', 'TN5': 'NA', 'TN6': 'NA', 'TN8': 'NA', 'TN9': 'NA', 'TN10': 'NA', 'TN11': 'NA', 'TN12_1': 'NA', 'TN12_2': 'NA', 'TN12_3': 'NA', 'TN12_4': 'NA', 'HH6': 'Urban', 'HH7': 'Bulawayo', 'MWDOI': '1372', 'MWDOB': '917', 'MWAGE': '35-39', 'MWDOM': '1370', 'MWAGEM': '37', 'MWDOBLC': 'NA', 'MMSTATUS': 'Currently married/in union', 'MCEB': '0', 'MCSURV': '0', 'MCDEAD': '0', 'mwelevel': 'Higher', 'mnweight': '0.403797142', 'wscore': '1.543277026', 'windex5': '5', 'wscoreu': '1.08902632', 'windex5u': '5', 'wscorer': 'NA', 'windex5r': 'NA'}, {'HH1': '2', 'HH2': '1', 'LN': '1', 'MWM1': '2', 'MWM2': '1', 'MWM4': '1', 'MWM5': '9', 'MWM6D': '8', 'MWM6M': '4', 'MWM6Y': '2014', 'MWM7': 'Completed', 'MWM8': '1', 'MWM9': '40', 'MWM10H': '10', 'MWM10M': '37', 'MWM11H': '10', 'MWM11M': '52', 'MWB1M': '2', 'MWB1Y': '1973', 'MWB2': '41', 'MWB3': 'Yes', 'MWB4': 'Primary', 'MWB5': '17', 'MWB7': 'Able to read whole sentence', 'MMT2': 'Not at all', 'MMT3': 'Almost every day', 'MMT4': 'Less than once a week', 'MMT6': 'No', 'MMT7': 'NA', 'MMT8': 'NA', 'MMT9': 'No', 'MMT10': 'NA', 'MMT11': 'NA', 'MMT12': 'Yes', 'MMT13': 'Yes', 'MMT14': 'Almost every day', 'MCM1': 'Yes', 'MCM3': '21', 'MCM4': 'Yes', 'MCM5A': '1', 'MCM5B': '1', 'MCM6': 'Yes', 'MCM7A': '1', 'MCM7B': '0', 'MCM8': 'No', 'MCM9A': 'NA', 'MCM9B': 'NA', 'MCM10': '3', 'MCM11A': 'No', 'MCM11B': '2', 'MCM12M': '5', 'MCM12Y': '2012', 'MDV1A': 'No', 'MDV1B': 'No', 'MDV1C': 'No', 'MDV1D': 'No', 'MDV1E': 'No', 'MDV1F': 'No', 'MMA1': 'Yes, currently married', 'MMA3': 'No (Only one)', 'MMA4': 'NA', 'MMA5': 'NA', 'MMA6': 'NA', 'MMA7': 'More than once', 'MMA8M': '8', 'MMA8Y': '1991', 'MMA9': 'NA', 'MSB1': '20', 'MSB2': 'No', 'MSB3U': 'Days ago', 'MSB3N': '0', 'MSB4': 'Yes', 'MSB5': 'Wife', 'MSB8': 'No', 'MSB9': 'NA', 'MSB10': 'NA', 'MSB13': 'NA', 'MSB14': 'NA', 'MSB15': '5', 'MHA1': 'Yes', 'MHA2': 'Yes', 'MHA3': 'No', 'MHA4': 'Yes', 'MHA5': 'No', 'MHA6': 'No', 'MHA7': 'Yes', 'MHA8A': 'No', 'MHA8B': 'Yes', 'MHA8C': 'No', 'MHA9': 'Yes', 'MHA10': 'Yes', 'MHA11': 'No', 'MHA12': 'Yes', 'MHA24': 'Yes', 'MHA25': '2 or more years ago', 'MHA26': 'Yes', 'MHA27': 'NA', 'MMC1': 'No', 'MMC2': 'NA', 'MMC3': 'NA', 'MMC4': 'NA', 'MTA1': 'Yes', 'MTA2': '18', 'MTA3': 'Yes', 'MTA4': '10', 'MTA5': '30', 'MTA6': 'Yes', 'MTA7': 'Yes', 'MTA8A': 'NA', 'MTA8B': 'NA', 'MTA8C': 'NA', 'MTA8D': 'NA', 'MTA8E': 'Rolled tobacco', 'MTA8X': 'NA', 'MTA9': '7', 'MTA10': 'No', 'MTA11': 'NA', 'MTA12A': 'NA', 'MTA12B': 'NA', 'MTA12C': 'NA', 'MTA12X': 'NA', 'MTA13': 'NA', 'MTA14': 'Yes', 'MTA15': '19', 'MTA16': '8', 'MTA17': '2', 'TNLN': 'NA', 'TN4': 'NA', 'TN5': 'NA', 'TN6': 'NA', 'TN8': 'NA', 'TN9': 'NA', 'TN10': 'NA', 'TN11': 'NA', 'TN12_1': 'NA', 'TN12_2': 'NA', 'TN12_3': 'NA', 'TN12_4': 'NA', 'HH6': 'Urban', 'HH7': 'Bulawayo', 'MWDOI': '1372', 'MWDOB': '878', 'MWAGE': '40-44', 'MWDOM': '1100', 'MWAGEM': '18', 'MWDOBLC': 'NA', 'MMSTATUS': 'Currently married/in union', 'MCEB': '3', 'MCSURV': '3', 'MCDEAD': '0', 'mwelevel': 'Primary', 'mnweight': '1.031926029', 'wscore': '0.878635264', 'windex5': '4', 'wscoreu': '-0.930720561', 'windex5u': '1', 'wscorer': 'NA', 'windex5r': 'NA'}, {'HH1': '2', 'HH2': '1', 'LN': '5', 'MWM1': '2', 'MWM2': '1', 'MWM4': '5', 'MWM5': '9', 'MWM6D': '12', 'MWM6M': '4', 'MWM6Y': '2014', 'MWM7': 'Not at home', 'MWM8': '1', 'MWM9': '40', 'MWM10H': 'NA', 'MWM10M': 'NA', 'MWM11H': 'NA', 'MWM11M': 'NA', 'MWB1M': 'NA', 'MWB1Y': 'NA', 'MWB2': 'NA', 'MWB3': 'NA', 'MWB4': 'NA', 'MWB5': 'NA', 'MWB7': 'NA', 'MMT2': 'NA', 'MMT3': 'NA', 'MMT4': 'NA', 'MMT6': 'NA', 'MMT7': 'NA', 'MMT8': 'NA', 'MMT9': 'NA', 'MMT10': 'NA', 'MMT11': 'NA', 'MMT12': 'NA', 'MMT13': 'NA', 'MMT14': 'NA', 'MCM1': 'NA', 'MCM3': 'NA', 'MCM4': 'NA', 'MCM5A': 'NA', 'MCM5B': 'NA', 'MCM6': 'NA', 'MCM7A': 'NA', 'MCM7B': 'NA', 'MCM8': 'NA', 'MCM9A': 'NA', 'MCM9B': 'NA', 'MCM10': 'NA', 'MCM11A': 'NA', 'MCM11B': 'NA', 'MCM12M': 'NA', 'MCM12Y': 'NA', 'MDV1A': 'NA', 'MDV1B': 'NA', 'MDV1C': 'NA', 'MDV1D': 'NA', 'MDV1E': 'NA', 'MDV1F': 'NA', 'MMA1': 'NA', 'MMA3': 'NA', 'MMA4': 'NA', 'MMA5': 'NA', 'MMA6': 'NA', 'MMA7': 'NA', 'MMA8M': 'NA', 'MMA8Y': 'NA', 'MMA9': 'NA', 'MSB1': 'NA', 'MSB2': 'NA', 'MSB3U': 'NA', 'MSB3N': 'NA', 'MSB4': 'NA', 'MSB5': 'NA', 'MSB8': 'NA', 'MSB9': 'NA', 'MSB10': 'NA', 'MSB13': 'NA', 'MSB14': 'NA', 'MSB15': 'NA', 'MHA1': 'NA', 'MHA2': 'NA', 'MHA3': 'NA', 'MHA4': 'NA', 'MHA5': 'NA', 'MHA6': 'NA', 'MHA7': 'NA', 'MHA8A': 'NA', 'MHA8B': 'NA', 'MHA8C': 'NA', 'MHA9': 'NA', 'MHA10': 'NA', 'MHA11': 'NA', 'MHA12': 'NA', 'MHA24': 'NA', 'MHA25': 'NA', 'MHA26': 'NA', 'MHA27': 'NA', 'MMC1': 'NA', 'MMC2': 'NA', 'MMC3': 'NA', 'MMC4': 'NA', 'MTA1': 'NA', 'MTA2': 'NA', 'MTA3': 'NA', 'MTA4': 'NA', 'MTA5': 'NA', 'MTA6': 'NA', 'MTA7': 'NA', 'MTA8A': 'NA', 'MTA8B': 'NA', 'MTA8C': 'NA', 'MTA8D': 'NA', 'MTA8E': 'NA', 'MTA8X': 'NA', 'MTA9': 'NA', 'MTA10': 'NA', 'MTA11': 'NA', 'MTA12A': 'NA', 'MTA12B': 'NA', 'MTA12C': 'NA', 'MTA12X': 'NA', 'MTA13': 'NA', 'MTA14': 'NA', 'MTA15': 'NA', 'MTA16': 'NA', 'MTA17': 'NA', 'TNLN': 'NA', 'TN4': 'NA', 'TN5': 'NA', 'TN6': 'NA', 'TN8': 'NA', 'TN9': 'NA', 'TN10': 'NA', 'TN11': 'NA', 'TN12_1': 'NA', 'TN12_2': 'NA', 'TN12_3': 'NA', 'TN12_4': 'NA', 'HH6': 'Urban', 'HH7': 'Bulawayo', 'MWDOI': '1372', 'MWDOB': 'NA', 'MWAGE': 'NA', 'MWDOM': 'NA', 'MWAGEM': 'NA', 'MWDOBLC': 'NA', 'MMSTATUS': 'NA', 'MCEB': 'NA', 'MCSURV': 'NA', 'MCDEAD': 'NA', 'mwelevel': 'NA', 'mnweight': '0', 'wscore': '0', 'windex5': '0', 'wscoreu': '0', 'windex5u': '0', 'wscorer': '0', 'windex5r': '0'}, {'HH1': '2', 'HH2': '1', 'LN': '8', 'MWM1': '2', 'MWM2': '1', 'MWM4': '8', 'MWM5': '9', 'MWM6D': '8', 'MWM6M': '4', 'MWM6Y': '2014', 'MWM7': 'Completed', 'MWM8': '1', 'MWM9': '40', 'MWM10H': '10', 'MWM10M': '53', 'MWM11H': '11', 'MWM11M': '10', 'MWB1M': '2', 'MWB1Y': '1993', 'MWB2': '21', 'MWB3': 'Yes', 'MWB4': 'Secondary', 'MWB5': '24', 'MWB7': 'NA', 'MMT2': 'Less than once a week', 'MMT3': 'At least once a week', 'MMT4': 'Less than once a week', 'MMT6': 'No', 'MMT7': 'NA', 'MMT8': 'NA', 'MMT9': 'No', 'MMT10': 'NA', 'MMT11': 'NA', 'MMT12': 'Yes', 'MMT13': 'Yes', 'MMT14': 'Almost every day', 'MCM1': 'No', 'MCM3': 'NA', 'MCM4': 'NA', 'MCM5A': 'NA', 'MCM5B': 'NA', 'MCM6': 'NA', 'MCM7A': 'NA', 'MCM7B': 'NA', 'MCM8': 'No', 'MCM9A': 'NA', 'MCM9B': 'NA', 'MCM10': '0', 'MCM11A': 'NA', 'MCM11B': 'NA', 'MCM12M': 'NA', 'MCM12Y': 'NA', 'MDV1A': 'No', 'MDV1B': 'No', 'MDV1C': 'No', 'MDV1D': 'No', 'MDV1E': 'No', 'MDV1F': 'No', 'MMA1': 'No, not in union', 'MMA3': 'NA', 'MMA4': 'NA', 'MMA5': 'No', 'MMA6': 'NA', 'MMA7': 'NA', 'MMA8M': 'NA', 'MMA8Y': 'NA', 'MMA9': 'NA', 'MSB1': '19', 'MSB2': 'Yes', 'MSB3U': 'Months ago', 'MSB3N': '7', 'MSB4': 'Yes', 'MSB5': 'Girlfriend', 'MSB8': 'No', 'MSB9': 'NA', 'MSB10': 'NA', 'MSB13': 'NA', 'MSB14': 'NA', 'MSB15': '3', 'MHA1': 'Yes', 'MHA2': 'Yes', 'MHA3': 'No', 'MHA4': 'Yes', 'MHA5': 'No', 'MHA6': 'No', 'MHA7': 'Yes', 'MHA8A': 'Yes', 'MHA8B': 'Yes', 'MHA8C': 'Yes', 'MHA9': 'Yes', 'MHA10': 'Yes', 'MHA11': 'No', 'MHA12': 'Yes', 'MHA24': 'Yes', 'MHA25': '12-23 months ago', 'MHA26': 'Yes', 'MHA27': 'NA', 'MMC1': 'No', 'MMC2': 'NA', 'MMC3': 'NA', 'MMC4': 'NA', 'MTA1': 'No', 'MTA2': 'NA', 'MTA3': 'NA', 'MTA4': 'NA', 'MTA5': 'NA', 'MTA6': 'No', 'MTA7': 'NA', 'MTA8A': 'NA', 'MTA8B': 'NA', 'MTA8C': 'NA', 'MTA8D': 'NA', 'MTA8E': 'NA', 'MTA8X': 'NA', 'MTA9': 'NA', 'MTA10': 'No', 'MTA11': 'NA', 'MTA12A': 'NA', 'MTA12B': 'NA', 'MTA12C': 'NA', 'MTA12X': 'NA', 'MTA13': 'NA', 'MTA14': 'Yes', 'MTA15': '20', 'MTA16': '10', 'MTA17': '2', 'TNLN': 'NA', 'TN4': 'NA', 'TN5': 'NA', 'TN6': 'NA', 'TN8': 'NA', 'TN9': 'NA', 'TN10': 'NA', 'TN11': 'NA', 'TN12_1': 'NA', 'TN12_2': 'NA', 'TN12_3': 'NA', 'TN12_4': 'NA', 'HH6': 'Urban', 'HH7': 'Bulawayo', 'MWDOI': '1372', 'MWDOB': '1118', 'MWAGE': '20-24', 'MWDOM': 'NA', 'MWAGEM': 'NA', 'MWDOBLC': 'NA', 'MMSTATUS': 'Never married/in union', 'MCEB': '0', 'MCSURV': '0', 'MCDEAD': '0', 'mwelevel': 'Secondary', 'mnweight': '1.031926029', 'wscore': '0.878635264', 'windex5': '4', 'wscoreu': '-0.930720561', 'windex5u': '1', 'wscorer': 'NA', 'windex5r': 'NA'}]\n"
     ]
    }
   ],
   "source": [
    "print(data_rows[:5])"
   ]
  },
  {
   "cell_type": "code",
   "execution_count": 9,
   "id": "5352fbc0-a94f-4a00-9f23-95486eb9b592",
   "metadata": {
    "tags": []
   },
   "outputs": [
    {
     "name": "stdout",
     "output_type": "stream",
     "text": [
      "[{'Name': 'HH1', 'Label': 'Cluster number', 'Question': ''}, {'Name': 'HH2', 'Label': 'Household number', 'Question': ''}, {'Name': 'LN', 'Label': 'Line number', 'Question': ''}, {'Name': 'MWM1', 'Label': 'Cluster number', 'Question': ''}, {'Name': 'MWM2', 'Label': 'Household number', 'Question': ''}]\n"
     ]
    }
   ],
   "source": [
    "print(header_rows[:5])"
   ]
  },
  {
   "cell_type": "code",
   "execution_count": 10,
   "id": "d7c53f33-5143-4fb1-803d-cc53eb37fef7",
   "metadata": {},
   "outputs": [],
   "source": [
    "#Code for checking that there are matches (changed to # to avoid many lines of \"MATCH\""
   ]
  },
  {
   "cell_type": "code",
   "execution_count": 11,
   "id": "21f8d9c5-e2be-4629-ad15-0fe2ebb0f38e",
   "metadata": {
    "tags": []
   },
   "outputs": [],
   "source": [
    "#for data_dict in data_rows:\n",
    "    #for dkey, dval in data_dict.items():\n",
    "        #for header_dict in header_rows:\n",
    "            #for hkey, hval in header_dict.items():\n",
    "                #if dkey == hval:\n",
    "                    #print('match!')\n",
    "    "
   ]
  },
  {
   "cell_type": "code",
   "execution_count": 12,
   "id": "184db4a3-6a3d-43ed-98b2-49de5a2447e9",
   "metadata": {},
   "outputs": [],
   "source": [
    "#similar logic but replace header with new one"
   ]
  },
  {
   "cell_type": "code",
   "execution_count": 13,
   "id": "fa83397d-fd1c-485a-b6e0-1efc593302f6",
   "metadata": {
    "tags": []
   },
   "outputs": [],
   "source": [
    "new_rows = []\n",
    "\n",
    "for data_dict in data_rows:\n",
    "    new_row = {}\n",
    "    for dkey, dval in data_dict.items():\n",
    "        for header_dict in header_rows:\n",
    "            if dkey in header_dict.values():\n",
    "                new_row[header_dict.get('Label')] = dval\n",
    "    new_rows.append(new_row)"
   ]
  },
  {
   "cell_type": "code",
   "execution_count": 14,
   "id": "d391d6d7-cd4c-4045-80e4-f3d3152cdddf",
   "metadata": {
    "tags": []
   },
   "outputs": [
    {
     "name": "stdout",
     "output_type": "stream",
     "text": [
      "{'Cluster number': '1', 'Household number': '17', 'Line number': '1', \"Man's line number\": '1', 'Interviewer number': '14', 'Day of interview': '7', 'Month of interview': '4', 'Year of interview': '2014', \"Result of man's interview\": 'Completed', 'Field editor': '2', 'Data entry clerk': '20', 'Start of interview - Hour': '17', 'Start of interview - Minutes': '59', 'End of interview - Hour': '18', 'End of interview - Minutes': '7', 'Month of birth of man': '5', 'Year of birth of man': '1984', 'Age of man': '29', 'Ever attended school': 'Yes', 'Highest level of school attended': 'Higher', 'Highest grade completed at that level': '31', 'Can read part of the sentence': 'NA', 'Frequency of reading newspaper or magazine': 'Almost every day', 'Frequency of listening to the radio': 'At least once a week', 'Frequency of watching TV': 'Less than once a week', 'Ever used a computer': 'Yes', 'Computer usage in the last 12 months': 'Yes', 'Frequency of computer usage in the last month': 'Almost every day', 'Ever used internet': 'Yes', 'Internet usage in the last 12 months': 'Yes', 'Frequency of Internet usage in the past month': 'Almost every day', 'Ever used a mobile or non-mobile phone': 'Yes', 'Mobile or non-mobile phone usage in the last 12 months': 'Yes', 'Frequency of mobile or non-mobile usage in the past month': 'Almost every day', 'Ever fathered any children with any women': 'No', 'Age when first child was born': 'NA', 'Any sons or daughters living with you': 'NA', 'Sons living with you': 'NA', 'Daughters living with you': 'NA', 'Any sons or daughters not living with you': 'NA', 'Sons living elsewhere': 'NA', 'Daughters living elsewhere': 'NA', 'Ever had child who later died': 'No', 'Boys dead': 'NA', 'Girls dead': 'NA', 'Children ever born': '0', 'Same biological mother': 'NA', 'Number of women respondent fathered children with': 'NA', 'Month of last birth': 'NA', 'Year of last birth': 'NA', 'If she goes out with out telling husband: wife beating justified': 'No', 'If she neglects the children: wife beating justified': 'No', 'If she argues with husband: wife beating justified': 'No', 'If she refuses sex with husband: wife beating justified': 'No', 'If she burns the food: wife beating justified': 'No', 'Is she commits infidelity: wife beating justified': 'No', 'Currently married or living with a man': 'Yes, currently married', 'Haveing other wives or liveing with other women as if you are married': 'No (Only one)', 'How many other wives / partners living with you': 'NA', 'Ever married or lived with a woman': 'NA', 'Marital status': 'NA', 'Married or lived with a woman once or more than once': 'Only once', 'Month of first union': '9', 'Year of first union': '2013', 'Age at first union': 'NA', 'Age at first sexual intercourse': '20', 'Condom used during first sexual intercourse': 'Yes', 'Time since last sexual intercourse (unit)': 'Days ago', 'Time since last sexual intercourse (number)': '0', 'Condom used at last sexual intercourse': 'No', 'Relationship to last sexual partner': 'Wife', 'Sex with any other person in the last 12 month': 'No', 'Condom used with prior sexual partner': 'NA', 'Relationship to prior sexual partner': 'NA', 'Sex with any other man in the last 12 months': 'NA', 'Number of sex partners in last 12 months': 'NA', 'Number of sex partners in lifetime': '5', 'Ever heard of AIDS': 'Yes', 'Can avoid AIDS virus by having one uninfected partner': 'Yes', 'Can get AIDS virus through supernatural means': 'No', 'Can avoid AIDS virus by using a condom correctly every time': 'Yes', 'Can get AIDS virus from mosquito bites': 'No', 'Can get AIDS virus by sharing food with a person who has AIDS': 'No', 'Healthy-looking person may have AIDS virus': 'Yes', 'AIDS virus from mother to child during pregnancy': 'DK', 'AIDS virus from mother to child during delivery': 'Yes', 'AIDS virus from mother to child through breastfeeding': 'DK', 'Should female teacher with AIDS virus be allowed to teach in school': 'Yes', 'Would buy fresh vegetables from shopkeeper with AIDS virus': 'Yes', 'If HH member became infected with AIDS virus, would want it to remain a secret': 'No', 'Willing to care for person with AIDS in household': 'Yes', 'Ever been tested for AIDS virus': 'Yes', 'Most recent time of testing for AIDS virus': 'Less than 12 months ago', 'Received results of AIDS virus test': 'Yes', 'Know a place to get AIDS virus test': 'NA', 'Respondent is circumcised': 'No', 'Age at circumcision': 'NA', 'Person performing circumcision': 'NA', 'Place of circumcision': 'NA', 'Ever tried cigarette smoking': 'No', 'Age when cigarette was smoked for the first time': 'NA', 'Currently smoking cigarettes': 'NA', 'Number of cigarettes smoked in the last 24 hours': 'NA', 'Number of days when cigarettes were smoked in past month': 'NA', 'Ever tried any smoked tobacco products other than cigarettes': 'No', 'Used any smoked tobacco products during the last month': 'NA', 'Type of smoked tobacco product: Cigars': 'NA', 'Type of smoked tobacco product: Water pipe': 'NA', 'Type of smoked tobacco product: Cigarillos': 'NA', 'Type of smoked tobacco product: Pipe': 'NA', 'Type of smoked tomacco product: Rolled tobacco': 'NA', 'Type of smoked tobacco product: Other': 'NA', 'Number of days when tobacco products where smoked in past month': 'NA', 'Ever tried any form of smokeless tobacco products': 'No', 'Used any smokeless tobacco products during the last month': 'NA', 'Type of smokeless tobacco product used: Chewing tobacco': 'NA', 'Type of smokeless tobacco product used: Snuff': 'NA', 'Type of smokeless tobacco product used: Dip': 'NA', 'Type of smokeless tobacco product used: Other': 'NA', 'Number of days when smokeless tobacco products where used in past month': 'NA', 'Ever drunk alcohol': 'Yes', 'Age when alcohol was used for the first time': '16', 'Number of days when at least one drink of alcohol was used in past month': '0', 'Number of drinks usually consumed': 'NA', 'Net number': 'NA', 'Mosquito net observed': 'NA', 'Brand/type of observed net': 'NA', 'Months ago net obtained': 'NA', 'Net treated with an insecticide when obtained': 'NA', 'Net soaked or dipped since obtained': 'NA', 'Months ago net soaked or dipped': 'NA', 'Persons slept under mosquito net last night': 'NA', 'Person 1 who slept under net': 'NA', 'Person 2 who slept under net': 'NA', 'Person 3 who slept under net': 'NA', 'Person 4 who slept under net': 'NA', 'Area': 'Urban', 'Region': 'Bulawayo', 'Date of interview women (CMC)': '1372', 'Date of birth of woman (CMC)': '1013', 'Age': '25-29', 'Date of marriage (CMC)': '1365', 'Age at first marriage/union': '29', 'Date of birth of last child (CMC)': 'NA', 'Marital/Union status': 'Currently married/in union', 'Children surviving': '0', 'Children dead': '0', 'Wealth index score': '1.603670102', 'Wealth index quintiles': '5'}\n"
     ]
    }
   ],
   "source": [
    "print(new_rows[0])"
   ]
  },
  {
   "cell_type": "code",
   "execution_count": 15,
   "id": "9889332f-419e-4cf1-84a5-81578c93cdf6",
   "metadata": {},
   "outputs": [],
   "source": [
    "#Exploring another method\n",
    "\n",
    "from csv import reader\n"
   ]
  },
  {
   "cell_type": "code",
   "execution_count": 16,
   "id": "1f575af4-dec1-481e-b001-06496e1aa842",
   "metadata": {
    "tags": []
   },
   "outputs": [],
   "source": [
    "data_rdr = reader(open('mn.csv'))\n",
    "header_rdr = reader(open('mn_headers.csv',encoding='UTF-8'))"
   ]
  },
  {
   "cell_type": "code",
   "execution_count": 17,
   "id": "901770e3-a702-4ed5-9e98-6b044f76c87e",
   "metadata": {
    "tags": []
   },
   "outputs": [],
   "source": [
    "data_rows = [d for d in data_rdr]\n",
    "header_rows = [h for h in header_rdr]"
   ]
  },
  {
   "cell_type": "code",
   "execution_count": 18,
   "id": "02464173-628e-4a8d-8e70-a0350973ea37",
   "metadata": {
    "tags": []
   },
   "outputs": [
    {
     "name": "stdout",
     "output_type": "stream",
     "text": [
      "158\n"
     ]
    }
   ],
   "source": [
    "print(len(data_rows[0]))"
   ]
  },
  {
   "cell_type": "code",
   "execution_count": 19,
   "id": "f76b07d7-8033-4d79-b4be-865b8d1de8e1",
   "metadata": {
    "tags": []
   },
   "outputs": [
    {
     "name": "stdout",
     "output_type": "stream",
     "text": [
      "212\n"
     ]
    }
   ],
   "source": [
    "print(len(header_rows))"
   ]
  },
  {
   "cell_type": "code",
   "execution_count": 20,
   "id": "05f57ba0-c722-4249-8f45-e0a6240708ad",
   "metadata": {
    "tags": []
   },
   "outputs": [],
   "source": [
    "#A different number of rows"
   ]
  },
  {
   "cell_type": "code",
   "execution_count": 21,
   "id": "59a7f944-4e6a-4542-9699-5c153c55e940",
   "metadata": {
    "tags": []
   },
   "outputs": [
    {
     "data": {
      "text/plain": [
       "['HH1',\n",
       " 'HH2',\n",
       " 'LN',\n",
       " 'MWM1',\n",
       " 'MWM2',\n",
       " 'MWM4',\n",
       " 'MWM5',\n",
       " 'MWM6D',\n",
       " 'MWM6M',\n",
       " 'MWM6Y',\n",
       " 'MWM7',\n",
       " 'MWM8',\n",
       " 'MWM9',\n",
       " 'MWM10H',\n",
       " 'MWM10M',\n",
       " 'MWM11H',\n",
       " 'MWM11M',\n",
       " 'MWB1M',\n",
       " 'MWB1Y',\n",
       " 'MWB2',\n",
       " 'MWB3',\n",
       " 'MWB4',\n",
       " 'MWB5',\n",
       " 'MWB7',\n",
       " 'MMT2',\n",
       " 'MMT3',\n",
       " 'MMT4',\n",
       " 'MMT6',\n",
       " 'MMT7',\n",
       " 'MMT8',\n",
       " 'MMT9',\n",
       " 'MMT10',\n",
       " 'MMT11',\n",
       " 'MMT12',\n",
       " 'MMT13',\n",
       " 'MMT14',\n",
       " 'MCM1',\n",
       " 'MCM3',\n",
       " 'MCM4',\n",
       " 'MCM5A',\n",
       " 'MCM5B',\n",
       " 'MCM6',\n",
       " 'MCM7A',\n",
       " 'MCM7B',\n",
       " 'MCM8',\n",
       " 'MCM9A',\n",
       " 'MCM9B',\n",
       " 'MCM10',\n",
       " 'MCM11A',\n",
       " 'MCM11B',\n",
       " 'MCM12M',\n",
       " 'MCM12Y',\n",
       " 'MDV1A',\n",
       " 'MDV1B',\n",
       " 'MDV1C',\n",
       " 'MDV1D',\n",
       " 'MDV1E',\n",
       " 'MDV1F',\n",
       " 'MMA1',\n",
       " 'MMA3',\n",
       " 'MMA4',\n",
       " 'MMA5',\n",
       " 'MMA6',\n",
       " 'MMA7',\n",
       " 'MMA8M',\n",
       " 'MMA8Y',\n",
       " 'MMA9',\n",
       " 'MSB1',\n",
       " 'MSB2',\n",
       " 'MSB3U',\n",
       " 'MSB3N',\n",
       " 'MSB4',\n",
       " 'MSB5',\n",
       " 'MSB8',\n",
       " 'MSB9',\n",
       " 'MSB10',\n",
       " 'MSB13',\n",
       " 'MSB14',\n",
       " 'MSB15',\n",
       " 'MHA1',\n",
       " 'MHA2',\n",
       " 'MHA3',\n",
       " 'MHA4',\n",
       " 'MHA5',\n",
       " 'MHA6',\n",
       " 'MHA7',\n",
       " 'MHA8A',\n",
       " 'MHA8B',\n",
       " 'MHA8C',\n",
       " 'MHA9',\n",
       " 'MHA10',\n",
       " 'MHA11',\n",
       " 'MHA12',\n",
       " 'MHA24',\n",
       " 'MHA25',\n",
       " 'MHA26',\n",
       " 'MHA27',\n",
       " 'MMC1',\n",
       " 'MMC2',\n",
       " 'MMC3',\n",
       " 'MMC4',\n",
       " 'MTA1',\n",
       " 'MTA2',\n",
       " 'MTA3',\n",
       " 'MTA4',\n",
       " 'MTA5',\n",
       " 'MTA6',\n",
       " 'MTA7',\n",
       " 'MTA8A',\n",
       " 'MTA8B',\n",
       " 'MTA8C',\n",
       " 'MTA8D',\n",
       " 'MTA8E',\n",
       " 'MTA8X',\n",
       " 'MTA9',\n",
       " 'MTA10',\n",
       " 'MTA11',\n",
       " 'MTA12A',\n",
       " 'MTA12B',\n",
       " 'MTA12C',\n",
       " 'MTA12X',\n",
       " 'MTA13',\n",
       " 'MTA14',\n",
       " 'MTA15',\n",
       " 'MTA16',\n",
       " 'MTA17',\n",
       " 'TNLN',\n",
       " 'TN4',\n",
       " 'TN5',\n",
       " 'TN6',\n",
       " 'TN8',\n",
       " 'TN9',\n",
       " 'TN10',\n",
       " 'TN11',\n",
       " 'TN12_1',\n",
       " 'TN12_2',\n",
       " 'TN12_3',\n",
       " 'TN12_4',\n",
       " 'HH6',\n",
       " 'HH7',\n",
       " 'MWDOI',\n",
       " 'MWDOB',\n",
       " 'MWAGE',\n",
       " 'MWDOM',\n",
       " 'MWAGEM',\n",
       " 'MWDOBLC',\n",
       " 'MMSTATUS',\n",
       " 'MCEB',\n",
       " 'MCSURV',\n",
       " 'MCDEAD',\n",
       " 'mwelevel',\n",
       " 'mnweight',\n",
       " 'wscore',\n",
       " 'windex5',\n",
       " 'wscoreu',\n",
       " 'windex5u',\n",
       " 'wscorer',\n",
       " 'windex5r']"
      ]
     },
     "execution_count": 21,
     "metadata": {},
     "output_type": "execute_result"
    }
   ],
   "source": [
    "data_rows[0]"
   ]
  },
  {
   "cell_type": "code",
   "execution_count": 22,
   "id": "9c6028ba-bb33-413b-af6c-34fab3f262f5",
   "metadata": {
    "tags": []
   },
   "outputs": [
    {
     "data": {
      "text/plain": [
       "[['Name', 'Label', 'Question'], ['HH1', 'Cluster number', '']]"
      ]
     },
     "execution_count": 22,
     "metadata": {},
     "output_type": "execute_result"
    }
   ],
   "source": [
    "header_rows[:2]"
   ]
  },
  {
   "cell_type": "code",
   "execution_count": 23,
   "id": "c8bb4e05-fd4f-42e7-a774-cb45a267601f",
   "metadata": {
    "tags": []
   },
   "outputs": [],
   "source": [
    "bad_rows= []"
   ]
  },
  {
   "cell_type": "code",
   "execution_count": 24,
   "id": "84fb55b9-bf28-45c9-afde-0657cc1a27c3",
   "metadata": {
    "tags": []
   },
   "outputs": [
    {
     "name": "stdout",
     "output_type": "stream",
     "text": [
      "152\n"
     ]
    }
   ],
   "source": [
    "for h in header_rows:\n",
    "    if h[0] not in data_rows[0]:\n",
    "        bad_rows.append(h)\n",
    "        \n",
    "for h in bad_rows:\n",
    "    header_rows.remove(h)\n",
    "    \n",
    "print(len(header_rows))    "
   ]
  },
  {
   "cell_type": "code",
   "execution_count": null,
   "id": "57397c81-ab22-45dc-9d92-5d633ad86a1e",
   "metadata": {},
   "outputs": [],
   "source": []
  },
  {
   "cell_type": "code",
   "execution_count": null,
   "id": "4299b8f6-44be-4eef-8dd4-ec593233fd16",
   "metadata": {},
   "outputs": [],
   "source": []
  },
  {
   "cell_type": "code",
   "execution_count": 25,
   "id": "625eada0-b6fd-4ab4-ac5e-7bc093935c0d",
   "metadata": {
    "tags": []
   },
   "outputs": [
    {
     "name": "stdout",
     "output_type": "stream",
     "text": [
      "mismatch! mwelevel\n",
      "mismatch! mnweight\n",
      "mismatch! wscoreu\n",
      "mismatch! windex5u\n",
      "mismatch! wscorer\n",
      "mismatch! windex5r\n"
     ]
    }
   ],
   "source": [
    "#Getting closer to match so need to figure out difference\n",
    "\n",
    "all_short_headers = [h[0] for h in header_rows]\n",
    "\n",
    "for header in data_rows[0]:\n",
    "    if header not in all_short_headers:\n",
    "        print('mismatch!', header)\n"
   ]
  },
  {
   "cell_type": "code",
   "execution_count": 26,
   "id": "a815c9b8-7bd7-44f3-aeae-a11d822f51b0",
   "metadata": {},
   "outputs": [],
   "source": [
    "#Now can investigate or drop this data - factor is whether data is needed or not - fortunetly the version of the file I downloaded already had the correct headers so not as many mismatches!"
   ]
  },
  {
   "cell_type": "code",
   "execution_count": 27,
   "id": "b1173367-7cad-435a-82ec-62947010206c",
   "metadata": {
    "tags": []
   },
   "outputs": [
    {
     "name": "stdout",
     "output_type": "stream",
     "text": [
      "152\n",
      "[(['HH1', 'Cluster number', ''], '1'), (['HH2', 'Household number', ''], '17'), (['LN', 'Line number', ''], '1'), (['MWM1', 'Cluster number', ''], '1'), (['MWM2', 'Household number', ''], '17'), (['MWM4', \"Man's line number\", ''], '1'), (['MWM5', 'Interviewer number', ''], '14'), (['MWM6D', 'Day of interview', ''], '7'), (['MWM6M', 'Month of interview', ''], '4'), (['MWM6Y', 'Year of interview', ''], '2014'), (['MWM7', \"Result of man's interview\", ''], 'Completed'), (['MWM8', 'Field editor', ''], '2'), (['MWM9', 'Data entry clerk', ''], '20'), (['MWM10H', 'Start of interview - Hour', ''], '17'), (['MWM10M', 'Start of interview - Minutes', ''], '59'), (['MWM11H', 'End of interview - Hour', ''], '18'), (['MWM11M', 'End of interview - Minutes', ''], '7'), (['MWB1M', 'Month of birth of man', 'In what month and year were you born?'], '5'), (['MWB1Y', 'Year of birth of man', 'In what month and year were you born?'], '1984'), (['MWB2', 'Age of man', 'How old are you?'], '29'), (['MWB3', 'Ever attended school', 'Have you ever attended school or a preschool institution?'], 'Yes'), (['MWB4', 'Highest level of school attended', 'What is the highest education level you attended?'], 'Higher'), (['MWB5', 'Highest grade completed at that level', 'What is the highest grade/year you completed at that level?'], '31'), (['MWB7', 'Can read part of the sentence', 'Now I would like you to read this sentence to me.\\nShow the sentence on the card to the respondent. If the respondent cannot read the whole sentence, probe: Can you read part of the sentence to me?'], 'NA'), (['MMT2', 'Frequency of reading newspaper or magazine', 'How often do you read a newspaper or magazine: Almost every day, at least once a week, less than once a week or not at all?'], 'Almost every day'), (['MMT3', 'Frequency of listening to the radio', 'Do you listen to the radio almost every day, at least once a week, less than once a week or not at all?'], 'At least once a week'), (['MMT4', 'Frequency of watching TV', 'How often do you watch television: Would you say that you watch TV almost every day, at least once a week, less than once a week or not at all?'], 'Less than once a week'), (['MMT6', 'Ever used a computer', 'Have you ever used a computer?'], 'Yes'), (['MMT7', 'Computer usage in the last 12 months', 'In the last 12 months, have you used a computer from any location?'], 'Yes'), (['MMT8', 'Frequency of computer usage in the last month', 'During the last month, how often did you use a computer: almost every day, at least once a week, less than once a week or not at all?'], 'Almost every day'), (['MMT9', 'Ever used internet', 'Have you ever used the internet?'], 'Yes'), (['MMT10', 'Internet usage in the last 12 months', 'In the last 12 months, have you used the internet?'], 'Yes'), (['MMT11', 'Frequency of Internet usage in the past month', 'During the last month, how often did you use the internet: almost every day, at least once a week, less than once a week or not at all?'], 'Almost every day'), (['MMT12', 'Ever used a mobile or non-mobile phone', ''], 'Yes'), (['MMT13', 'Mobile or non-mobile phone usage in the last 12 months', ''], 'Yes'), (['MMT14', 'Frequency of mobile or non-mobile usage in the past month', ''], 'Almost every day'), (['MCM1', 'Ever fathered any children with any women', 'Now i would like to ask about all the children you have had in your lifetime. I am interested in all of the children that are biologically yours, even if they are not legally yours or do not have your last name.\\nHave you had any biological children with any woman?'], 'No'), (['MCM3', 'Age when first child was born', 'How old were you when your (first) child was born?'], 'NA'), (['MCM4', 'Any sons or daughters living with you', 'Do you have any biological sons or daughters who are now living with you?'], 'NA'), (['MCM5A', 'Sons living with you', 'How many sons live with you?'], 'NA'), (['MCM5B', 'Daughters living with you', 'How many daughters live with you?'], 'NA'), (['MCM6', 'Any sons or daughters not living with you', 'Do you have any biological sons or daughters who are alive but do not live with you?'], 'NA'), (['MCM7A', 'Sons living elsewhere', 'How many sons are alive but do not live with you?'], 'NA'), (['MCM7B', 'Daughters living elsewhere', 'How many daughters are alive but do not live with you?'], 'NA'), (['MCM8', 'Ever had child who later died', 'Have you had a biological son or daughter who was born alive but later died?'], 'No'), (['MCM9A', 'Boys dead', 'How many boys have died?'], 'NA'), (['MCM9B', 'Girls dead', 'How many girls have died?'], 'NA'), (['MCM10', 'Children ever born', ''], '0'), (['MCM11A', 'Same biological mother', 'Did all the biological children you have, have the same biological mother?'], 'NA'), (['MCM11B', 'Number of women respondent fathered children with', 'In all, how many women have you had biological children with?'], 'NA'), (['MCM12M', 'Month of last birth', 'Of these (total number in MCM10) biological children, when was the last one born (even if he or she has died)?'], 'NA'), (['MCM12Y', 'Year of last birth', 'Of these (total number in MCM10) biological children, when was the last one born (even if he or she has died)?'], 'NA'), (['MDV1A', 'If she goes out with out telling husband: wife beating justified', 'Sometimes a husband becomes annoyed or gets angry at things that his wife does. In your opinion, is a husband justified in hitting or beating his wife in the following situations: [A] If she goes out without telling him?'], 'No'), (['MDV1B', 'If she neglects the children: wife beating justified', 'Sometimes a husband becomes annoyed or gets angry at things that his wife does. In your opinion, is a husband justified in hitting or beating his wife in the following situations: [B] If she neglects the children?'], 'No'), (['MDV1C', 'If she argues with husband: wife beating justified', 'Sometimes a husband becomes annoyed or gets angry at things that his wife does. In your opinion, is a husband justified in hitting or beating his wife in the following situations: [C] If she argues with him?'], 'No'), (['MDV1D', 'If she refuses sex with husband: wife beating justified', 'Sometimes a husband becomes annoyed or gets angry at things that his wife does. In your opinion, is a husband justified in hitting or beating his wife in the following situations: [D] If she refuses to have sex with him?'], 'No'), (['MDV1E', 'If she burns the food: wife beating justified', 'Sometimes a husband becomes annoyed or gets angry at things that his wife does. In your opinion, is a husband justified in hitting or beating his wife in the following situations: [E] If she burns the food?'], 'No'), (['MDV1F', 'Is she commits infidelity: wife beating justified', 'Sometimes a husband becomes annoyed or gets angry at things that his wife does. In your opinion, is a husband justified in hitting or beating his wife in the following situations: [F] If she commits infedelity?'], 'No'), (['MMA1', 'Currently married or living with a man', 'Are you currently married or living together with a woman as if married?'], 'Yes, currently married'), (['MMA3', 'Haveing other wives or liveing with other women as if you are married', 'Do you have other wives or do you live with other women as if married?'], 'No (Only one)'), (['MMA4', 'How many other wives / partners living with you', 'How many other wives or live-in partners do you have?'], 'NA'), (['MMA5', 'Ever married or lived with a woman', 'Have you ever been married or lived together with a woman as if married?'], 'NA'), (['MMA6', 'Marital status', 'What is your marital status now: are you widowed, divorced or separated?'], 'NA'), (['MMA7', 'Married or lived with a woman once or more than once', 'Have you been married or lived with a woman only once or more than once?'], 'Only once'), (['MMA8M', 'Month of first union', 'In what month and year did you first marry or start living with a woman as if married?'], '9'), (['MMA8Y', 'Year of first union', 'In what month and year did you first marry or start living with a woman as if married?'], '2013'), (['MMA9', 'Age at first union', 'How old were you when you started living with your first wife/partner?'], 'NA'), (['MSB1', 'Age at first sexual intercourse', 'Now i would like to ask you some questions about sexual activity in order to get a better understanding of some important life issues.\\nThe information you provide will remain strictly confidential. How old were you when you had sexual intercourse for the very first time?'], '20'), (['MSB2', 'Condom used during first sexual intercourse', 'The first time you had sexual intercourse, was a condom used?'], 'Yes'), (['MSB3U', 'Time since last sexual intercourse (unit)', \"When was the last time you had sexual intercourse?\\nRecord 'years ago' only if last intercourse was one or more years ago. If 12 months or more the answer must be recorded in years.\"], 'Days ago'), (['MSB3N', 'Time since last sexual intercourse (number)', \"When was the last time you had sexual intercourse?\\nRecord 'years ago' only if last intercourse was one or more years ago. If 12 months or more the answer must be recorded in years.\"], '0'), (['MSB4', 'Condom used at last sexual intercourse', 'The last time you had sexual intercourse, was a condom used?'], 'No'), (['MSB5', 'Relationship to last sexual partner', 'What was your relationship to the person you last had sexual intercourse with?'], 'Wife'), (['MSB8', 'Sex with any other person in the last 12 month', 'Have you had sexual intercourse with any other person in the last 12 months?'], 'No'), (['MSB9', 'Condom used with prior sexual partner', 'The last time you had sexual intercourse with this other person, was a condom used?'], 'NA'), (['MSB10', 'Relationship to prior sexual partner', 'What was your relationship to this person?'], 'NA'), (['MSB13', 'Sex with any other man in the last 12 months', 'In the last 12 months, have you had sexual intercourse with any other person, other than these two persons?'], 'NA'), (['MSB14', 'Number of sex partners in last 12 months', 'In total, with how many different people have you had sexual intercourse in the last 12 months?'], 'NA'), (['MSB15', 'Number of sex partners in lifetime', 'In total, with how many different people have you had sexual intercourse in your lifetime?'], '5'), (['MHA1', 'Ever heard of AIDS', 'Now i would like to talk with you about something else.\\nHave you ever heard of the HIV virus or an illness called AIDS (or SIDA)?'], 'Yes'), (['MHA2', 'Can avoid AIDS virus by having one uninfected partner', 'Can people reduce their chance of getting the virus that causes AIDS by having just one uninfected sex partner who has no other sex partners?'], 'Yes'), (['MHA3', 'Can get AIDS virus through supernatural means', 'Can people get the virus that causes AIDS because of witchcraft or other supernatural means?'], 'No'), (['MHA4', 'Can avoid AIDS virus by using a condom correctly every time', 'Can people reduce their chance of getting the virus that causes AIDS by using a condom every time they have sex?'], 'Yes'), (['MHA5', 'Can get AIDS virus from mosquito bites', 'Can people get the virus that causes AIDS from mosquito bites?'], 'No'), (['MHA6', 'Can get AIDS virus by sharing food with a person who has AIDS', 'Can people get the virus that causes AIDS by sharing food with a person who has AIDS?'], 'No'), (['MHA7', 'Healthy-looking person may have AIDS virus', 'Is it possible for a healthy-looking person to have the virus that causes AIDS?'], 'Yes'), (['MHA8A', 'AIDS virus from mother to child during pregnancy', 'Can the virus that causes AIDS be transmitted from a mother to her baby: [A] During pregnancy?'], 'DK'), (['MHA8B', 'AIDS virus from mother to child during delivery', 'Can the virus that causes AIDS be transmitted from a mother to her baby: [B] During delivery?'], 'Yes'), (['MHA8C', 'AIDS virus from mother to child through breastfeeding', 'Can the virus that causes AIDS be transmitted from a mother to her baby: [C] By breastfeeding?'], 'DK'), (['MHA9', 'Should female teacher with AIDS virus be allowed to teach in school', 'In your opinion, if a female teacher has the virus that causes AIDS but is not sick, should she be allowed to continue teaching in school?'], 'Yes'), (['MHA10', 'Would buy fresh vegetables from shopkeeper with AIDS virus', 'Would you buy fresh vegetables from a shopkeeper or salesperson if you knew that this person had the virus that causes AIDS?'], 'Yes'), (['MHA11', 'If HH member became infected with AIDS virus, would want it to remain a secret', 'If a member of your family got infected with the virus that causes AIDS, would you want it to remain a secret?'], 'No'), (['MHA12', 'Willing to care for person with AIDS in household', 'If a member of your family became sick with AIDS, would you be willing to care for him or her in your own household?'], 'Yes'), (['MHA24', 'Ever been tested for AIDS virus', 'I don’t want to know the results, but have you ever been tested to see if you have the virus that causes AIDS?'], 'Yes'), (['MHA25', 'Most recent time of testing for AIDS virus', 'When was the most recent time you were tested?'], 'Less than 12 months ago'), (['MHA26', 'Received results of AIDS virus test', 'I don’t want to know the results, but did you get the results of this test?'], 'Yes'), (['MHA27', 'Know a place to get AIDS virus test', 'Do you know of a place where people can go to get tested for the virus that causes AIDS?'], 'NA'), (['MTA1', 'Ever tried cigarette smoking', 'Have you ever tried smoking cigarettes, even taking one or two puffs?'], 'No'), (['MTA2', 'Age when cigarette was smoked for the first time', 'How old were you when you smoked an entire cigarette for the first time?'], 'NA'), (['MTA3', 'Currently smoking cigarettes', 'Do you currently smoke cigarettes?'], 'NA'), (['MTA4', 'Number of cigarettes smoked in the last 24 hours', 'How many cigarettes did you smoke during the last month?'], 'NA'), (['MTA5', 'Number of days when cigarettes were smoked in past month', 'During the last month, on how many days did you smoke cigarettes?'], 'No'), (['MTA6', 'Ever tried any smoked tobacco products other than cigarettes', 'Have you ever tried any smoked tobacco products other than cigarettes, such as cigars (e.g. Cuban), a pipe or waterpipe (narghile/hookah)?'], 'NA'), (['MTA7', 'Used any smoked tobacco products during the last month', 'During the last month, did you use any smoked tobacco products?'], 'NA'), (['MTA8A', 'Type of smoked tobacco product: Cigars', 'What type of smoked tobacco product did you use or smoke during the last month?'], 'NA'), (['MTA8B', 'Type of smoked tobacco product: Water pipe', 'What type of smoked tobacco product did you use or smoke during the last month?'], 'NA'), (['MTA8C', 'Type of smoked tobacco product: Cigarillos', 'What type of smoked tobacco product did you use or smoke during the last month?'], 'No'), (['MTA8D', 'Type of smoked tobacco product: Pipe', 'What type of smoked tobacco product did you use or smoke during the last month?'], 'NA'), (['MTA8E', 'Type of smoked tomacco product: Rolled tobacco', ''], 'NA'), (['MTA8X', 'Type of smoked tobacco product: Other', 'What type of smoked tobacco product did you use or smoke during the last month?'], 'NA'), (['MTA9', 'Number of days when tobacco products where smoked in past month', 'On how many days did you use smoked tobacco products during the last month?'], 'NA'), (['MTA10', 'Ever tried any form of smokeless tobacco products', 'Have you ever tried any form of smokeless tobacco products, such as chewing tobacco, tobacco for sniffing (snuff) or dipping tobacco?'], 'NA'), (['MTA11', 'Used any smokeless tobacco products during the last month', 'Did you use any smokeless tobacco products during the last month?'], 'NA'), (['MTA12A', 'Type of smokeless tobacco product used: Chewing tobacco', 'What type of smokeless tobacco product did you use during the last month?'], 'NA'), (['MTA12B', 'Type of smokeless tobacco product used: Snuff', 'What type of smokeless tobacco product did you use during the last month?'], 'NA'), (['MTA12C', 'Type of smokeless tobacco product used: Dip', 'What type of smokeless tobacco product did you use during the last month?'], 'No'), (['MTA12X', 'Type of smokeless tobacco product used: Other', 'What type of smokeless tobacco product did you use during the last month?'], 'NA'), (['MTA13', 'Number of days when smokeless tobacco products where used in past month', 'On how many days did you use smokeless tobacco products during the last month?'], 'NA'), (['MTA14', 'Ever drunk alcohol', 'Now i would like to ask you some questions about drinking alcohol.\\nHave you ever drunk alcohol?'], 'NA'), (['MTA15', 'Age when alcohol was used for the first time', 'We count one drink of alcohol as one can or bottle of beer, one glass of wine, or one shot of strong drink.\\nHow old were you when you had your first drink of alcohol, not counting a few sips?'], 'NA'), (['MTA16', 'Number of days when at least one drink of alcohol was used in past month', 'During the last month, on how many days did you have at least one drink of alcohol?'], 'NA'), (['MTA17', 'Number of drinks usually consumed', 'In the last month, on those days that you drank alcohol, what is the number of drinks did you usually had?'], 'NA'), (['HH6', 'Area', ''], 'Yes'), (['HH7', 'Region', ''], '16'), (['MWDOI', 'Date of interview women (CMC)', ''], '0'), (['MWDOB', 'Date of birth of woman (CMC)', ''], 'NA'), (['MWAGE', 'Age', ''], 'NA'), (['MWDOM', 'Date of marriage (CMC)', ''], 'NA'), (['MWAGEM', 'Age at first marriage/union', ''], 'NA'), (['MWDOBLC', 'Date of birth of last child (CMC)', ''], 'NA'), (['MMSTATUS', 'Marital/Union status', ''], 'NA'), (['MCEB', 'Children ever born', ''], 'NA'), (['MCSURV', 'Children surviving', ''], 'NA'), (['MCDEAD', 'Children dead', ''], 'NA'), (['MMC1', 'Respondent is circumcised', ''], 'NA'), (['MMC2', 'Age at circumcision', ''], 'NA'), (['MMC3', 'Person performing circumcision', ''], 'NA'), (['MMC4', 'Place of circumcision', ''], 'NA'), (['TNLN', 'Net number', ''], 'Urban'), (['TN4', 'Mosquito net observed', ''], 'Bulawayo'), (['TN5', 'Brand/type of observed net', ''], '1372'), (['TN6', 'Months ago net obtained', 'How many months ago did your household get the mosquito net?'], '1013'), (['TN8', 'Net treated with an insecticide when obtained', 'When you got the net, was it already treated with an insecticide to kill or repel mosquitoes?'], '25-29'), (['TN9', 'Net soaked or dipped since obtained', 'Since you got the net, was it ever soaked or dipped in a liquid to kill or repel mosquitoes?'], '1365'), (['TN10', 'Months ago net soaked or dipped', 'How many months ago was the net last soaked or dipped?'], '29'), (['TN11', 'Persons slept under mosquito net last night', 'Did anyone sleep under this mosquito net last night?'], 'NA'), (['TN12_1', 'Person 1 who slept under net', 'Who slept under this mosquito net last night?'], 'Currently married/in union'), (['TN12_2', 'Person 2 who slept under net', 'Who slept under this mosquito net last night?'], '0'), (['TN12_3', 'Person 3 who slept under net', 'Who slept under this mosquito net last night?'], '0'), (['TN12_4', 'Person 4 who slept under net', 'Who slept under this mosquito net last night?'], '0'), (['wscore', 'Wealth index score', ''], '1.603670102'), (['windex5', 'Wealth index quintiles', ''], '5')]\n"
     ]
    }
   ],
   "source": [
    "#Now to try zip method\n",
    "\n",
    "data_rdr = reader(open('mn.csv'))\n",
    "header_rdr = reader(open('mn_headers.csv',encoding='UTF-8'))\n",
    "\n",
    "data_rows = [d for d in data_rdr]\n",
    "header_rows = [h for h in header_rdr if h[0] in data_rows[0]]\n",
    "\n",
    "print (len(header_rows))\n",
    "\n",
    "all_short_headers = [h[0] for h in header_rows]\n",
    "\n",
    "skip_index = []\n",
    "final_header_rows = []\n",
    "\n",
    "for header in data_rows[0]:\n",
    "    if header not in all_short_headers:\n",
    "        index = data_rows[0].index(header)\n",
    "        skip_index.append(index)\n",
    "    else:\n",
    "        for head in header_rows:\n",
    "            if head[0] == header:\n",
    "                final_header_rows.append(head)\n",
    "                break\n",
    "\n",
    "del all_short_headers\n",
    "\n",
    "new_data = []\n",
    "\n",
    "for row in data_rows[1:]:\n",
    "    new_row = []\n",
    "    for i, d in enumerate(row):\n",
    "        if i not in skip_index:\n",
    "            new_row.append(d)\n",
    "        new_data.append(new_row)\n",
    "\n",
    "\n",
    "zipped_data = []\n",
    "\n",
    "zipped_data = [zip(header_rows, drow) for drow in new_data]\n",
    "print(list(zipped_data[0]))\n"
   ]
  },
  {
   "cell_type": "code",
   "execution_count": 28,
   "id": "23164ca0-232b-462b-81a6-9cdc6326f46b",
   "metadata": {
    "tags": []
   },
   "outputs": [],
   "source": [
    "#Some issues with data at the end - mosquito question with marriage link"
   ]
  },
  {
   "cell_type": "code",
   "execution_count": 29,
   "id": "6638ade5-8777-4e68-8bc8-7c6e60ebdfe9",
   "metadata": {
    "tags": []
   },
   "outputs": [],
   "source": [
    "all_short_headers = [h[0] for h in header_rows]\n",
    "data_headers = []"
   ]
  },
  {
   "cell_type": "code",
   "execution_count": 30,
   "id": "8b3fce9a-0b4f-40c9-920d-101c2c16744f",
   "metadata": {
    "tags": []
   },
   "outputs": [
    {
     "name": "stdout",
     "output_type": "stream",
     "text": [
      "[('HH1', 'HH1'), ('HH2', 'HH2'), ('LN', 'LN'), ('MWM1', 'MWM1'), ('MWM2', 'MWM2'), ('MWM4', 'MWM4'), ('MWM5', 'MWM5'), ('MWM6D', 'MWM6D'), ('MWM6M', 'MWM6M'), ('MWM6Y', 'MWM6Y'), ('MWM7', 'MWM7'), ('MWM8', 'MWM8'), ('MWM9', 'MWM9'), ('MWM10H', 'MWM10H'), ('MWM10M', 'MWM10M'), ('MWM11H', 'MWM11H'), ('MWM11M', 'MWM11M'), ('MWB1M', 'MWB1M'), ('MWB1Y', 'MWB1Y'), ('MWB2', 'MWB2'), ('MWB3', 'MWB3'), ('MWB4', 'MWB4'), ('MWB5', 'MWB5'), ('MWB7', 'MWB7'), ('MMT2', 'MMT2'), ('MMT3', 'MMT3'), ('MMT4', 'MMT4'), ('MMT6', 'MMT6'), ('MMT7', 'MMT7'), ('MMT8', 'MMT8'), ('MMT9', 'MMT9'), ('MMT10', 'MMT10'), ('MMT11', 'MMT11'), ('MMT12', 'MMT12'), ('MMT13', 'MMT13'), ('MMT14', 'MMT14'), ('MCM1', 'MCM1'), ('MCM3', 'MCM3'), ('MCM4', 'MCM4'), ('MCM5A', 'MCM5A'), ('MCM5B', 'MCM5B'), ('MCM6', 'MCM6'), ('MCM7A', 'MCM7A'), ('MCM7B', 'MCM7B'), ('MCM8', 'MCM8'), ('MCM9A', 'MCM9A'), ('MCM9B', 'MCM9B'), ('MCM10', 'MCM10'), ('MCM11A', 'MCM11A'), ('MCM11B', 'MCM11B'), ('MCM12M', 'MCM12M'), ('MCM12Y', 'MCM12Y'), ('MDV1A', 'MDV1A'), ('MDV1B', 'MDV1B'), ('MDV1C', 'MDV1C'), ('MDV1D', 'MDV1D'), ('MDV1E', 'MDV1E'), ('MDV1F', 'MDV1F'), ('MMA1', 'MMA1'), ('MMA3', 'MMA3'), ('MMA4', 'MMA4'), ('MMA5', 'MMA5'), ('MMA6', 'MMA6'), ('MMA7', 'MMA7'), ('MMA8M', 'MMA8M'), ('MMA8Y', 'MMA8Y'), ('MMA9', 'MMA9'), ('MSB1', 'MSB1'), ('MSB2', 'MSB2'), ('MSB3U', 'MSB3U'), ('MSB3N', 'MSB3N'), ('MSB4', 'MSB4'), ('MSB5', 'MSB5'), ('MSB8', 'MSB8'), ('MSB9', 'MSB9'), ('MSB10', 'MSB10'), ('MSB13', 'MSB13'), ('MSB14', 'MSB14'), ('MSB15', 'MSB15'), ('MHA1', 'MHA1'), ('MHA2', 'MHA2'), ('MHA3', 'MHA3'), ('MHA4', 'MHA4'), ('MHA5', 'MHA5'), ('MHA6', 'MHA6'), ('MHA7', 'MHA7'), ('MHA8A', 'MHA8A'), ('MHA8B', 'MHA8B'), ('MHA8C', 'MHA8C'), ('MHA9', 'MHA9'), ('MHA10', 'MHA10'), ('MHA11', 'MHA11'), ('MHA12', 'MHA12'), ('MHA24', 'MHA24'), ('MHA25', 'MHA25'), ('MHA26', 'MHA26'), ('MHA27', 'MHA27'), ('MMC1', 'MTA1'), ('MMC2', 'MTA2'), ('MMC3', 'MTA3'), ('MMC4', 'MTA4'), ('MTA1', 'MTA5'), ('MTA2', 'MTA6'), ('MTA3', 'MTA7'), ('MTA4', 'MTA8A'), ('MTA5', 'MTA8B'), ('MTA6', 'MTA8C'), ('MTA7', 'MTA8D'), ('MTA8A', 'MTA8E'), ('MTA8B', 'MTA8X'), ('MTA8C', 'MTA9'), ('MTA8D', 'MTA10'), ('MTA8E', 'MTA11'), ('MTA8X', 'MTA12A'), ('MTA9', 'MTA12B'), ('MTA10', 'MTA12C'), ('MTA11', 'MTA12X'), ('MTA12A', 'MTA13'), ('MTA12B', 'MTA14'), ('MTA12C', 'MTA15'), ('MTA12X', 'MTA16'), ('MTA13', 'MTA17'), ('MTA14', 'HH6'), ('MTA15', 'HH7'), ('MTA16', 'MWDOI'), ('MTA17', 'MWDOB'), ('TNLN', 'MWAGE'), ('TN4', 'MWDOM'), ('TN5', 'MWAGEM'), ('TN6', 'MWDOBLC'), ('TN8', 'MMSTATUS'), ('TN9', 'MCEB'), ('TN10', 'MCSURV'), ('TN11', 'MCDEAD'), ('TN12_1', 'MMC1'), ('TN12_2', 'MMC2'), ('TN12_3', 'MMC3'), ('TN12_4', 'MMC4'), ('HH6', 'TNLN'), ('HH7', 'TN4'), ('MWDOI', 'TN5'), ('MWDOB', 'TN6'), ('MWAGE', 'TN8'), ('MWDOM', 'TN9'), ('MWAGEM', 'TN10'), ('MWDOBLC', 'TN11'), ('MMSTATUS', 'TN12_1'), ('MCEB', 'TN12_2'), ('MCSURV', 'TN12_3'), ('MCDEAD', 'TN12_4'), ('wscore', 'wscore'), ('windex5', 'windex5')]\n"
     ]
    }
   ],
   "source": [
    "for i, header in enumerate(data_rows[0]): \n",
    "    if i not in skip_index: \n",
    "        data_headers.append(header)\n",
    "        \n",
    "header_match = zip(data_headers, all_short_headers)\n",
    "print(list(header_match))"
   ]
  },
  {
   "cell_type": "code",
   "execution_count": 31,
   "id": "70fcaec3-1aa9-4671-b5b8-9d4966a80f2c",
   "metadata": {
    "tags": []
   },
   "outputs": [
    {
     "name": "stdout",
     "output_type": "stream",
     "text": [
      "152\n",
      "[(['HH1', 'Cluster number', ''], '1'), (['HH2', 'Household number', ''], '17'), (['LN', 'Line number', ''], '1'), (['MWM1', 'Cluster number', ''], '1'), (['MWM2', 'Household number', ''], '17'), (['MWM4', \"Man's line number\", ''], '1'), (['MWM5', 'Interviewer number', ''], '14'), (['MWM6D', 'Day of interview', ''], '7'), (['MWM6M', 'Month of interview', ''], '4'), (['MWM6Y', 'Year of interview', ''], '2014'), (['MWM7', \"Result of man's interview\", ''], 'Completed'), (['MWM8', 'Field editor', ''], '2'), (['MWM9', 'Data entry clerk', ''], '20'), (['MWM10H', 'Start of interview - Hour', ''], '17'), (['MWM10M', 'Start of interview - Minutes', ''], '59'), (['MWM11H', 'End of interview - Hour', ''], '18'), (['MWM11M', 'End of interview - Minutes', ''], '7'), (['MWB1M', 'Month of birth of man', 'In what month and year were you born?'], '5'), (['MWB1Y', 'Year of birth of man', 'In what month and year were you born?'], '1984'), (['MWB2', 'Age of man', 'How old are you?'], '29'), (['MWB3', 'Ever attended school', 'Have you ever attended school or a preschool institution?'], 'Yes'), (['MWB4', 'Highest level of school attended', 'What is the highest education level you attended?'], 'Higher'), (['MWB5', 'Highest grade completed at that level', 'What is the highest grade/year you completed at that level?'], '31'), (['MWB7', 'Can read part of the sentence', 'Now I would like you to read this sentence to me.\\nShow the sentence on the card to the respondent. If the respondent cannot read the whole sentence, probe: Can you read part of the sentence to me?'], 'NA'), (['MMT2', 'Frequency of reading newspaper or magazine', 'How often do you read a newspaper or magazine: Almost every day, at least once a week, less than once a week or not at all?'], 'Almost every day'), (['MMT3', 'Frequency of listening to the radio', 'Do you listen to the radio almost every day, at least once a week, less than once a week or not at all?'], 'At least once a week'), (['MMT4', 'Frequency of watching TV', 'How often do you watch television: Would you say that you watch TV almost every day, at least once a week, less than once a week or not at all?'], 'Less than once a week'), (['MMT6', 'Ever used a computer', 'Have you ever used a computer?'], 'Yes'), (['MMT7', 'Computer usage in the last 12 months', 'In the last 12 months, have you used a computer from any location?'], 'Yes'), (['MMT8', 'Frequency of computer usage in the last month', 'During the last month, how often did you use a computer: almost every day, at least once a week, less than once a week or not at all?'], 'Almost every day'), (['MMT9', 'Ever used internet', 'Have you ever used the internet?'], 'Yes'), (['MMT10', 'Internet usage in the last 12 months', 'In the last 12 months, have you used the internet?'], 'Yes'), (['MMT11', 'Frequency of Internet usage in the past month', 'During the last month, how often did you use the internet: almost every day, at least once a week, less than once a week or not at all?'], 'Almost every day'), (['MMT12', 'Ever used a mobile or non-mobile phone', ''], 'Yes'), (['MMT13', 'Mobile or non-mobile phone usage in the last 12 months', ''], 'Yes'), (['MMT14', 'Frequency of mobile or non-mobile usage in the past month', ''], 'Almost every day'), (['MCM1', 'Ever fathered any children with any women', 'Now i would like to ask about all the children you have had in your lifetime. I am interested in all of the children that are biologically yours, even if they are not legally yours or do not have your last name.\\nHave you had any biological children with any woman?'], 'No'), (['MCM3', 'Age when first child was born', 'How old were you when your (first) child was born?'], 'NA'), (['MCM4', 'Any sons or daughters living with you', 'Do you have any biological sons or daughters who are now living with you?'], 'NA'), (['MCM5A', 'Sons living with you', 'How many sons live with you?'], 'NA'), (['MCM5B', 'Daughters living with you', 'How many daughters live with you?'], 'NA'), (['MCM6', 'Any sons or daughters not living with you', 'Do you have any biological sons or daughters who are alive but do not live with you?'], 'NA'), (['MCM7A', 'Sons living elsewhere', 'How many sons are alive but do not live with you?'], 'NA'), (['MCM7B', 'Daughters living elsewhere', 'How many daughters are alive but do not live with you?'], 'NA'), (['MCM8', 'Ever had child who later died', 'Have you had a biological son or daughter who was born alive but later died?'], 'No'), (['MCM9A', 'Boys dead', 'How many boys have died?'], 'NA'), (['MCM9B', 'Girls dead', 'How many girls have died?'], 'NA'), (['MCM10', 'Children ever born', ''], '0'), (['MCM11A', 'Same biological mother', 'Did all the biological children you have, have the same biological mother?'], 'NA'), (['MCM11B', 'Number of women respondent fathered children with', 'In all, how many women have you had biological children with?'], 'NA'), (['MCM12M', 'Month of last birth', 'Of these (total number in MCM10) biological children, when was the last one born (even if he or she has died)?'], 'NA'), (['MCM12Y', 'Year of last birth', 'Of these (total number in MCM10) biological children, when was the last one born (even if he or she has died)?'], 'NA'), (['MDV1A', 'If she goes out with out telling husband: wife beating justified', 'Sometimes a husband becomes annoyed or gets angry at things that his wife does. In your opinion, is a husband justified in hitting or beating his wife in the following situations: [A] If she goes out without telling him?'], 'No'), (['MDV1B', 'If she neglects the children: wife beating justified', 'Sometimes a husband becomes annoyed or gets angry at things that his wife does. In your opinion, is a husband justified in hitting or beating his wife in the following situations: [B] If she neglects the children?'], 'No'), (['MDV1C', 'If she argues with husband: wife beating justified', 'Sometimes a husband becomes annoyed or gets angry at things that his wife does. In your opinion, is a husband justified in hitting or beating his wife in the following situations: [C] If she argues with him?'], 'No'), (['MDV1D', 'If she refuses sex with husband: wife beating justified', 'Sometimes a husband becomes annoyed or gets angry at things that his wife does. In your opinion, is a husband justified in hitting or beating his wife in the following situations: [D] If she refuses to have sex with him?'], 'No'), (['MDV1E', 'If she burns the food: wife beating justified', 'Sometimes a husband becomes annoyed or gets angry at things that his wife does. In your opinion, is a husband justified in hitting or beating his wife in the following situations: [E] If she burns the food?'], 'No'), (['MDV1F', 'Is she commits infidelity: wife beating justified', 'Sometimes a husband becomes annoyed or gets angry at things that his wife does. In your opinion, is a husband justified in hitting or beating his wife in the following situations: [F] If she commits infedelity?'], 'No'), (['MMA1', 'Currently married or living with a man', 'Are you currently married or living together with a woman as if married?'], 'Yes, currently married'), (['MMA3', 'Haveing other wives or liveing with other women as if you are married', 'Do you have other wives or do you live with other women as if married?'], 'No (Only one)'), (['MMA4', 'How many other wives / partners living with you', 'How many other wives or live-in partners do you have?'], 'NA'), (['MMA5', 'Ever married or lived with a woman', 'Have you ever been married or lived together with a woman as if married?'], 'NA'), (['MMA6', 'Marital status', 'What is your marital status now: are you widowed, divorced or separated?'], 'NA'), (['MMA7', 'Married or lived with a woman once or more than once', 'Have you been married or lived with a woman only once or more than once?'], 'Only once'), (['MMA8M', 'Month of first union', 'In what month and year did you first marry or start living with a woman as if married?'], '9'), (['MMA8Y', 'Year of first union', 'In what month and year did you first marry or start living with a woman as if married?'], '2013'), (['MMA9', 'Age at first union', 'How old were you when you started living with your first wife/partner?'], 'NA'), (['MSB1', 'Age at first sexual intercourse', 'Now i would like to ask you some questions about sexual activity in order to get a better understanding of some important life issues.\\nThe information you provide will remain strictly confidential. How old were you when you had sexual intercourse for the very first time?'], '20'), (['MSB2', 'Condom used during first sexual intercourse', 'The first time you had sexual intercourse, was a condom used?'], 'Yes'), (['MSB3U', 'Time since last sexual intercourse (unit)', \"When was the last time you had sexual intercourse?\\nRecord 'years ago' only if last intercourse was one or more years ago. If 12 months or more the answer must be recorded in years.\"], 'Days ago'), (['MSB3N', 'Time since last sexual intercourse (number)', \"When was the last time you had sexual intercourse?\\nRecord 'years ago' only if last intercourse was one or more years ago. If 12 months or more the answer must be recorded in years.\"], '0'), (['MSB4', 'Condom used at last sexual intercourse', 'The last time you had sexual intercourse, was a condom used?'], 'No'), (['MSB5', 'Relationship to last sexual partner', 'What was your relationship to the person you last had sexual intercourse with?'], 'Wife'), (['MSB8', 'Sex with any other person in the last 12 month', 'Have you had sexual intercourse with any other person in the last 12 months?'], 'No'), (['MSB9', 'Condom used with prior sexual partner', 'The last time you had sexual intercourse with this other person, was a condom used?'], 'NA'), (['MSB10', 'Relationship to prior sexual partner', 'What was your relationship to this person?'], 'NA'), (['MSB13', 'Sex with any other man in the last 12 months', 'In the last 12 months, have you had sexual intercourse with any other person, other than these two persons?'], 'NA'), (['MSB14', 'Number of sex partners in last 12 months', 'In total, with how many different people have you had sexual intercourse in the last 12 months?'], 'NA'), (['MSB15', 'Number of sex partners in lifetime', 'In total, with how many different people have you had sexual intercourse in your lifetime?'], '5'), (['MHA1', 'Ever heard of AIDS', 'Now i would like to talk with you about something else.\\nHave you ever heard of the HIV virus or an illness called AIDS (or SIDA)?'], 'Yes'), (['MHA2', 'Can avoid AIDS virus by having one uninfected partner', 'Can people reduce their chance of getting the virus that causes AIDS by having just one uninfected sex partner who has no other sex partners?'], 'Yes'), (['MHA3', 'Can get AIDS virus through supernatural means', 'Can people get the virus that causes AIDS because of witchcraft or other supernatural means?'], 'No'), (['MHA4', 'Can avoid AIDS virus by using a condom correctly every time', 'Can people reduce their chance of getting the virus that causes AIDS by using a condom every time they have sex?'], 'Yes'), (['MHA5', 'Can get AIDS virus from mosquito bites', 'Can people get the virus that causes AIDS from mosquito bites?'], 'No'), (['MHA6', 'Can get AIDS virus by sharing food with a person who has AIDS', 'Can people get the virus that causes AIDS by sharing food with a person who has AIDS?'], 'No'), (['MHA7', 'Healthy-looking person may have AIDS virus', 'Is it possible for a healthy-looking person to have the virus that causes AIDS?'], 'Yes'), (['MHA8A', 'AIDS virus from mother to child during pregnancy', 'Can the virus that causes AIDS be transmitted from a mother to her baby: [A] During pregnancy?'], 'DK'), (['MHA8B', 'AIDS virus from mother to child during delivery', 'Can the virus that causes AIDS be transmitted from a mother to her baby: [B] During delivery?'], 'Yes'), (['MHA8C', 'AIDS virus from mother to child through breastfeeding', 'Can the virus that causes AIDS be transmitted from a mother to her baby: [C] By breastfeeding?'], 'DK'), (['MHA9', 'Should female teacher with AIDS virus be allowed to teach in school', 'In your opinion, if a female teacher has the virus that causes AIDS but is not sick, should she be allowed to continue teaching in school?'], 'Yes'), (['MHA10', 'Would buy fresh vegetables from shopkeeper with AIDS virus', 'Would you buy fresh vegetables from a shopkeeper or salesperson if you knew that this person had the virus that causes AIDS?'], 'Yes'), (['MHA11', 'If HH member became infected with AIDS virus, would want it to remain a secret', 'If a member of your family got infected with the virus that causes AIDS, would you want it to remain a secret?'], 'No'), (['MHA12', 'Willing to care for person with AIDS in household', 'If a member of your family became sick with AIDS, would you be willing to care for him or her in your own household?'], 'Yes'), (['MHA24', 'Ever been tested for AIDS virus', 'I don’t want to know the results, but have you ever been tested to see if you have the virus that causes AIDS?'], 'Yes'), (['MHA25', 'Most recent time of testing for AIDS virus', 'When was the most recent time you were tested?'], 'Less than 12 months ago'), (['MHA26', 'Received results of AIDS virus test', 'I don’t want to know the results, but did you get the results of this test?'], 'Yes'), (['MHA27', 'Know a place to get AIDS virus test', 'Do you know of a place where people can go to get tested for the virus that causes AIDS?'], 'NA'), (['MTA1', 'Ever tried cigarette smoking', 'Have you ever tried smoking cigarettes, even taking one or two puffs?'], 'No'), (['MTA2', 'Age when cigarette was smoked for the first time', 'How old were you when you smoked an entire cigarette for the first time?'], 'NA'), (['MTA3', 'Currently smoking cigarettes', 'Do you currently smoke cigarettes?'], 'NA'), (['MTA4', 'Number of cigarettes smoked in the last 24 hours', 'How many cigarettes did you smoke during the last month?'], 'NA'), (['MTA5', 'Number of days when cigarettes were smoked in past month', 'During the last month, on how many days did you smoke cigarettes?'], 'No'), (['MTA6', 'Ever tried any smoked tobacco products other than cigarettes', 'Have you ever tried any smoked tobacco products other than cigarettes, such as cigars (e.g. Cuban), a pipe or waterpipe (narghile/hookah)?'], 'NA'), (['MTA7', 'Used any smoked tobacco products during the last month', 'During the last month, did you use any smoked tobacco products?'], 'NA'), (['MTA8A', 'Type of smoked tobacco product: Cigars', 'What type of smoked tobacco product did you use or smoke during the last month?'], 'NA'), (['MTA8B', 'Type of smoked tobacco product: Water pipe', 'What type of smoked tobacco product did you use or smoke during the last month?'], 'NA'), (['MTA8C', 'Type of smoked tobacco product: Cigarillos', 'What type of smoked tobacco product did you use or smoke during the last month?'], 'No'), (['MTA8D', 'Type of smoked tobacco product: Pipe', 'What type of smoked tobacco product did you use or smoke during the last month?'], 'NA'), (['MTA8E', 'Type of smoked tomacco product: Rolled tobacco', ''], 'NA'), (['MTA8X', 'Type of smoked tobacco product: Other', 'What type of smoked tobacco product did you use or smoke during the last month?'], 'NA'), (['MTA9', 'Number of days when tobacco products where smoked in past month', 'On how many days did you use smoked tobacco products during the last month?'], 'NA'), (['MTA10', 'Ever tried any form of smokeless tobacco products', 'Have you ever tried any form of smokeless tobacco products, such as chewing tobacco, tobacco for sniffing (snuff) or dipping tobacco?'], 'NA'), (['MTA11', 'Used any smokeless tobacco products during the last month', 'Did you use any smokeless tobacco products during the last month?'], 'NA'), (['MTA12A', 'Type of smokeless tobacco product used: Chewing tobacco', 'What type of smokeless tobacco product did you use during the last month?'], 'NA'), (['MTA12B', 'Type of smokeless tobacco product used: Snuff', 'What type of smokeless tobacco product did you use during the last month?'], 'NA'), (['MTA12C', 'Type of smokeless tobacco product used: Dip', 'What type of smokeless tobacco product did you use during the last month?'], 'No'), (['MTA12X', 'Type of smokeless tobacco product used: Other', 'What type of smokeless tobacco product did you use during the last month?'], 'NA'), (['MTA13', 'Number of days when smokeless tobacco products where used in past month', 'On how many days did you use smokeless tobacco products during the last month?'], 'NA'), (['MTA14', 'Ever drunk alcohol', 'Now i would like to ask you some questions about drinking alcohol.\\nHave you ever drunk alcohol?'], 'NA'), (['MTA15', 'Age when alcohol was used for the first time', 'We count one drink of alcohol as one can or bottle of beer, one glass of wine, or one shot of strong drink.\\nHow old were you when you had your first drink of alcohol, not counting a few sips?'], 'NA'), (['MTA16', 'Number of days when at least one drink of alcohol was used in past month', 'During the last month, on how many days did you have at least one drink of alcohol?'], 'NA'), (['MTA17', 'Number of drinks usually consumed', 'In the last month, on those days that you drank alcohol, what is the number of drinks did you usually had?'], 'NA'), (['HH6', 'Area', ''], 'Yes'), (['HH7', 'Region', ''], '16'), (['MWDOI', 'Date of interview women (CMC)', ''], '0'), (['MWDOB', 'Date of birth of woman (CMC)', ''], 'NA'), (['MWAGE', 'Age', ''], 'NA'), (['MWDOM', 'Date of marriage (CMC)', ''], 'NA'), (['MWAGEM', 'Age at first marriage/union', ''], 'NA'), (['MWDOBLC', 'Date of birth of last child (CMC)', ''], 'NA'), (['MMSTATUS', 'Marital/Union status', ''], 'NA'), (['MCEB', 'Children ever born', ''], 'NA'), (['MCSURV', 'Children surviving', ''], 'NA'), (['MCDEAD', 'Children dead', ''], 'NA'), (['MMC1', 'Respondent is circumcised', ''], 'NA'), (['MMC2', 'Age at circumcision', ''], 'NA'), (['MMC3', 'Person performing circumcision', ''], 'NA'), (['MMC4', 'Place of circumcision', ''], 'NA'), (['TNLN', 'Net number', ''], 'Urban'), (['TN4', 'Mosquito net observed', ''], 'Bulawayo'), (['TN5', 'Brand/type of observed net', ''], '1372'), (['TN6', 'Months ago net obtained', 'How many months ago did your household get the mosquito net?'], '1013'), (['TN8', 'Net treated with an insecticide when obtained', 'When you got the net, was it already treated with an insecticide to kill or repel mosquitoes?'], '25-29'), (['TN9', 'Net soaked or dipped since obtained', 'Since you got the net, was it ever soaked or dipped in a liquid to kill or repel mosquitoes?'], '1365'), (['TN10', 'Months ago net soaked or dipped', 'How many months ago was the net last soaked or dipped?'], '29'), (['TN11', 'Persons slept under mosquito net last night', 'Did anyone sleep under this mosquito net last night?'], 'NA'), (['TN12_1', 'Person 1 who slept under net', 'Who slept under this mosquito net last night?'], 'Currently married/in union'), (['TN12_2', 'Person 2 who slept under net', 'Who slept under this mosquito net last night?'], '0'), (['TN12_3', 'Person 3 who slept under net', 'Who slept under this mosquito net last night?'], '0'), (['TN12_4', 'Person 4 who slept under net', 'Who slept under this mosquito net last night?'], '0'), (['wscore', 'Wealth index score', ''], '1.603670102'), (['windex5', 'Wealth index quintiles', ''], '5')]\n"
     ]
    }
   ],
   "source": [
    "#Now to try zip method\n",
    "\n",
    "data_rdr = reader(open('mn.csv'))\n",
    "header_rdr = reader(open('mn_headers.csv',encoding='UTF-8'))\n",
    "\n",
    "data_rows = [d for d in data_rdr]\n",
    "header_rows = [h for h in header_rdr if h[0] in data_rows[0]]\n",
    "\n",
    "print (len(header_rows))\n",
    "\n",
    "all_short_headers = [h[0] for h in header_rows]\n",
    "\n",
    "skip_index = []\n",
    "final_header_rows = []\n",
    "\n",
    "for header in data_rows[0]:\n",
    "    if header not in all_short_headers:\n",
    "        index = data_rows[0].index(header)\n",
    "        skip_index.append(index)\n",
    "    else:\n",
    "        for head in header_rows:\n",
    "            if head[0] == header:\n",
    "                final_header_rows.append(head)\n",
    "                break\n",
    "\n",
    "del all_short_headers\n",
    "\n",
    "new_data = []\n",
    "\n",
    "for row in data_rows[1:]:\n",
    "    new_row = []\n",
    "    for i, d in enumerate(row):\n",
    "        if i not in skip_index:\n",
    "            new_row.append(d)\n",
    "        new_data.append(new_row)\n",
    "\n",
    "\n",
    "zipped_data = []\n",
    "\n",
    "zipped_data = [zip(header_rows, drow) for drow in new_data]\n",
    "print(list(zipped_data[0]))"
   ]
  },
  {
   "cell_type": "code",
   "execution_count": 32,
   "id": "a8ebbc29-791f-43f5-8088-6379bf565096",
   "metadata": {
    "tags": []
   },
   "outputs": [
    {
     "data": {
      "text/plain": [
       "1423264"
      ]
     },
     "execution_count": 32,
     "metadata": {},
     "output_type": "execute_result"
    }
   ],
   "source": [
    "len(zipped_data)"
   ]
  },
  {
   "cell_type": "markdown",
   "id": "4de75d58-75e3-4f5d-a980-424cc3dccbbb",
   "metadata": {},
   "source": [
    "Formatting data!\n",
    "\n",
    "Guidance in book not always correct (python 2?) so troubleshooting and changes required to get code running"
   ]
  },
  {
   "cell_type": "code",
   "execution_count": 33,
   "id": "5a5f1118-9427-477a-83b0-9cbbe79ce82d",
   "metadata": {},
   "outputs": [],
   "source": [
    "zipped_data = [zip(header_rows, drow) for drow in new_data]\n",
    "format_data = (list(zipped_data[0]))"
   ]
  },
  {
   "cell_type": "code",
   "execution_count": 34,
   "id": "c617efe2-287c-4f67-ae05-c2827e96addb",
   "metadata": {
    "tags": []
   },
   "outputs": [
    {
     "name": "stdout",
     "output_type": "stream",
     "text": [
      "Question: ['HH1', 'Cluster number', ''] \n",
      " Answer: 1\n",
      "Question: ['HH2', 'Household number', ''] \n",
      " Answer: 17\n",
      "Question: ['LN', 'Line number', ''] \n",
      " Answer: 1\n",
      "Question: ['MWM1', 'Cluster number', ''] \n",
      " Answer: 1\n",
      "Question: ['MWM2', 'Household number', ''] \n",
      " Answer: 17\n",
      "Question: ['MWM4', \"Man's line number\", ''] \n",
      " Answer: 1\n",
      "Question: ['MWM5', 'Interviewer number', ''] \n",
      " Answer: 14\n",
      "Question: ['MWM6D', 'Day of interview', ''] \n",
      " Answer: 7\n",
      "Question: ['MWM6M', 'Month of interview', ''] \n",
      " Answer: 4\n",
      "Question: ['MWM6Y', 'Year of interview', ''] \n",
      " Answer: 2014\n",
      "Question: ['MWM7', \"Result of man's interview\", ''] \n",
      " Answer: Completed\n",
      "Question: ['MWM8', 'Field editor', ''] \n",
      " Answer: 2\n",
      "Question: ['MWM9', 'Data entry clerk', ''] \n",
      " Answer: 20\n",
      "Question: ['MWM10H', 'Start of interview - Hour', ''] \n",
      " Answer: 17\n",
      "Question: ['MWM10M', 'Start of interview - Minutes', ''] \n",
      " Answer: 59\n",
      "Question: ['MWM11H', 'End of interview - Hour', ''] \n",
      " Answer: 18\n",
      "Question: ['MWM11M', 'End of interview - Minutes', ''] \n",
      " Answer: 7\n",
      "Question: ['MWB1M', 'Month of birth of man', 'In what month and year were you born?'] \n",
      " Answer: 5\n",
      "Question: ['MWB1Y', 'Year of birth of man', 'In what month and year were you born?'] \n",
      " Answer: 1984\n",
      "Question: ['MWB2', 'Age of man', 'How old are you?'] \n",
      " Answer: 29\n",
      "Question: ['MWB3', 'Ever attended school', 'Have you ever attended school or a preschool institution?'] \n",
      " Answer: Yes\n",
      "Question: ['MWB4', 'Highest level of school attended', 'What is the highest education level you attended?'] \n",
      " Answer: Higher\n",
      "Question: ['MWB5', 'Highest grade completed at that level', 'What is the highest grade/year you completed at that level?'] \n",
      " Answer: 31\n",
      "Question: ['MWB7', 'Can read part of the sentence', 'Now I would like you to read this sentence to me.\\nShow the sentence on the card to the respondent. If the respondent cannot read the whole sentence, probe: Can you read part of the sentence to me?'] \n",
      " Answer: NA\n",
      "Question: ['MMT2', 'Frequency of reading newspaper or magazine', 'How often do you read a newspaper or magazine: Almost every day, at least once a week, less than once a week or not at all?'] \n",
      " Answer: Almost every day\n",
      "Question: ['MMT3', 'Frequency of listening to the radio', 'Do you listen to the radio almost every day, at least once a week, less than once a week or not at all?'] \n",
      " Answer: At least once a week\n",
      "Question: ['MMT4', 'Frequency of watching TV', 'How often do you watch television: Would you say that you watch TV almost every day, at least once a week, less than once a week or not at all?'] \n",
      " Answer: Less than once a week\n",
      "Question: ['MMT6', 'Ever used a computer', 'Have you ever used a computer?'] \n",
      " Answer: Yes\n",
      "Question: ['MMT7', 'Computer usage in the last 12 months', 'In the last 12 months, have you used a computer from any location?'] \n",
      " Answer: Yes\n",
      "Question: ['MMT8', 'Frequency of computer usage in the last month', 'During the last month, how often did you use a computer: almost every day, at least once a week, less than once a week or not at all?'] \n",
      " Answer: Almost every day\n",
      "Question: ['MMT9', 'Ever used internet', 'Have you ever used the internet?'] \n",
      " Answer: Yes\n",
      "Question: ['MMT10', 'Internet usage in the last 12 months', 'In the last 12 months, have you used the internet?'] \n",
      " Answer: Yes\n",
      "Question: ['MMT11', 'Frequency of Internet usage in the past month', 'During the last month, how often did you use the internet: almost every day, at least once a week, less than once a week or not at all?'] \n",
      " Answer: Almost every day\n",
      "Question: ['MMT12', 'Ever used a mobile or non-mobile phone', ''] \n",
      " Answer: Yes\n",
      "Question: ['MMT13', 'Mobile or non-mobile phone usage in the last 12 months', ''] \n",
      " Answer: Yes\n",
      "Question: ['MMT14', 'Frequency of mobile or non-mobile usage in the past month', ''] \n",
      " Answer: Almost every day\n",
      "Question: ['MCM1', 'Ever fathered any children with any women', 'Now i would like to ask about all the children you have had in your lifetime. I am interested in all of the children that are biologically yours, even if they are not legally yours or do not have your last name.\\nHave you had any biological children with any woman?'] \n",
      " Answer: No\n",
      "Question: ['MCM3', 'Age when first child was born', 'How old were you when your (first) child was born?'] \n",
      " Answer: NA\n",
      "Question: ['MCM4', 'Any sons or daughters living with you', 'Do you have any biological sons or daughters who are now living with you?'] \n",
      " Answer: NA\n",
      "Question: ['MCM5A', 'Sons living with you', 'How many sons live with you?'] \n",
      " Answer: NA\n",
      "Question: ['MCM5B', 'Daughters living with you', 'How many daughters live with you?'] \n",
      " Answer: NA\n",
      "Question: ['MCM6', 'Any sons or daughters not living with you', 'Do you have any biological sons or daughters who are alive but do not live with you?'] \n",
      " Answer: NA\n",
      "Question: ['MCM7A', 'Sons living elsewhere', 'How many sons are alive but do not live with you?'] \n",
      " Answer: NA\n",
      "Question: ['MCM7B', 'Daughters living elsewhere', 'How many daughters are alive but do not live with you?'] \n",
      " Answer: NA\n",
      "Question: ['MCM8', 'Ever had child who later died', 'Have you had a biological son or daughter who was born alive but later died?'] \n",
      " Answer: No\n",
      "Question: ['MCM9A', 'Boys dead', 'How many boys have died?'] \n",
      " Answer: NA\n",
      "Question: ['MCM9B', 'Girls dead', 'How many girls have died?'] \n",
      " Answer: NA\n",
      "Question: ['MCM10', 'Children ever born', ''] \n",
      " Answer: 0\n",
      "Question: ['MCM11A', 'Same biological mother', 'Did all the biological children you have, have the same biological mother?'] \n",
      " Answer: NA\n",
      "Question: ['MCM11B', 'Number of women respondent fathered children with', 'In all, how many women have you had biological children with?'] \n",
      " Answer: NA\n",
      "Question: ['MCM12M', 'Month of last birth', 'Of these (total number in MCM10) biological children, when was the last one born (even if he or she has died)?'] \n",
      " Answer: NA\n",
      "Question: ['MCM12Y', 'Year of last birth', 'Of these (total number in MCM10) biological children, when was the last one born (even if he or she has died)?'] \n",
      " Answer: NA\n",
      "Question: ['MDV1A', 'If she goes out with out telling husband: wife beating justified', 'Sometimes a husband becomes annoyed or gets angry at things that his wife does. In your opinion, is a husband justified in hitting or beating his wife in the following situations: [A] If she goes out without telling him?'] \n",
      " Answer: No\n",
      "Question: ['MDV1B', 'If she neglects the children: wife beating justified', 'Sometimes a husband becomes annoyed or gets angry at things that his wife does. In your opinion, is a husband justified in hitting or beating his wife in the following situations: [B] If she neglects the children?'] \n",
      " Answer: No\n",
      "Question: ['MDV1C', 'If she argues with husband: wife beating justified', 'Sometimes a husband becomes annoyed or gets angry at things that his wife does. In your opinion, is a husband justified in hitting or beating his wife in the following situations: [C] If she argues with him?'] \n",
      " Answer: No\n",
      "Question: ['MDV1D', 'If she refuses sex with husband: wife beating justified', 'Sometimes a husband becomes annoyed or gets angry at things that his wife does. In your opinion, is a husband justified in hitting or beating his wife in the following situations: [D] If she refuses to have sex with him?'] \n",
      " Answer: No\n",
      "Question: ['MDV1E', 'If she burns the food: wife beating justified', 'Sometimes a husband becomes annoyed or gets angry at things that his wife does. In your opinion, is a husband justified in hitting or beating his wife in the following situations: [E] If she burns the food?'] \n",
      " Answer: No\n",
      "Question: ['MDV1F', 'Is she commits infidelity: wife beating justified', 'Sometimes a husband becomes annoyed or gets angry at things that his wife does. In your opinion, is a husband justified in hitting or beating his wife in the following situations: [F] If she commits infedelity?'] \n",
      " Answer: No\n",
      "Question: ['MMA1', 'Currently married or living with a man', 'Are you currently married or living together with a woman as if married?'] \n",
      " Answer: Yes, currently married\n",
      "Question: ['MMA3', 'Haveing other wives or liveing with other women as if you are married', 'Do you have other wives or do you live with other women as if married?'] \n",
      " Answer: No (Only one)\n",
      "Question: ['MMA4', 'How many other wives / partners living with you', 'How many other wives or live-in partners do you have?'] \n",
      " Answer: NA\n",
      "Question: ['MMA5', 'Ever married or lived with a woman', 'Have you ever been married or lived together with a woman as if married?'] \n",
      " Answer: NA\n",
      "Question: ['MMA6', 'Marital status', 'What is your marital status now: are you widowed, divorced or separated?'] \n",
      " Answer: NA\n",
      "Question: ['MMA7', 'Married or lived with a woman once or more than once', 'Have you been married or lived with a woman only once or more than once?'] \n",
      " Answer: Only once\n",
      "Question: ['MMA8M', 'Month of first union', 'In what month and year did you first marry or start living with a woman as if married?'] \n",
      " Answer: 9\n",
      "Question: ['MMA8Y', 'Year of first union', 'In what month and year did you first marry or start living with a woman as if married?'] \n",
      " Answer: 2013\n",
      "Question: ['MMA9', 'Age at first union', 'How old were you when you started living with your first wife/partner?'] \n",
      " Answer: NA\n",
      "Question: ['MSB1', 'Age at first sexual intercourse', 'Now i would like to ask you some questions about sexual activity in order to get a better understanding of some important life issues.\\nThe information you provide will remain strictly confidential. How old were you when you had sexual intercourse for the very first time?'] \n",
      " Answer: 20\n",
      "Question: ['MSB2', 'Condom used during first sexual intercourse', 'The first time you had sexual intercourse, was a condom used?'] \n",
      " Answer: Yes\n",
      "Question: ['MSB3U', 'Time since last sexual intercourse (unit)', \"When was the last time you had sexual intercourse?\\nRecord 'years ago' only if last intercourse was one or more years ago. If 12 months or more the answer must be recorded in years.\"] \n",
      " Answer: Days ago\n",
      "Question: ['MSB3N', 'Time since last sexual intercourse (number)', \"When was the last time you had sexual intercourse?\\nRecord 'years ago' only if last intercourse was one or more years ago. If 12 months or more the answer must be recorded in years.\"] \n",
      " Answer: 0\n",
      "Question: ['MSB4', 'Condom used at last sexual intercourse', 'The last time you had sexual intercourse, was a condom used?'] \n",
      " Answer: No\n",
      "Question: ['MSB5', 'Relationship to last sexual partner', 'What was your relationship to the person you last had sexual intercourse with?'] \n",
      " Answer: Wife\n",
      "Question: ['MSB8', 'Sex with any other person in the last 12 month', 'Have you had sexual intercourse with any other person in the last 12 months?'] \n",
      " Answer: No\n",
      "Question: ['MSB9', 'Condom used with prior sexual partner', 'The last time you had sexual intercourse with this other person, was a condom used?'] \n",
      " Answer: NA\n",
      "Question: ['MSB10', 'Relationship to prior sexual partner', 'What was your relationship to this person?'] \n",
      " Answer: NA\n",
      "Question: ['MSB13', 'Sex with any other man in the last 12 months', 'In the last 12 months, have you had sexual intercourse with any other person, other than these two persons?'] \n",
      " Answer: NA\n",
      "Question: ['MSB14', 'Number of sex partners in last 12 months', 'In total, with how many different people have you had sexual intercourse in the last 12 months?'] \n",
      " Answer: NA\n",
      "Question: ['MSB15', 'Number of sex partners in lifetime', 'In total, with how many different people have you had sexual intercourse in your lifetime?'] \n",
      " Answer: 5\n",
      "Question: ['MHA1', 'Ever heard of AIDS', 'Now i would like to talk with you about something else.\\nHave you ever heard of the HIV virus or an illness called AIDS (or SIDA)?'] \n",
      " Answer: Yes\n",
      "Question: ['MHA2', 'Can avoid AIDS virus by having one uninfected partner', 'Can people reduce their chance of getting the virus that causes AIDS by having just one uninfected sex partner who has no other sex partners?'] \n",
      " Answer: Yes\n",
      "Question: ['MHA3', 'Can get AIDS virus through supernatural means', 'Can people get the virus that causes AIDS because of witchcraft or other supernatural means?'] \n",
      " Answer: No\n",
      "Question: ['MHA4', 'Can avoid AIDS virus by using a condom correctly every time', 'Can people reduce their chance of getting the virus that causes AIDS by using a condom every time they have sex?'] \n",
      " Answer: Yes\n",
      "Question: ['MHA5', 'Can get AIDS virus from mosquito bites', 'Can people get the virus that causes AIDS from mosquito bites?'] \n",
      " Answer: No\n",
      "Question: ['MHA6', 'Can get AIDS virus by sharing food with a person who has AIDS', 'Can people get the virus that causes AIDS by sharing food with a person who has AIDS?'] \n",
      " Answer: No\n",
      "Question: ['MHA7', 'Healthy-looking person may have AIDS virus', 'Is it possible for a healthy-looking person to have the virus that causes AIDS?'] \n",
      " Answer: Yes\n",
      "Question: ['MHA8A', 'AIDS virus from mother to child during pregnancy', 'Can the virus that causes AIDS be transmitted from a mother to her baby: [A] During pregnancy?'] \n",
      " Answer: DK\n",
      "Question: ['MHA8B', 'AIDS virus from mother to child during delivery', 'Can the virus that causes AIDS be transmitted from a mother to her baby: [B] During delivery?'] \n",
      " Answer: Yes\n",
      "Question: ['MHA8C', 'AIDS virus from mother to child through breastfeeding', 'Can the virus that causes AIDS be transmitted from a mother to her baby: [C] By breastfeeding?'] \n",
      " Answer: DK\n",
      "Question: ['MHA9', 'Should female teacher with AIDS virus be allowed to teach in school', 'In your opinion, if a female teacher has the virus that causes AIDS but is not sick, should she be allowed to continue teaching in school?'] \n",
      " Answer: Yes\n",
      "Question: ['MHA10', 'Would buy fresh vegetables from shopkeeper with AIDS virus', 'Would you buy fresh vegetables from a shopkeeper or salesperson if you knew that this person had the virus that causes AIDS?'] \n",
      " Answer: Yes\n",
      "Question: ['MHA11', 'If HH member became infected with AIDS virus, would want it to remain a secret', 'If a member of your family got infected with the virus that causes AIDS, would you want it to remain a secret?'] \n",
      " Answer: No\n",
      "Question: ['MHA12', 'Willing to care for person with AIDS in household', 'If a member of your family became sick with AIDS, would you be willing to care for him or her in your own household?'] \n",
      " Answer: Yes\n",
      "Question: ['MHA24', 'Ever been tested for AIDS virus', 'I don’t want to know the results, but have you ever been tested to see if you have the virus that causes AIDS?'] \n",
      " Answer: Yes\n",
      "Question: ['MHA25', 'Most recent time of testing for AIDS virus', 'When was the most recent time you were tested?'] \n",
      " Answer: Less than 12 months ago\n",
      "Question: ['MHA26', 'Received results of AIDS virus test', 'I don’t want to know the results, but did you get the results of this test?'] \n",
      " Answer: Yes\n",
      "Question: ['MHA27', 'Know a place to get AIDS virus test', 'Do you know of a place where people can go to get tested for the virus that causes AIDS?'] \n",
      " Answer: NA\n",
      "Question: ['MTA1', 'Ever tried cigarette smoking', 'Have you ever tried smoking cigarettes, even taking one or two puffs?'] \n",
      " Answer: No\n",
      "Question: ['MTA2', 'Age when cigarette was smoked for the first time', 'How old were you when you smoked an entire cigarette for the first time?'] \n",
      " Answer: NA\n",
      "Question: ['MTA3', 'Currently smoking cigarettes', 'Do you currently smoke cigarettes?'] \n",
      " Answer: NA\n",
      "Question: ['MTA4', 'Number of cigarettes smoked in the last 24 hours', 'How many cigarettes did you smoke during the last month?'] \n",
      " Answer: NA\n",
      "Question: ['MTA5', 'Number of days when cigarettes were smoked in past month', 'During the last month, on how many days did you smoke cigarettes?'] \n",
      " Answer: No\n",
      "Question: ['MTA6', 'Ever tried any smoked tobacco products other than cigarettes', 'Have you ever tried any smoked tobacco products other than cigarettes, such as cigars (e.g. Cuban), a pipe or waterpipe (narghile/hookah)?'] \n",
      " Answer: NA\n",
      "Question: ['MTA7', 'Used any smoked tobacco products during the last month', 'During the last month, did you use any smoked tobacco products?'] \n",
      " Answer: NA\n",
      "Question: ['MTA8A', 'Type of smoked tobacco product: Cigars', 'What type of smoked tobacco product did you use or smoke during the last month?'] \n",
      " Answer: NA\n",
      "Question: ['MTA8B', 'Type of smoked tobacco product: Water pipe', 'What type of smoked tobacco product did you use or smoke during the last month?'] \n",
      " Answer: NA\n",
      "Question: ['MTA8C', 'Type of smoked tobacco product: Cigarillos', 'What type of smoked tobacco product did you use or smoke during the last month?'] \n",
      " Answer: No\n",
      "Question: ['MTA8D', 'Type of smoked tobacco product: Pipe', 'What type of smoked tobacco product did you use or smoke during the last month?'] \n",
      " Answer: NA\n",
      "Question: ['MTA8E', 'Type of smoked tomacco product: Rolled tobacco', ''] \n",
      " Answer: NA\n",
      "Question: ['MTA8X', 'Type of smoked tobacco product: Other', 'What type of smoked tobacco product did you use or smoke during the last month?'] \n",
      " Answer: NA\n",
      "Question: ['MTA9', 'Number of days when tobacco products where smoked in past month', 'On how many days did you use smoked tobacco products during the last month?'] \n",
      " Answer: NA\n",
      "Question: ['MTA10', 'Ever tried any form of smokeless tobacco products', 'Have you ever tried any form of smokeless tobacco products, such as chewing tobacco, tobacco for sniffing (snuff) or dipping tobacco?'] \n",
      " Answer: NA\n",
      "Question: ['MTA11', 'Used any smokeless tobacco products during the last month', 'Did you use any smokeless tobacco products during the last month?'] \n",
      " Answer: NA\n",
      "Question: ['MTA12A', 'Type of smokeless tobacco product used: Chewing tobacco', 'What type of smokeless tobacco product did you use during the last month?'] \n",
      " Answer: NA\n",
      "Question: ['MTA12B', 'Type of smokeless tobacco product used: Snuff', 'What type of smokeless tobacco product did you use during the last month?'] \n",
      " Answer: NA\n",
      "Question: ['MTA12C', 'Type of smokeless tobacco product used: Dip', 'What type of smokeless tobacco product did you use during the last month?'] \n",
      " Answer: No\n",
      "Question: ['MTA12X', 'Type of smokeless tobacco product used: Other', 'What type of smokeless tobacco product did you use during the last month?'] \n",
      " Answer: NA\n",
      "Question: ['MTA13', 'Number of days when smokeless tobacco products where used in past month', 'On how many days did you use smokeless tobacco products during the last month?'] \n",
      " Answer: NA\n",
      "Question: ['MTA14', 'Ever drunk alcohol', 'Now i would like to ask you some questions about drinking alcohol.\\nHave you ever drunk alcohol?'] \n",
      " Answer: NA\n",
      "Question: ['MTA15', 'Age when alcohol was used for the first time', 'We count one drink of alcohol as one can or bottle of beer, one glass of wine, or one shot of strong drink.\\nHow old were you when you had your first drink of alcohol, not counting a few sips?'] \n",
      " Answer: NA\n",
      "Question: ['MTA16', 'Number of days when at least one drink of alcohol was used in past month', 'During the last month, on how many days did you have at least one drink of alcohol?'] \n",
      " Answer: NA\n",
      "Question: ['MTA17', 'Number of drinks usually consumed', 'In the last month, on those days that you drank alcohol, what is the number of drinks did you usually had?'] \n",
      " Answer: NA\n",
      "Question: ['HH6', 'Area', ''] \n",
      " Answer: Yes\n",
      "Question: ['HH7', 'Region', ''] \n",
      " Answer: 16\n",
      "Question: ['MWDOI', 'Date of interview women (CMC)', ''] \n",
      " Answer: 0\n",
      "Question: ['MWDOB', 'Date of birth of woman (CMC)', ''] \n",
      " Answer: NA\n",
      "Question: ['MWAGE', 'Age', ''] \n",
      " Answer: NA\n",
      "Question: ['MWDOM', 'Date of marriage (CMC)', ''] \n",
      " Answer: NA\n",
      "Question: ['MWAGEM', 'Age at first marriage/union', ''] \n",
      " Answer: NA\n",
      "Question: ['MWDOBLC', 'Date of birth of last child (CMC)', ''] \n",
      " Answer: NA\n",
      "Question: ['MMSTATUS', 'Marital/Union status', ''] \n",
      " Answer: NA\n",
      "Question: ['MCEB', 'Children ever born', ''] \n",
      " Answer: NA\n",
      "Question: ['MCSURV', 'Children surviving', ''] \n",
      " Answer: NA\n",
      "Question: ['MCDEAD', 'Children dead', ''] \n",
      " Answer: NA\n",
      "Question: ['MMC1', 'Respondent is circumcised', ''] \n",
      " Answer: NA\n",
      "Question: ['MMC2', 'Age at circumcision', ''] \n",
      " Answer: NA\n",
      "Question: ['MMC3', 'Person performing circumcision', ''] \n",
      " Answer: NA\n",
      "Question: ['MMC4', 'Place of circumcision', ''] \n",
      " Answer: NA\n",
      "Question: ['TNLN', 'Net number', ''] \n",
      " Answer: Urban\n",
      "Question: ['TN4', 'Mosquito net observed', ''] \n",
      " Answer: Bulawayo\n",
      "Question: ['TN5', 'Brand/type of observed net', ''] \n",
      " Answer: 1372\n",
      "Question: ['TN6', 'Months ago net obtained', 'How many months ago did your household get the mosquito net?'] \n",
      " Answer: 1013\n",
      "Question: ['TN8', 'Net treated with an insecticide when obtained', 'When you got the net, was it already treated with an insecticide to kill or repel mosquitoes?'] \n",
      " Answer: 25-29\n",
      "Question: ['TN9', 'Net soaked or dipped since obtained', 'Since you got the net, was it ever soaked or dipped in a liquid to kill or repel mosquitoes?'] \n",
      " Answer: 1365\n",
      "Question: ['TN10', 'Months ago net soaked or dipped', 'How many months ago was the net last soaked or dipped?'] \n",
      " Answer: 29\n",
      "Question: ['TN11', 'Persons slept under mosquito net last night', 'Did anyone sleep under this mosquito net last night?'] \n",
      " Answer: NA\n",
      "Question: ['TN12_1', 'Person 1 who slept under net', 'Who slept under this mosquito net last night?'] \n",
      " Answer: Currently married/in union\n",
      "Question: ['TN12_2', 'Person 2 who slept under net', 'Who slept under this mosquito net last night?'] \n",
      " Answer: 0\n",
      "Question: ['TN12_3', 'Person 3 who slept under net', 'Who slept under this mosquito net last night?'] \n",
      " Answer: 0\n",
      "Question: ['TN12_4', 'Person 4 who slept under net', 'Who slept under this mosquito net last night?'] \n",
      " Answer: 0\n",
      "Question: ['wscore', 'Wealth index score', ''] \n",
      " Answer: 1.603670102\n",
      "Question: ['windex5', 'Wealth index quintiles', ''] \n",
      " Answer: 5\n"
     ]
    }
   ],
   "source": [
    "for x in format_data:\n",
    "    print('Question: {} \\n Answer: {}'.format( x[0], x[1]))"
   ]
  },
  {
   "cell_type": "code",
   "execution_count": 35,
   "id": "a556a19c-03c6-4ab4-805a-889872e6397d",
   "metadata": {
    "tags": []
   },
   "outputs": [
    {
     "name": "stdout",
     "output_type": "stream",
     "text": [
      "Question: Cluster number \n",
      " Answer: 1\n",
      "Question: Household number \n",
      " Answer: 17\n",
      "Question: Line number \n",
      " Answer: 1\n",
      "Question: Cluster number \n",
      " Answer: 1\n",
      "Question: Household number \n",
      " Answer: 17\n",
      "Question: Man's line number \n",
      " Answer: 1\n",
      "Question: Interviewer number \n",
      " Answer: 14\n",
      "Question: Day of interview \n",
      " Answer: 7\n",
      "Question: Month of interview \n",
      " Answer: 4\n",
      "Question: Year of interview \n",
      " Answer: 2014\n",
      "Question: Result of man's interview \n",
      " Answer: Completed\n",
      "Question: Field editor \n",
      " Answer: 2\n",
      "Question: Data entry clerk \n",
      " Answer: 20\n",
      "Question: Start of interview - Hour \n",
      " Answer: 17\n",
      "Question: Start of interview - Minutes \n",
      " Answer: 59\n",
      "Question: End of interview - Hour \n",
      " Answer: 18\n",
      "Question: End of interview - Minutes \n",
      " Answer: 7\n",
      "Question: Month of birth of man \n",
      " Answer: 5\n",
      "Question: Year of birth of man \n",
      " Answer: 1984\n",
      "Question: Age of man \n",
      " Answer: 29\n",
      "Question: Ever attended school \n",
      " Answer: Yes\n",
      "Question: Highest level of school attended \n",
      " Answer: Higher\n",
      "Question: Highest grade completed at that level \n",
      " Answer: 31\n",
      "Question: Can read part of the sentence \n",
      " Answer: NA\n",
      "Question: Frequency of reading newspaper or magazine \n",
      " Answer: Almost every day\n",
      "Question: Frequency of listening to the radio \n",
      " Answer: At least once a week\n",
      "Question: Frequency of watching TV \n",
      " Answer: Less than once a week\n",
      "Question: Ever used a computer \n",
      " Answer: Yes\n",
      "Question: Computer usage in the last 12 months \n",
      " Answer: Yes\n",
      "Question: Frequency of computer usage in the last month \n",
      " Answer: Almost every day\n",
      "Question: Ever used internet \n",
      " Answer: Yes\n",
      "Question: Internet usage in the last 12 months \n",
      " Answer: Yes\n",
      "Question: Frequency of Internet usage in the past month \n",
      " Answer: Almost every day\n",
      "Question: Ever used a mobile or non-mobile phone \n",
      " Answer: Yes\n",
      "Question: Mobile or non-mobile phone usage in the last 12 months \n",
      " Answer: Yes\n",
      "Question: Frequency of mobile or non-mobile usage in the past month \n",
      " Answer: Almost every day\n",
      "Question: Ever fathered any children with any women \n",
      " Answer: No\n",
      "Question: Age when first child was born \n",
      " Answer: NA\n",
      "Question: Any sons or daughters living with you \n",
      " Answer: NA\n",
      "Question: Sons living with you \n",
      " Answer: NA\n",
      "Question: Daughters living with you \n",
      " Answer: NA\n",
      "Question: Any sons or daughters not living with you \n",
      " Answer: NA\n",
      "Question: Sons living elsewhere \n",
      " Answer: NA\n",
      "Question: Daughters living elsewhere \n",
      " Answer: NA\n",
      "Question: Ever had child who later died \n",
      " Answer: No\n",
      "Question: Boys dead \n",
      " Answer: NA\n",
      "Question: Girls dead \n",
      " Answer: NA\n",
      "Question: Children ever born \n",
      " Answer: 0\n",
      "Question: Same biological mother \n",
      " Answer: NA\n",
      "Question: Number of women respondent fathered children with \n",
      " Answer: NA\n",
      "Question: Month of last birth \n",
      " Answer: NA\n",
      "Question: Year of last birth \n",
      " Answer: NA\n",
      "Question: If she goes out with out telling husband: wife beating justified \n",
      " Answer: No\n",
      "Question: If she neglects the children: wife beating justified \n",
      " Answer: No\n",
      "Question: If she argues with husband: wife beating justified \n",
      " Answer: No\n",
      "Question: If she refuses sex with husband: wife beating justified \n",
      " Answer: No\n",
      "Question: If she burns the food: wife beating justified \n",
      " Answer: No\n",
      "Question: Is she commits infidelity: wife beating justified \n",
      " Answer: No\n",
      "Question: Currently married or living with a man \n",
      " Answer: Yes, currently married\n",
      "Question: Haveing other wives or liveing with other women as if you are married \n",
      " Answer: No (Only one)\n",
      "Question: How many other wives / partners living with you \n",
      " Answer: NA\n",
      "Question: Ever married or lived with a woman \n",
      " Answer: NA\n",
      "Question: Marital status \n",
      " Answer: NA\n",
      "Question: Married or lived with a woman once or more than once \n",
      " Answer: Only once\n",
      "Question: Month of first union \n",
      " Answer: 9\n",
      "Question: Year of first union \n",
      " Answer: 2013\n",
      "Question: Age at first union \n",
      " Answer: NA\n",
      "Question: Age at first sexual intercourse \n",
      " Answer: 20\n",
      "Question: Condom used during first sexual intercourse \n",
      " Answer: Yes\n",
      "Question: Time since last sexual intercourse (unit) \n",
      " Answer: Days ago\n",
      "Question: Time since last sexual intercourse (number) \n",
      " Answer: 0\n",
      "Question: Condom used at last sexual intercourse \n",
      " Answer: No\n",
      "Question: Relationship to last sexual partner \n",
      " Answer: Wife\n",
      "Question: Sex with any other person in the last 12 month \n",
      " Answer: No\n",
      "Question: Condom used with prior sexual partner \n",
      " Answer: NA\n",
      "Question: Relationship to prior sexual partner \n",
      " Answer: NA\n",
      "Question: Sex with any other man in the last 12 months \n",
      " Answer: NA\n",
      "Question: Number of sex partners in last 12 months \n",
      " Answer: NA\n",
      "Question: Number of sex partners in lifetime \n",
      " Answer: 5\n",
      "Question: Ever heard of AIDS \n",
      " Answer: Yes\n",
      "Question: Can avoid AIDS virus by having one uninfected partner \n",
      " Answer: Yes\n",
      "Question: Can get AIDS virus through supernatural means \n",
      " Answer: No\n",
      "Question: Can avoid AIDS virus by using a condom correctly every time \n",
      " Answer: Yes\n",
      "Question: Can get AIDS virus from mosquito bites \n",
      " Answer: No\n",
      "Question: Can get AIDS virus by sharing food with a person who has AIDS \n",
      " Answer: No\n",
      "Question: Healthy-looking person may have AIDS virus \n",
      " Answer: Yes\n",
      "Question: AIDS virus from mother to child during pregnancy \n",
      " Answer: DK\n",
      "Question: AIDS virus from mother to child during delivery \n",
      " Answer: Yes\n",
      "Question: AIDS virus from mother to child through breastfeeding \n",
      " Answer: DK\n",
      "Question: Should female teacher with AIDS virus be allowed to teach in school \n",
      " Answer: Yes\n",
      "Question: Would buy fresh vegetables from shopkeeper with AIDS virus \n",
      " Answer: Yes\n",
      "Question: If HH member became infected with AIDS virus, would want it to remain a secret \n",
      " Answer: No\n",
      "Question: Willing to care for person with AIDS in household \n",
      " Answer: Yes\n",
      "Question: Ever been tested for AIDS virus \n",
      " Answer: Yes\n",
      "Question: Most recent time of testing for AIDS virus \n",
      " Answer: Less than 12 months ago\n",
      "Question: Received results of AIDS virus test \n",
      " Answer: Yes\n",
      "Question: Know a place to get AIDS virus test \n",
      " Answer: NA\n",
      "Question: Ever tried cigarette smoking \n",
      " Answer: No\n",
      "Question: Age when cigarette was smoked for the first time \n",
      " Answer: NA\n",
      "Question: Currently smoking cigarettes \n",
      " Answer: NA\n",
      "Question: Number of cigarettes smoked in the last 24 hours \n",
      " Answer: NA\n",
      "Question: Number of days when cigarettes were smoked in past month \n",
      " Answer: No\n",
      "Question: Ever tried any smoked tobacco products other than cigarettes \n",
      " Answer: NA\n",
      "Question: Used any smoked tobacco products during the last month \n",
      " Answer: NA\n",
      "Question: Type of smoked tobacco product: Cigars \n",
      " Answer: NA\n",
      "Question: Type of smoked tobacco product: Water pipe \n",
      " Answer: NA\n",
      "Question: Type of smoked tobacco product: Cigarillos \n",
      " Answer: No\n",
      "Question: Type of smoked tobacco product: Pipe \n",
      " Answer: NA\n",
      "Question: Type of smoked tomacco product: Rolled tobacco \n",
      " Answer: NA\n",
      "Question: Type of smoked tobacco product: Other \n",
      " Answer: NA\n",
      "Question: Number of days when tobacco products where smoked in past month \n",
      " Answer: NA\n",
      "Question: Ever tried any form of smokeless tobacco products \n",
      " Answer: NA\n",
      "Question: Used any smokeless tobacco products during the last month \n",
      " Answer: NA\n",
      "Question: Type of smokeless tobacco product used: Chewing tobacco \n",
      " Answer: NA\n",
      "Question: Type of smokeless tobacco product used: Snuff \n",
      " Answer: NA\n",
      "Question: Type of smokeless tobacco product used: Dip \n",
      " Answer: No\n",
      "Question: Type of smokeless tobacco product used: Other \n",
      " Answer: NA\n",
      "Question: Number of days when smokeless tobacco products where used in past month \n",
      " Answer: NA\n",
      "Question: Ever drunk alcohol \n",
      " Answer: NA\n",
      "Question: Age when alcohol was used for the first time \n",
      " Answer: NA\n",
      "Question: Number of days when at least one drink of alcohol was used in past month \n",
      " Answer: NA\n",
      "Question: Number of drinks usually consumed \n",
      " Answer: NA\n",
      "Question: Area \n",
      " Answer: Yes\n",
      "Question: Region \n",
      " Answer: 16\n",
      "Question: Date of interview women (CMC) \n",
      " Answer: 0\n",
      "Question: Date of birth of woman (CMC) \n",
      " Answer: NA\n",
      "Question: Age \n",
      " Answer: NA\n",
      "Question: Date of marriage (CMC) \n",
      " Answer: NA\n",
      "Question: Age at first marriage/union \n",
      " Answer: NA\n",
      "Question: Date of birth of last child (CMC) \n",
      " Answer: NA\n",
      "Question: Marital/Union status \n",
      " Answer: NA\n",
      "Question: Children ever born \n",
      " Answer: NA\n",
      "Question: Children surviving \n",
      " Answer: NA\n",
      "Question: Children dead \n",
      " Answer: NA\n",
      "Question: Respondent is circumcised \n",
      " Answer: NA\n",
      "Question: Age at circumcision \n",
      " Answer: NA\n",
      "Question: Person performing circumcision \n",
      " Answer: NA\n",
      "Question: Place of circumcision \n",
      " Answer: NA\n",
      "Question: Net number \n",
      " Answer: Urban\n",
      "Question: Mosquito net observed \n",
      " Answer: Bulawayo\n",
      "Question: Brand/type of observed net \n",
      " Answer: 1372\n",
      "Question: Months ago net obtained \n",
      " Answer: 1013\n",
      "Question: Net treated with an insecticide when obtained \n",
      " Answer: 25-29\n",
      "Question: Net soaked or dipped since obtained \n",
      " Answer: 1365\n",
      "Question: Months ago net soaked or dipped \n",
      " Answer: 29\n",
      "Question: Persons slept under mosquito net last night \n",
      " Answer: NA\n",
      "Question: Person 1 who slept under net \n",
      " Answer: Currently married/in union\n",
      "Question: Person 2 who slept under net \n",
      " Answer: 0\n",
      "Question: Person 3 who slept under net \n",
      " Answer: 0\n",
      "Question: Person 4 who slept under net \n",
      " Answer: 0\n",
      "Question: Wealth index score \n",
      " Answer: 1.603670102\n",
      "Question: Wealth index quintiles \n",
      " Answer: 5\n"
     ]
    }
   ],
   "source": [
    "for x in format_data:\n",
    "    print('Question: {[1]} \\n Answer: {}'.format( x[0], x[1]))"
   ]
  },
  {
   "cell_type": "code",
   "execution_count": 36,
   "id": "a670a3d9-5c1d-4819-8eb1-c250576ce5c1",
   "metadata": {
    "tags": []
   },
   "outputs": [],
   "source": [
    "#Other use of format!"
   ]
  },
  {
   "cell_type": "code",
   "execution_count": 37,
   "id": "bdd543bb-7d8f-497e-a284-c65ed459450b",
   "metadata": {
    "tags": []
   },
   "outputs": [],
   "source": [
    "example_dict = { 'float_number': 1324.321325493, 'very_large_integer': 43890923148390284, 'percentage': .324, } \n",
    "string_to_print = (\"float: {float_number:.2f} \\n \") \n",
    "string_to_print += (\"integer: {very_large_integer:,} \\n \") \n",
    "string_to_print += (\"percentage: {percentage:.2%}\")"
   ]
  },
  {
   "cell_type": "code",
   "execution_count": 38,
   "id": "64ff2252-f227-4d57-b6f8-257eae5499bc",
   "metadata": {
    "tags": []
   },
   "outputs": [
    {
     "data": {
      "text/plain": [
       "{'float_number': 1324.321325493,\n",
       " 'very_large_integer': 43890923148390284,\n",
       " 'percentage': 0.324}"
      ]
     },
     "execution_count": 38,
     "metadata": {},
     "output_type": "execute_result"
    }
   ],
   "source": [
    "example_dict\n"
   ]
  },
  {
   "cell_type": "code",
   "execution_count": 39,
   "id": "0ef2cbe8-f8c7-4981-b6df-411127482633",
   "metadata": {
    "tags": []
   },
   "outputs": [
    {
     "name": "stdout",
     "output_type": "stream",
     "text": [
      "float: 1324.32 \n",
      " integer: 43,890,923,148,390,284 \n",
      " percentage: 32.40%\n"
     ]
    }
   ],
   "source": [
    "print (string_to_print.format(**example_dict))"
   ]
  },
  {
   "cell_type": "code",
   "execution_count": 40,
   "id": "87e5f590-1e5f-4ef9-b211-2ac5bc0a419f",
   "metadata": {
    "tags": []
   },
   "outputs": [],
   "source": [
    "#Dates!"
   ]
  },
  {
   "cell_type": "code",
   "execution_count": 41,
   "id": "47843cfb-0983-48fd-ae88-6a9b4cde66a3",
   "metadata": {
    "tags": []
   },
   "outputs": [],
   "source": [
    "from itertools import islice"
   ]
  },
  {
   "cell_type": "code",
   "execution_count": 42,
   "id": "2a93fe05-f9f5-441e-a948-bc020124283a",
   "metadata": {
    "tags": []
   },
   "outputs": [
    {
     "name": "stdout",
     "output_type": "stream",
     "text": [
      "(0, (['HH1', 'Cluster number', ''], '1'))\n",
      "(1, (['HH2', 'Household number', ''], '17'))\n",
      "(2, (['LN', 'Line number', ''], '1'))\n",
      "(3, (['MWM1', 'Cluster number', ''], '1'))\n",
      "(4, (['MWM2', 'Household number', ''], '17'))\n",
      "(5, (['MWM4', \"Man's line number\", ''], '1'))\n",
      "(6, (['MWM5', 'Interviewer number', ''], '14'))\n",
      "(7, (['MWM6D', 'Day of interview', ''], '7'))\n",
      "(8, (['MWM6M', 'Month of interview', ''], '4'))\n",
      "(9, (['MWM6Y', 'Year of interview', ''], '2014'))\n",
      "(10, (['MWM7', \"Result of man's interview\", ''], 'Completed'))\n",
      "(11, (['MWM8', 'Field editor', ''], '2'))\n",
      "(12, (['MWM9', 'Data entry clerk', ''], '20'))\n",
      "(13, (['MWM10H', 'Start of interview - Hour', ''], '17'))\n",
      "(14, (['MWM10M', 'Start of interview - Minutes', ''], '59'))\n",
      "(15, (['MWM11H', 'End of interview - Hour', ''], '18'))\n",
      "(16, (['MWM11M', 'End of interview - Minutes', ''], '7'))\n",
      "(17, (['MWB1M', 'Month of birth of man', 'In what month and year were you born?'], '5'))\n",
      "(18, (['MWB1Y', 'Year of birth of man', 'In what month and year were you born?'], '1984'))\n",
      "(19, (['MWB2', 'Age of man', 'How old are you?'], '29'))\n"
     ]
    }
   ],
   "source": [
    "zipped_data = [zip(header_rows, drow) for drow in new_data]\n",
    "for x in enumerate(list(zipped_data[0])[:20]): \n",
    "    print (x)"
   ]
  },
  {
   "cell_type": "code",
   "execution_count": 43,
   "id": "184ddfff-a656-44e8-b5f7-b73835aa5b2f",
   "metadata": {
    "tags": []
   },
   "outputs": [
    {
     "name": "stdout",
     "output_type": "stream",
     "text": [
      "2014-04-07 17:59:00\n"
     ]
    }
   ],
   "source": [
    "#The text book method did not work so an alternative solution found to extract the data - code not ideal as zipped date being redefined each time.\n",
    "\n",
    "\n",
    "zipped_data = [zip(header_rows, drow) for drow in new_data]\n",
    "from datetime import datetime, timedelta\n",
    "\n",
    "\n",
    "day = list(zipped_data[0])[7][1]\n",
    "zipped_data = [zip(header_rows, drow) for drow in new_data]\n",
    "month = list(zipped_data[0])[8][1]\n",
    "zipped_data = [zip(header_rows, drow) for drow in new_data]\n",
    "year = list(zipped_data[0])[9][1]\n",
    "zipped_data = [zip(header_rows, drow) for drow in new_data]\n",
    "hour = list(zipped_data[0])[13][1]\n",
    "zipped_data = [zip(header_rows, drow) for drow in new_data]\n",
    "minute = list(zipped_data[0])[14][1]\n",
    "# Concatenate the elements into a string\n",
    "start_string = f'{month}/{day}/{year} {hour}:{minute}'\n",
    "# Use the strptime function into a datetime object\n",
    "start_time = datetime.strptime(start_string, '%m/%d/%Y %H:%M')\n",
    "\n",
    "print(start_time)"
   ]
  },
  {
   "cell_type": "code",
   "execution_count": 44,
   "id": "9e518706-929a-483b-9bc2-cbeef3847d8b",
   "metadata": {
    "tags": []
   },
   "outputs": [],
   "source": [
    "#native python route"
   ]
  },
  {
   "cell_type": "code",
   "execution_count": 45,
   "id": "b233ea80-543a-4581-8eec-2b284a678e39",
   "metadata": {},
   "outputs": [],
   "source": [
    "#Suggested code fails due to zip subscriptable issue  - endtime = datetime(int(zipped_data[0][9][1]),int(zippeddata[0][8][1]),int(zipped_data[0][7][1]),int(zipped_data[0][15][1]),int(zipped_data[0][16][1]))"
   ]
  },
  {
   "cell_type": "code",
   "execution_count": 46,
   "id": "a8ce8d3d-fb02-45c6-ad0c-6c2ccdb1da35",
   "metadata": {
    "tags": []
   },
   "outputs": [],
   "source": [
    "#also fails, so manual route again:\n",
    "\n",
    "zipped_data = [zip(header_rows, drow) for drow in new_data]\n",
    "dayend = list(zipped_data[0])[9][1]\n",
    "zipped_data = [zip(header_rows, drow) for drow in new_data]\n",
    "monthend = list(zipped_data[0])[8][1]\n",
    "zipped_data = [zip(header_rows, drow) for drow in new_data]\n",
    "yearend = list(zipped_data[0])[7][1]\n",
    "zipped_data = [zip(header_rows, drow) for drow in new_data]\n",
    "hourend = list(zipped_data[0])[15][1]\n",
    "zipped_data = [zip(header_rows, drow) for drow in new_data]\n",
    "minuteend = list(zipped_data[0])[16][1]\n",
    "# Concatenate the elements into a string\n",
    "end_time = datetime(int(dayend),int(monthend),int(yearend),int(hourend),int(minuteend))\n"
   ]
  },
  {
   "cell_type": "code",
   "execution_count": 47,
   "id": "d75f624a-2f1e-4744-a342-8c6dfe291de5",
   "metadata": {
    "tags": []
   },
   "outputs": [
    {
     "name": "stdout",
     "output_type": "stream",
     "text": [
      "2014-04-07 18:07:00\n"
     ]
    }
   ],
   "source": [
    "print(end_time)"
   ]
  },
  {
   "cell_type": "code",
   "execution_count": 48,
   "id": "16b52c4c-c5e0-4348-91c3-53b9e7d772d3",
   "metadata": {
    "tags": []
   },
   "outputs": [
    {
     "name": "stdout",
     "output_type": "stream",
     "text": [
      "2014-04-07 17:59:00\n"
     ]
    }
   ],
   "source": [
    "#time sums\n",
    "print(start_time)"
   ]
  },
  {
   "cell_type": "code",
   "execution_count": 49,
   "id": "1985a767-01c8-4eb0-a797-6d1e3ca00b59",
   "metadata": {
    "tags": []
   },
   "outputs": [
    {
     "name": "stdout",
     "output_type": "stream",
     "text": [
      "2014-04-07 18:07:00\n"
     ]
    }
   ],
   "source": [
    "print(end_time)"
   ]
  },
  {
   "cell_type": "code",
   "execution_count": 50,
   "id": "ce0e7ae8-1d4a-4362-a232-6c1d363ea976",
   "metadata": {
    "tags": []
   },
   "outputs": [],
   "source": [
    "duration = end_time - start_time"
   ]
  },
  {
   "cell_type": "code",
   "execution_count": 51,
   "id": "cb2d4f96-7314-4cf4-bd7d-7102f3fcf8c0",
   "metadata": {
    "tags": []
   },
   "outputs": [
    {
     "name": "stdout",
     "output_type": "stream",
     "text": [
      "0:08:00\n"
     ]
    }
   ],
   "source": [
    "print(duration) # prints a timedelta (python date time)"
   ]
  },
  {
   "cell_type": "code",
   "execution_count": 52,
   "id": "6d7cb3d2-1fb0-4e6e-837d-497acee0a05f",
   "metadata": {
    "tags": []
   },
   "outputs": [
    {
     "name": "stdout",
     "output_type": "stream",
     "text": [
      "0\n"
     ]
    }
   ],
   "source": [
    "print(duration.days)"
   ]
  },
  {
   "cell_type": "code",
   "execution_count": 53,
   "id": "98194028-c664-4da7-995e-3417e7e126a9",
   "metadata": {},
   "outputs": [
    {
     "name": "stdout",
     "output_type": "stream",
     "text": [
      "480.0\n"
     ]
    }
   ],
   "source": [
    "print(duration.total_seconds())"
   ]
  },
  {
   "cell_type": "code",
   "execution_count": 54,
   "id": "37722bab-dbb1-458c-ac27-0cb89a779a5d",
   "metadata": {},
   "outputs": [],
   "source": [
    "minutes = duration.total_seconds() / 60.0"
   ]
  },
  {
   "cell_type": "code",
   "execution_count": 55,
   "id": "ffff6d07-0d1c-4a49-b5f3-1407304a2b6d",
   "metadata": {
    "tags": []
   },
   "outputs": [
    {
     "data": {
      "text/plain": [
       "8.0"
      ]
     },
     "execution_count": 55,
     "metadata": {},
     "output_type": "execute_result"
    }
   ],
   "source": [
    "minutes"
   ]
  },
  {
   "cell_type": "code",
   "execution_count": 56,
   "id": "11a95da5-00c0-40c0-b58b-02c86ddc8d19",
   "metadata": {
    "tags": []
   },
   "outputs": [
    {
     "name": "stdout",
     "output_type": "stream",
     "text": [
      "04/07/2014 18:07:00\n"
     ]
    }
   ],
   "source": [
    "print(end_time.strftime('%m/%d/%Y %H:%M:%S'))"
   ]
  },
  {
   "cell_type": "code",
   "execution_count": 57,
   "id": "abe9bcb2-4e76-45b5-a67c-2fa086295805",
   "metadata": {
    "tags": []
   },
   "outputs": [
    {
     "name": "stdout",
     "output_type": "stream",
     "text": [
      "Mon Apr  7 17:59:00 2014\n"
     ]
    }
   ],
   "source": [
    "print(start_time.ctime())"
   ]
  },
  {
   "cell_type": "code",
   "execution_count": 58,
   "id": "f341bf69-bfef-414d-906f-827728a79f91",
   "metadata": {
    "tags": []
   },
   "outputs": [
    {
     "name": "stdout",
     "output_type": "stream",
     "text": [
      "04/07/2014 17:59:00\n"
     ]
    }
   ],
   "source": [
    "print(start_time.strftime('%m/%d/%Y %H:%M:%S'))"
   ]
  },
  {
   "cell_type": "markdown",
   "id": "38bfab17-beff-405a-8d74-64f388185bb4",
   "metadata": {},
   "source": [
    "Finding Outliers and Bad Data"
   ]
  },
  {
   "cell_type": "code",
   "execution_count": 59,
   "id": "2d04315c-34c4-45fc-a897-a572b1c3fd83",
   "metadata": {
    "tags": []
   },
   "outputs": [],
   "source": [
    "#test row for gaps\n",
    "\n",
    "zipped_data = [zip(header_rows, drow) for drow in new_data]\n",
    "for answer in zipped_data[0]:\n",
    "    if not answer[1]:\n",
    "        print(answer)"
   ]
  },
  {
   "cell_type": "code",
   "execution_count": 60,
   "id": "4294d3c0-73e4-4d39-ac17-6a54f60c5545",
   "metadata": {
    "tags": []
   },
   "outputs": [],
   "source": [
    "#test dataset for gaps\n",
    "\n",
    "zipped_data = [zip(header_rows, drow) for drow in new_data]\n",
    "for row in zipped_data:\n",
    "    for answer in row:\n",
    "        if answer[1] is None:\n",
    "            print(answer)"
   ]
  },
  {
   "cell_type": "code",
   "execution_count": 61,
   "id": "e64e8017-40ca-45b4-ac30-ed40c947343b",
   "metadata": {
    "tags": []
   },
   "outputs": [
    {
     "name": "stdout",
     "output_type": "stream",
     "text": [
      "{'Can read part of the sentence': 1093834, 'Age when first child was born': 737544, 'Any sons or daughters living with you': 737544, 'Sons living with you': 881798, 'Daughters living with you': 881798, 'Any sons or daughters not living with you': 737544, 'Sons living elsewhere': 1064604, 'Daughters living elsewhere': 1064604, 'Boys dead': 1283908, 'Girls dead': 1283908, 'Same biological mother': 735806, 'Number of women respondent fathered children with': 1240142, 'Month of last birth': 735806, 'Year of last birth': 735806, 'How many other wives / partners living with you': 1393876, 'Ever married or lived with a woman': 843720, 'Marital status': 1362750, 'Age at first union': 1416312, 'Condom used with prior sexual partner': 1288806, 'Relationship to prior sexual partner': 1288806, 'Sex with any other man in the last 12 months': 1288806, 'Number of sex partners in last 12 months': 1389294, 'Know a place to get AIDS virus test': 972964, 'Age when cigarette was smoked for the first time': 1288332, 'Currently smoking cigarettes': 1288332, 'Number of cigarettes smoked in the last 24 hours': 1288332, 'Ever tried any smoked tobacco products other than cigarettes': 930146, 'Used any smoked tobacco products during the last month': 974070, 'Type of smoked tobacco product: Cigars': 1190214, 'Type of smoked tobacco product: Water pipe': 1190214, 'Type of smoked tobacco product: Pipe': 1221024, 'Type of smoked tomacco product: Rolled tobacco': 1418840, 'Type of smoked tobacco product: Other': 1422790, 'Number of days when tobacco products where smoked in past month': 1422948, 'Ever tried any form of smokeless tobacco products': 1422474, 'Used any smokeless tobacco products during the last month': 1316614, 'Type of smokeless tobacco product used: Chewing tobacco': 1421684, 'Type of smokeless tobacco product used: Snuff': 1310294, 'Type of smokeless tobacco product used: Other': 1349794, 'Number of days when smokeless tobacco products where used in past month': 1423264, 'Ever drunk alcohol': 1403356, 'Age when alcohol was used for the first time': 1422790, 'Number of days when at least one drink of alcohol was used in past month': 1423264, 'Number of drinks usually consumed': 1402882, 'Date of birth of woman (CMC)': 1042484, 'Age': 1071556, 'Date of marriage (CMC)': 1071556, 'Age at first marriage/union': 1071556, 'Date of birth of last child (CMC)': 1071556, 'Marital/Union status': 1366542, 'Children ever born': 1526754, 'Children surviving': 1416312, 'Children dead': 1071556, 'Respondent is circumcised': 1071556, 'Age at circumcision': 1071556, 'Person performing circumcision': 1149134, 'Place of circumcision': 1281222, 'Persons slept under mosquito net last night': 1423264, 'Region': 684140, 'Date of interview women (CMC)': 721586, 'Computer usage in the last 12 months': 1068554, 'Frequency of computer usage in the last month': 1140286, 'Internet usage in the last 12 months': 998560, 'Frequency of Internet usage in the past month': 1037112, 'Start of interview - Hour': 172852, 'Start of interview - Minutes': 172852, 'End of interview - Hour': 172852, 'End of interview - Minutes': 172852, 'Month of birth of man': 172852, 'Year of birth of man': 172852, 'Age of man': 172852, 'Ever attended school': 172852, 'Highest level of school attended': 183754, 'Highest grade completed at that level': 183912, 'Frequency of reading newspaper or magazine': 273498, 'Frequency of listening to the radio': 172852, 'Frequency of watching TV': 172852, 'Ever used a computer': 172852, 'Ever used internet': 172852, 'Ever used a mobile or non-mobile phone': 172852, 'Mobile or non-mobile phone usage in the last 12 months': 255960, 'Frequency of mobile or non-mobile usage in the past month': 292300, 'Ever fathered any children with any women': 172852, 'Ever had child who later died': 172852, 'If she goes out with out telling husband: wife beating justified': 172852, 'If she neglects the children: wife beating justified': 172852, 'If she argues with husband: wife beating justified': 172852, 'If she refuses sex with husband: wife beating justified': 172852, 'If she burns the food: wife beating justified': 172852, 'Is she commits infidelity: wife beating justified': 172852, 'Currently married or living with a man': 172852, 'Haveing other wives or liveing with other women as if you are married': 752396, 'Married or lived with a woman once or more than once': 721270, 'Month of first union': 691882, 'Year of first union': 691882, 'Age at first sexual intercourse': 172852, 'Condom used during first sexual intercourse': 463098, 'Time since last sexual intercourse (unit)': 463098, 'Time since last sexual intercourse (number)': 463098, 'Condom used at last sexual intercourse': 531986, 'Relationship to last sexual partner': 531986, 'Sex with any other person in the last 12 month': 531986, 'Number of sex partners in lifetime': 463098, 'Ever heard of AIDS': 172852, 'Can avoid AIDS virus by having one uninfected partner': 187072, 'Can get AIDS virus through supernatural means': 187072, 'Can avoid AIDS virus by using a condom correctly every time': 187072, 'Can get AIDS virus from mosquito bites': 187072, 'Can get AIDS virus by sharing food with a person who has AIDS': 187072, 'Healthy-looking person may have AIDS virus': 187072, 'AIDS virus from mother to child during pregnancy': 187072, 'AIDS virus from mother to child during delivery': 187072, 'AIDS virus from mother to child through breastfeeding': 187072, 'Should female teacher with AIDS virus be allowed to teach in school': 187072, 'Would buy fresh vegetables from shopkeeper with AIDS virus': 187072, 'If HH member became infected with AIDS virus, would want it to remain a secret': 187072, 'Willing to care for person with AIDS in household': 187072, 'Ever been tested for AIDS virus': 187072, 'Most recent time of testing for AIDS virus': 637372, 'Received results of AIDS virus test': 637372, 'Ever tried cigarette smoking': 172852, 'Number of days when cigarettes were smoked in past month': 172852, 'Type of smoked tobacco product: Cigarillos': 172852, 'Type of smokeless tobacco product used: Dip': 172852, 'Area': 172852, 'Months ago net obtained': 172852, 'Net treated with an insecticide when obtained': 172852, 'Net soaked or dipped since obtained': 691882, 'Months ago net soaked or dipped': 691882, 'Person 1 who slept under net': 172852, 'Person 2 who slept under net': 172852, 'Person 3 who slept under net': 172852, 'Person 4 who slept under net': 172852}\n"
     ]
    }
   ],
   "source": [
    "#defines a dictionary to keep track of NA - in a hashed object allows python to quickly accesse\n",
    "zipped_data = [zip(header_rows, drow) for drow in new_data]\n",
    "\n",
    "\n",
    "na_count = {}\n",
    "\n",
    "for row in zipped_data:\n",
    "    for resp in row:\n",
    "        question = resp[0][1]\n",
    "        answer = resp[1]\n",
    "        if answer == 'NA':\n",
    "            if question in na_count.keys():\n",
    "               na_count[question] += 1\n",
    "            else:\n",
    "                na_count[question] = 1\n",
    "\n",
    "print(na_count)"
   ]
  },
  {
   "cell_type": "code",
   "execution_count": 62,
   "id": "f9c4e8fa-2ebd-4a88-90d3-3d68116e9cc8",
   "metadata": {},
   "outputs": [
    {
     "name": "stdout",
     "output_type": "stream",
     "text": [
      "{'Cluster number': {'digit': 1, 'boolean': 0, 'empty': 0, 'time_related': 0, 'text': 0, 'unknown': 0}, 'Household number': {'digit': 1, 'boolean': 0, 'empty': 0, 'time_related': 0, 'text': 0, 'unknown': 0}, 'Line number': {'digit': 1, 'boolean': 0, 'empty': 0, 'time_related': 0, 'text': 0, 'unknown': 0}, \"Man's line number\": {'digit': 1, 'boolean': 0, 'empty': 0, 'time_related': 0, 'text': 0, 'unknown': 0}, 'Interviewer number': {'digit': 1, 'boolean': 0, 'empty': 0, 'time_related': 0, 'text': 0, 'unknown': 0}, 'Day of interview': {'digit': 1, 'boolean': 0, 'empty': 0, 'time_related': 0, 'text': 0, 'unknown': 0}, 'Month of interview': {'digit': 1, 'boolean': 0, 'empty': 0, 'time_related': 0, 'text': 0, 'unknown': 0}, 'Year of interview': {'digit': 1, 'boolean': 0, 'empty': 0, 'time_related': 0, 'text': 0, 'unknown': 0}, \"Result of man's interview\": {'digit': 0, 'boolean': 0, 'empty': 0, 'time_related': 0, 'text': 0, 'unknown': 1}, 'Field editor': {'digit': 1, 'boolean': 0, 'empty': 0, 'time_related': 0, 'text': 0, 'unknown': 0}, 'Data entry clerk': {'digit': 1, 'boolean': 0, 'empty': 0, 'time_related': 0, 'text': 0, 'unknown': 0}, 'Start of interview - Hour': {'digit': 0, 'boolean': 0, 'empty': 0, 'time_related': 0, 'text': 1, 'unknown': 0}, 'Start of interview - Minutes': {'digit': 0, 'boolean': 0, 'empty': 0, 'time_related': 0, 'text': 1, 'unknown': 0}, 'End of interview - Hour': {'digit': 0, 'boolean': 0, 'empty': 0, 'time_related': 0, 'text': 1, 'unknown': 0}, 'End of interview - Minutes': {'digit': 0, 'boolean': 0, 'empty': 0, 'time_related': 0, 'text': 1, 'unknown': 0}, 'Month of birth of man': {'digit': 0, 'boolean': 0, 'empty': 0, 'time_related': 0, 'text': 1, 'unknown': 0}, 'Year of birth of man': {'digit': 0, 'boolean': 0, 'empty': 0, 'time_related': 0, 'text': 1, 'unknown': 0}, 'Age of man': {'digit': 0, 'boolean': 0, 'empty': 0, 'time_related': 0, 'text': 1, 'unknown': 0}, 'Ever attended school': {'digit': 0, 'boolean': 0, 'empty': 0, 'time_related': 0, 'text': 1, 'unknown': 0}, 'Highest level of school attended': {'digit': 0, 'boolean': 0, 'empty': 0, 'time_related': 0, 'text': 1, 'unknown': 0}, 'Highest grade completed at that level': {'digit': 0, 'boolean': 0, 'empty': 0, 'time_related': 0, 'text': 1, 'unknown': 0}, 'Can read part of the sentence': {'digit': 0, 'boolean': 0, 'empty': 0, 'time_related': 0, 'text': 1, 'unknown': 0}, 'Frequency of reading newspaper or magazine': {'digit': 0, 'boolean': 0, 'empty': 0, 'time_related': 0, 'text': 1, 'unknown': 0}, 'Frequency of listening to the radio': {'digit': 0, 'boolean': 0, 'empty': 0, 'time_related': 0, 'text': 1, 'unknown': 0}, 'Frequency of watching TV': {'digit': 0, 'boolean': 0, 'empty': 0, 'time_related': 0, 'text': 1, 'unknown': 0}, 'Ever used a computer': {'digit': 0, 'boolean': 0, 'empty': 0, 'time_related': 0, 'text': 1, 'unknown': 0}, 'Computer usage in the last 12 months': {'digit': 0, 'boolean': 0, 'empty': 0, 'time_related': 0, 'text': 1, 'unknown': 0}, 'Frequency of computer usage in the last month': {'digit': 0, 'boolean': 0, 'empty': 0, 'time_related': 0, 'text': 1, 'unknown': 0}, 'Ever used internet': {'digit': 0, 'boolean': 0, 'empty': 0, 'time_related': 0, 'text': 1, 'unknown': 0}, 'Internet usage in the last 12 months': {'digit': 0, 'boolean': 0, 'empty': 0, 'time_related': 0, 'text': 1, 'unknown': 0}, 'Frequency of Internet usage in the past month': {'digit': 0, 'boolean': 0, 'empty': 0, 'time_related': 0, 'text': 1, 'unknown': 0}, 'Ever used a mobile or non-mobile phone': {'digit': 0, 'boolean': 0, 'empty': 0, 'time_related': 0, 'text': 1, 'unknown': 0}, 'Mobile or non-mobile phone usage in the last 12 months': {'digit': 0, 'boolean': 0, 'empty': 0, 'time_related': 0, 'text': 1, 'unknown': 0}, 'Frequency of mobile or non-mobile usage in the past month': {'digit': 0, 'boolean': 0, 'empty': 0, 'time_related': 0, 'text': 1, 'unknown': 0}, 'Ever fathered any children with any women': {'digit': 0, 'boolean': 0, 'empty': 0, 'time_related': 0, 'text': 1, 'unknown': 0}, 'Age when first child was born': {'digit': 0, 'boolean': 0, 'empty': 0, 'time_related': 0, 'text': 1, 'unknown': 0}, 'Any sons or daughters living with you': {'digit': 0, 'boolean': 0, 'empty': 0, 'time_related': 0, 'text': 1, 'unknown': 0}, 'Sons living with you': {'digit': 0, 'boolean': 0, 'empty': 0, 'time_related': 0, 'text': 1, 'unknown': 0}, 'Daughters living with you': {'digit': 0, 'boolean': 0, 'empty': 0, 'time_related': 0, 'text': 1, 'unknown': 0}, 'Any sons or daughters not living with you': {'digit': 0, 'boolean': 0, 'empty': 0, 'time_related': 0, 'text': 1, 'unknown': 0}, 'Sons living elsewhere': {'digit': 0, 'boolean': 0, 'empty': 0, 'time_related': 0, 'text': 1, 'unknown': 0}, 'Daughters living elsewhere': {'digit': 0, 'boolean': 0, 'empty': 0, 'time_related': 0, 'text': 1, 'unknown': 0}, 'Ever had child who later died': {'digit': 0, 'boolean': 0, 'empty': 0, 'time_related': 0, 'text': 1, 'unknown': 0}, 'Boys dead': {'digit': 0, 'boolean': 0, 'empty': 0, 'time_related': 0, 'text': 1, 'unknown': 0}, 'Girls dead': {'digit': 0, 'boolean': 0, 'empty': 0, 'time_related': 0, 'text': 1, 'unknown': 0}, 'Children ever born': {'digit': 0, 'boolean': 1, 'empty': 0, 'time_related': 0, 'text': 0, 'unknown': 0}, 'Same biological mother': {'digit': 0, 'boolean': 0, 'empty': 0, 'time_related': 0, 'text': 1, 'unknown': 0}, 'Number of women respondent fathered children with': {'digit': 0, 'boolean': 0, 'empty': 0, 'time_related': 0, 'text': 1, 'unknown': 0}, 'Month of last birth': {'digit': 0, 'boolean': 0, 'empty': 0, 'time_related': 0, 'text': 1, 'unknown': 0}, 'Year of last birth': {'digit': 0, 'boolean': 0, 'empty': 0, 'time_related': 0, 'text': 1, 'unknown': 0}, 'If she goes out with out telling husband: wife beating justified': {'digit': 0, 'boolean': 0, 'empty': 0, 'time_related': 0, 'text': 1, 'unknown': 0}, 'If she neglects the children: wife beating justified': {'digit': 0, 'boolean': 0, 'empty': 0, 'time_related': 0, 'text': 1, 'unknown': 0}, 'If she argues with husband: wife beating justified': {'digit': 0, 'boolean': 0, 'empty': 0, 'time_related': 0, 'text': 1, 'unknown': 0}, 'If she refuses sex with husband: wife beating justified': {'digit': 0, 'boolean': 0, 'empty': 0, 'time_related': 0, 'text': 1, 'unknown': 0}, 'If she burns the food: wife beating justified': {'digit': 0, 'boolean': 0, 'empty': 0, 'time_related': 0, 'text': 1, 'unknown': 0}, 'Is she commits infidelity: wife beating justified': {'digit': 0, 'boolean': 0, 'empty': 0, 'time_related': 0, 'text': 1, 'unknown': 0}, 'Currently married or living with a man': {'digit': 0, 'boolean': 0, 'empty': 0, 'time_related': 0, 'text': 1, 'unknown': 0}, 'Haveing other wives or liveing with other women as if you are married': {'digit': 0, 'boolean': 0, 'empty': 0, 'time_related': 0, 'text': 1, 'unknown': 0}, 'How many other wives / partners living with you': {'digit': 0, 'boolean': 0, 'empty': 0, 'time_related': 0, 'text': 1, 'unknown': 0}, 'Ever married or lived with a woman': {'digit': 0, 'boolean': 0, 'empty': 0, 'time_related': 0, 'text': 1, 'unknown': 0}, 'Marital status': {'digit': 0, 'boolean': 0, 'empty': 0, 'time_related': 0, 'text': 1, 'unknown': 0}, 'Married or lived with a woman once or more than once': {'digit': 0, 'boolean': 0, 'empty': 0, 'time_related': 0, 'text': 1, 'unknown': 0}, 'Month of first union': {'digit': 0, 'boolean': 0, 'empty': 0, 'time_related': 0, 'text': 1, 'unknown': 0}, 'Year of first union': {'digit': 0, 'boolean': 0, 'empty': 0, 'time_related': 0, 'text': 1, 'unknown': 0}, 'Age at first union': {'digit': 0, 'boolean': 0, 'empty': 0, 'time_related': 0, 'text': 1, 'unknown': 0}, 'Age at first sexual intercourse': {'digit': 0, 'boolean': 0, 'empty': 0, 'time_related': 0, 'text': 1, 'unknown': 0}, 'Condom used during first sexual intercourse': {'digit': 0, 'boolean': 0, 'empty': 0, 'time_related': 0, 'text': 1, 'unknown': 0}, 'Time since last sexual intercourse (unit)': {'digit': 0, 'boolean': 0, 'empty': 0, 'time_related': 0, 'text': 1, 'unknown': 0}, 'Time since last sexual intercourse (number)': {'digit': 0, 'boolean': 0, 'empty': 0, 'time_related': 0, 'text': 1, 'unknown': 0}, 'Condom used at last sexual intercourse': {'digit': 0, 'boolean': 0, 'empty': 0, 'time_related': 0, 'text': 1, 'unknown': 0}, 'Relationship to last sexual partner': {'digit': 0, 'boolean': 0, 'empty': 0, 'time_related': 0, 'text': 1, 'unknown': 0}, 'Sex with any other person in the last 12 month': {'digit': 0, 'boolean': 0, 'empty': 0, 'time_related': 0, 'text': 1, 'unknown': 0}, 'Condom used with prior sexual partner': {'digit': 0, 'boolean': 0, 'empty': 0, 'time_related': 0, 'text': 1, 'unknown': 0}, 'Relationship to prior sexual partner': {'digit': 0, 'boolean': 0, 'empty': 0, 'time_related': 0, 'text': 1, 'unknown': 0}, 'Sex with any other man in the last 12 months': {'digit': 0, 'boolean': 0, 'empty': 0, 'time_related': 0, 'text': 1, 'unknown': 0}, 'Number of sex partners in last 12 months': {'digit': 0, 'boolean': 0, 'empty': 0, 'time_related': 0, 'text': 1, 'unknown': 0}, 'Number of sex partners in lifetime': {'digit': 0, 'boolean': 0, 'empty': 0, 'time_related': 0, 'text': 1, 'unknown': 0}, 'Ever heard of AIDS': {'digit': 0, 'boolean': 0, 'empty': 0, 'time_related': 0, 'text': 1, 'unknown': 0}, 'Can avoid AIDS virus by having one uninfected partner': {'digit': 0, 'boolean': 0, 'empty': 0, 'time_related': 0, 'text': 1, 'unknown': 0}, 'Can get AIDS virus through supernatural means': {'digit': 0, 'boolean': 0, 'empty': 0, 'time_related': 0, 'text': 1, 'unknown': 0}, 'Can avoid AIDS virus by using a condom correctly every time': {'digit': 0, 'boolean': 0, 'empty': 0, 'time_related': 0, 'text': 1, 'unknown': 0}, 'Can get AIDS virus from mosquito bites': {'digit': 0, 'boolean': 0, 'empty': 0, 'time_related': 0, 'text': 1, 'unknown': 0}, 'Can get AIDS virus by sharing food with a person who has AIDS': {'digit': 0, 'boolean': 0, 'empty': 0, 'time_related': 0, 'text': 1, 'unknown': 0}, 'Healthy-looking person may have AIDS virus': {'digit': 0, 'boolean': 0, 'empty': 0, 'time_related': 0, 'text': 1, 'unknown': 0}, 'AIDS virus from mother to child during pregnancy': {'digit': 0, 'boolean': 0, 'empty': 0, 'time_related': 0, 'text': 1, 'unknown': 0}, 'AIDS virus from mother to child during delivery': {'digit': 0, 'boolean': 0, 'empty': 0, 'time_related': 0, 'text': 1, 'unknown': 0}, 'AIDS virus from mother to child through breastfeeding': {'digit': 0, 'boolean': 0, 'empty': 0, 'time_related': 0, 'text': 1, 'unknown': 0}, 'Should female teacher with AIDS virus be allowed to teach in school': {'digit': 0, 'boolean': 0, 'empty': 0, 'time_related': 0, 'text': 1, 'unknown': 0}, 'Would buy fresh vegetables from shopkeeper with AIDS virus': {'digit': 0, 'boolean': 0, 'empty': 0, 'time_related': 0, 'text': 1, 'unknown': 0}, 'If HH member became infected with AIDS virus, would want it to remain a secret': {'digit': 0, 'boolean': 0, 'empty': 0, 'time_related': 0, 'text': 1, 'unknown': 0}, 'Willing to care for person with AIDS in household': {'digit': 0, 'boolean': 0, 'empty': 0, 'time_related': 0, 'text': 1, 'unknown': 0}, 'Ever been tested for AIDS virus': {'digit': 0, 'boolean': 0, 'empty': 0, 'time_related': 0, 'text': 1, 'unknown': 0}, 'Most recent time of testing for AIDS virus': {'digit': 0, 'boolean': 0, 'empty': 0, 'time_related': 0, 'text': 1, 'unknown': 0}, 'Received results of AIDS virus test': {'digit': 0, 'boolean': 0, 'empty': 0, 'time_related': 0, 'text': 1, 'unknown': 0}, 'Know a place to get AIDS virus test': {'digit': 0, 'boolean': 0, 'empty': 0, 'time_related': 0, 'text': 1, 'unknown': 0}, 'Ever tried cigarette smoking': {'digit': 0, 'boolean': 0, 'empty': 0, 'time_related': 0, 'text': 1, 'unknown': 0}, 'Age when cigarette was smoked for the first time': {'digit': 0, 'boolean': 0, 'empty': 0, 'time_related': 0, 'text': 1, 'unknown': 0}, 'Currently smoking cigarettes': {'digit': 0, 'boolean': 0, 'empty': 0, 'time_related': 0, 'text': 1, 'unknown': 0}, 'Number of cigarettes smoked in the last 24 hours': {'digit': 0, 'boolean': 0, 'empty': 0, 'time_related': 0, 'text': 1, 'unknown': 0}, 'Number of days when cigarettes were smoked in past month': {'digit': 0, 'boolean': 0, 'empty': 0, 'time_related': 0, 'text': 1, 'unknown': 0}, 'Ever tried any smoked tobacco products other than cigarettes': {'digit': 0, 'boolean': 0, 'empty': 0, 'time_related': 0, 'text': 1, 'unknown': 0}, 'Used any smoked tobacco products during the last month': {'digit': 0, 'boolean': 0, 'empty': 0, 'time_related': 0, 'text': 1, 'unknown': 0}, 'Type of smoked tobacco product: Cigars': {'digit': 0, 'boolean': 0, 'empty': 0, 'time_related': 0, 'text': 1, 'unknown': 0}, 'Type of smoked tobacco product: Water pipe': {'digit': 0, 'boolean': 0, 'empty': 0, 'time_related': 0, 'text': 1, 'unknown': 0}, 'Type of smoked tobacco product: Cigarillos': {'digit': 0, 'boolean': 0, 'empty': 0, 'time_related': 0, 'text': 1, 'unknown': 0}, 'Type of smoked tobacco product: Pipe': {'digit': 0, 'boolean': 0, 'empty': 0, 'time_related': 0, 'text': 1, 'unknown': 0}, 'Type of smoked tomacco product: Rolled tobacco': {'digit': 0, 'boolean': 0, 'empty': 0, 'time_related': 0, 'text': 1, 'unknown': 0}, 'Type of smoked tobacco product: Other': {'digit': 0, 'boolean': 0, 'empty': 0, 'time_related': 0, 'text': 1, 'unknown': 0}, 'Number of days when tobacco products where smoked in past month': {'digit': 0, 'boolean': 0, 'empty': 0, 'time_related': 0, 'text': 1, 'unknown': 0}, 'Ever tried any form of smokeless tobacco products': {'digit': 0, 'boolean': 0, 'empty': 0, 'time_related': 0, 'text': 1, 'unknown': 0}, 'Used any smokeless tobacco products during the last month': {'digit': 0, 'boolean': 0, 'empty': 0, 'time_related': 0, 'text': 1, 'unknown': 0}, 'Type of smokeless tobacco product used: Chewing tobacco': {'digit': 0, 'boolean': 0, 'empty': 0, 'time_related': 0, 'text': 1, 'unknown': 0}, 'Type of smokeless tobacco product used: Snuff': {'digit': 0, 'boolean': 0, 'empty': 0, 'time_related': 0, 'text': 1, 'unknown': 0}, 'Type of smokeless tobacco product used: Dip': {'digit': 0, 'boolean': 0, 'empty': 0, 'time_related': 0, 'text': 1, 'unknown': 0}, 'Type of smokeless tobacco product used: Other': {'digit': 0, 'boolean': 0, 'empty': 0, 'time_related': 0, 'text': 1, 'unknown': 0}, 'Number of days when smokeless tobacco products where used in past month': {'digit': 0, 'boolean': 0, 'empty': 0, 'time_related': 0, 'text': 1, 'unknown': 0}, 'Ever drunk alcohol': {'digit': 0, 'boolean': 0, 'empty': 0, 'time_related': 0, 'text': 1, 'unknown': 0}, 'Age when alcohol was used for the first time': {'digit': 0, 'boolean': 0, 'empty': 0, 'time_related': 0, 'text': 1, 'unknown': 0}, 'Number of days when at least one drink of alcohol was used in past month': {'digit': 0, 'boolean': 0, 'empty': 0, 'time_related': 0, 'text': 1, 'unknown': 0}, 'Number of drinks usually consumed': {'digit': 0, 'boolean': 0, 'empty': 0, 'time_related': 0, 'text': 1, 'unknown': 0}, 'Area': {'digit': 0, 'boolean': 0, 'empty': 0, 'time_related': 0, 'text': 1, 'unknown': 0}, 'Region': {'digit': 0, 'boolean': 0, 'empty': 0, 'time_related': 0, 'text': 1, 'unknown': 0}, 'Date of interview women (CMC)': {'digit': 0, 'boolean': 0, 'empty': 0, 'time_related': 0, 'text': 1, 'unknown': 0}, 'Date of birth of woman (CMC)': {'digit': 0, 'boolean': 0, 'empty': 0, 'time_related': 0, 'text': 1, 'unknown': 0}, 'Age': {'digit': 1, 'boolean': 0, 'empty': 0, 'time_related': 0, 'text': 0, 'unknown': 0}, 'Date of marriage (CMC)': {'digit': 0, 'boolean': 0, 'empty': 0, 'time_related': 0, 'text': 0, 'unknown': 1}, 'Age at first marriage/union': {'digit': 0, 'boolean': 0, 'empty': 0, 'time_related': 0, 'text': 0, 'unknown': 1}, 'Date of birth of last child (CMC)': {'digit': 1, 'boolean': 0, 'empty': 0, 'time_related': 0, 'text': 0, 'unknown': 0}, 'Marital/Union status': {'digit': 0, 'boolean': 0, 'empty': 0, 'time_related': 0, 'text': 1, 'unknown': 0}, 'Children surviving': {'digit': 0, 'boolean': 0, 'empty': 0, 'time_related': 0, 'text': 1, 'unknown': 0}, 'Children dead': {'digit': 0, 'boolean': 1, 'empty': 0, 'time_related': 0, 'text': 0, 'unknown': 0}, 'Respondent is circumcised': {'digit': 1, 'boolean': 0, 'empty': 0, 'time_related': 0, 'text': 0, 'unknown': 0}, 'Age at circumcision': {'digit': 1, 'boolean': 0, 'empty': 0, 'time_related': 0, 'text': 0, 'unknown': 0}, 'Person performing circumcision': {'digit': 1, 'boolean': 0, 'empty': 0, 'time_related': 0, 'text': 0, 'unknown': 0}, 'Place of circumcision': {'digit': 1, 'boolean': 0, 'empty': 0, 'time_related': 0, 'text': 0, 'unknown': 0}, 'Net number': {'digit': 0, 'boolean': 0, 'empty': 0, 'time_related': 0, 'text': 1, 'unknown': 0}, 'Mosquito net observed': {'digit': 0, 'boolean': 0, 'empty': 0, 'time_related': 0, 'text': 1, 'unknown': 0}, 'Brand/type of observed net': {'digit': 1, 'boolean': 0, 'empty': 0, 'time_related': 0, 'text': 0, 'unknown': 0}, 'Months ago net obtained': {'digit': 0, 'boolean': 0, 'empty': 0, 'time_related': 0, 'text': 1, 'unknown': 0}, 'Net treated with an insecticide when obtained': {'digit': 0, 'boolean': 0, 'empty': 0, 'time_related': 0, 'text': 1, 'unknown': 0}, 'Net soaked or dipped since obtained': {'digit': 0, 'boolean': 0, 'empty': 0, 'time_related': 0, 'text': 1, 'unknown': 0}, 'Months ago net soaked or dipped': {'digit': 0, 'boolean': 0, 'empty': 0, 'time_related': 0, 'text': 1, 'unknown': 0}, 'Persons slept under mosquito net last night': {'digit': 0, 'boolean': 0, 'empty': 0, 'time_related': 0, 'text': 1, 'unknown': 0}, 'Person 1 who slept under net': {'digit': 0, 'boolean': 0, 'empty': 0, 'time_related': 0, 'text': 1, 'unknown': 0}, 'Person 2 who slept under net': {'digit': 0, 'boolean': 0, 'empty': 0, 'time_related': 0, 'text': 1, 'unknown': 0}, 'Person 3 who slept under net': {'digit': 0, 'boolean': 0, 'empty': 0, 'time_related': 0, 'text': 1, 'unknown': 0}, 'Person 4 who slept under net': {'digit': 0, 'boolean': 0, 'empty': 0, 'time_related': 0, 'text': 1, 'unknown': 0}, 'Wealth index score': {'digit': 1, 'boolean': 0, 'empty': 0, 'time_related': 0, 'text': 0, 'unknown': 0}, 'Wealth index quintiles': {'digit': 1, 'boolean': 0, 'empty': 0, 'time_related': 0, 'text': 0, 'unknown': 0}}\n"
     ]
    }
   ],
   "source": [
    "#Now checking if datatypes are right\n",
    "zipped_data = [zip(header_rows, drow) for drow in new_data]\n",
    "\n",
    "\n",
    "datatypes = {}\n",
    "start_dict = {'digit': 0, 'boolean': 0, 'empty': 0, 'time_related': 0, 'text': 0, 'unknown': 0}\n",
    "\n",
    "for row in zipped_data:\n",
    "    for resp in row:\n",
    "        question = resp[0][1]\n",
    "        answer = resp[1]\n",
    "        key = 'unknown'\n",
    "        if answer.isdigit():\n",
    "            key = 'digit'\n",
    "        elif answer in ['Yes', 'No', 'True', 'False']:\n",
    "            key = 'boolean'\n",
    "        elif answer.isspace():\n",
    "            key = 'empty'\n",
    "        elif answer.find('/') > 0 or answer.find(':') > 0:\n",
    "            key = 'time_related'\n",
    "        elif answer.isalpha():\n",
    "            key = 'text'\n",
    "        if answer not in datatypes.keys():\n",
    "            datatypes[question] = start_dict.copy()\n",
    "        datatypes[question][key] +=1\n",
    "\n",
    "print(datatypes)"
   ]
  },
  {
   "cell_type": "code",
   "execution_count": 63,
   "id": "2db0f66c-5723-410d-b4aa-4db8927213b1",
   "metadata": {
    "tags": []
   },
   "outputs": [
    {
     "name": "stdout",
     "output_type": "stream",
     "text": [
      "{1, 2, 3, 5, 6, 7, 8, 9}\n"
     ]
    }
   ],
   "source": [
    "#Find duplicates\n",
    "\n",
    "list_with_dupes = [1, 5, 6, 2, 5, 6, 8, 3, 8, 3, 3, 7, 9] \n",
    "set_without_dupes = set(list_with_dupes) \n",
    "print(set_without_dupes)"
   ]
  },
  {
   "cell_type": "code",
   "execution_count": 64,
   "id": "46bacb5f-34d9-4723-93a1-5a8ce200045c",
   "metadata": {
    "tags": []
   },
   "outputs": [],
   "source": [
    "first_set = set([1, 5, 6, 2, 6, 3, 6, 7, 3, 7, 9, 10, 321, 54, 654, 432])"
   ]
  },
  {
   "cell_type": "code",
   "execution_count": 65,
   "id": "267d9d09-cd8a-4454-9834-fc90666e265c",
   "metadata": {
    "tags": []
   },
   "outputs": [],
   "source": [
    "second_set = set([4, 6, 7, 432, 6, 7, 4, 9, 0])\n"
   ]
  },
  {
   "cell_type": "code",
   "execution_count": 66,
   "id": "ca657414-3f6d-4830-be85-db518f621c66",
   "metadata": {
    "tags": []
   },
   "outputs": [
    {
     "name": "stdout",
     "output_type": "stream",
     "text": [
      "{432, 9, 6, 7}\n"
     ]
    }
   ],
   "source": [
    "print(first_set.intersection(second_set)) #common elements only"
   ]
  },
  {
   "cell_type": "code",
   "execution_count": 67,
   "id": "98c045b1-50cb-473d-960e-1c587c7e593f",
   "metadata": {
    "tags": []
   },
   "outputs": [
    {
     "name": "stdout",
     "output_type": "stream",
     "text": [
      "{0, 1, 2, 3, 321, 5, 6, 7, 4, 9, 10, 654, 432, 54}\n"
     ]
    }
   ],
   "source": [
    "print(first_set.union(second_set)) #union combines both sets"
   ]
  },
  {
   "cell_type": "code",
   "execution_count": 68,
   "id": "5879df94-4bb8-45d3-91fc-3e3dd742c06e",
   "metadata": {
    "tags": []
   },
   "outputs": [
    {
     "name": "stdout",
     "output_type": "stream",
     "text": [
      "{321, 1, 2, 3, 5, 10, 654, 54}\n"
     ]
    }
   ],
   "source": [
    "print(first_set.difference(second_set)) #difference beetween but what's in the first set"
   ]
  },
  {
   "cell_type": "code",
   "execution_count": 69,
   "id": "243938e3-0bca-4670-8d37-6223a30a5daa",
   "metadata": {
    "tags": []
   },
   "outputs": [
    {
     "name": "stdout",
     "output_type": "stream",
     "text": [
      "{0, 4}\n"
     ]
    }
   ],
   "source": [
    "print(second_set - first_set) #also difference, but what's in second set"
   ]
  },
  {
   "cell_type": "code",
   "execution_count": 70,
   "id": "206083ba-06d2-43d7-8ffc-c5c6d305856b",
   "metadata": {
    "tags": []
   },
   "outputs": [
    {
     "name": "stdout",
     "output_type": "stream",
     "text": [
      "{321, 1, 2, 3, 5, 10, 654, 54}\n"
     ]
    }
   ],
   "source": [
    "print(first_set - second_set) #also difference, order matters"
   ]
  },
  {
   "cell_type": "code",
   "execution_count": 71,
   "id": "db348941-c21f-4844-9e6a-f5291bd988c8",
   "metadata": {
    "tags": []
   },
   "outputs": [
    {
     "name": "stdout",
     "output_type": "stream",
     "text": [
      "True\n"
     ]
    }
   ],
   "source": [
    "print(6 in second_set) #is the value in it?"
   ]
  },
  {
   "cell_type": "code",
   "execution_count": 72,
   "id": "456e33ad-3b69-4754-9241-2e2f8693d4a8",
   "metadata": {
    "tags": []
   },
   "outputs": [
    {
     "name": "stdout",
     "output_type": "stream",
     "text": [
      "False\n"
     ]
    }
   ],
   "source": [
    "print(0 in first_set) #is the value in it?"
   ]
  },
  {
   "cell_type": "code",
   "execution_count": 73,
   "id": "0eb5cd7f-71c4-4b27-9719-8d51ac995a47",
   "metadata": {
    "tags": []
   },
   "outputs": [],
   "source": [
    "import numpy as np #numpy has lots of duplicate tools"
   ]
  },
  {
   "cell_type": "code",
   "execution_count": 74,
   "id": "b0281a8a-0ac0-4065-a889-aed227f80a5a",
   "metadata": {
    "tags": []
   },
   "outputs": [],
   "source": [
    "list_with_dupes = [1, 5, 6, 2, 5, 6, 8, 3, 8, 3, 3, 7, 9]\n"
   ]
  },
  {
   "cell_type": "code",
   "execution_count": 75,
   "id": "979bb96c-a221-476c-b2fd-ba8ac1f51080",
   "metadata": {
    "tags": []
   },
   "outputs": [
    {
     "name": "stdout",
     "output_type": "stream",
     "text": [
      "(array([1, 2, 3, 5, 6, 7, 8, 9]), array([ 0,  3,  7,  1,  2, 11,  6, 12], dtype=int64))\n"
     ]
    }
   ],
   "source": [
    "print(np.unique(list_with_dupes, return_index=True))"
   ]
  },
  {
   "cell_type": "code",
   "execution_count": 76,
   "id": "78cfd771-4edc-474f-bb8d-e28124c09c91",
   "metadata": {
    "tags": []
   },
   "outputs": [
    {
     "name": "stdout",
     "output_type": "stream",
     "text": [
      "[ 1  2  3  4  5  6  7  8  9 11 23]\n"
     ]
    }
   ],
   "source": [
    "array_with_dupes = np.array([[1, 5, 7, 3, 9, 11, 23], [2, 4, 6, 8, 2, 8, 4]])\n",
    "\n",
    "print(np.unique(array_with_dupes))\n"
   ]
  },
  {
   "cell_type": "code",
   "execution_count": 77,
   "id": "e45e2b59-b9d6-41ee-848a-09755804a9d7",
   "metadata": {
    "tags": []
   },
   "outputs": [
    {
     "name": "stdout",
     "output_type": "stream",
     "text": [
      "(0, (['HH1', 'Cluster number', ''], '1'))\n",
      "(1, (['HH2', 'Household number', ''], '17'))\n",
      "(2, (['LN', 'Line number', ''], '1'))\n",
      "(3, (['MWM1', 'Cluster number', ''], '1'))\n",
      "(4, (['MWM2', 'Household number', ''], '17'))\n",
      "(5, (['MWM4', \"Man's line number\", ''], '1'))\n",
      "(6, (['MWM5', 'Interviewer number', ''], '14'))\n",
      "(7, (['MWM6D', 'Day of interview', ''], '7'))\n",
      "(8, (['MWM6M', 'Month of interview', ''], '4'))\n",
      "(9, (['MWM6Y', 'Year of interview', ''], '2014'))\n",
      "(10, (['MWM7', \"Result of man's interview\", ''], 'Completed'))\n",
      "(11, (['MWM8', 'Field editor', ''], '2'))\n",
      "(12, (['MWM9', 'Data entry clerk', ''], '20'))\n",
      "(13, (['MWM10H', 'Start of interview - Hour', ''], '17'))\n",
      "(14, (['MWM10M', 'Start of interview - Minutes', ''], '59'))\n",
      "(15, (['MWM11H', 'End of interview - Hour', ''], '18'))\n",
      "(16, (['MWM11M', 'End of interview - Minutes', ''], '7'))\n",
      "(17, (['MWB1M', 'Month of birth of man', 'In what month and year were you born?'], '5'))\n",
      "(18, (['MWB1Y', 'Year of birth of man', 'In what month and year were you born?'], '1984'))\n",
      "(19, (['MWB2', 'Age of man', 'How old are you?'], '29'))\n",
      "(20, (['MWB3', 'Ever attended school', 'Have you ever attended school or a preschool institution?'], 'Yes'))\n",
      "(21, (['MWB4', 'Highest level of school attended', 'What is the highest education level you attended?'], 'Higher'))\n",
      "(22, (['MWB5', 'Highest grade completed at that level', 'What is the highest grade/year you completed at that level?'], '31'))\n",
      "(23, (['MWB7', 'Can read part of the sentence', 'Now I would like you to read this sentence to me.\\nShow the sentence on the card to the respondent. If the respondent cannot read the whole sentence, probe: Can you read part of the sentence to me?'], 'NA'))\n",
      "(24, (['MMT2', 'Frequency of reading newspaper or magazine', 'How often do you read a newspaper or magazine: Almost every day, at least once a week, less than once a week or not at all?'], 'Almost every day'))\n",
      "(25, (['MMT3', 'Frequency of listening to the radio', 'Do you listen to the radio almost every day, at least once a week, less than once a week or not at all?'], 'At least once a week'))\n",
      "(26, (['MMT4', 'Frequency of watching TV', 'How often do you watch television: Would you say that you watch TV almost every day, at least once a week, less than once a week or not at all?'], 'Less than once a week'))\n",
      "(27, (['MMT6', 'Ever used a computer', 'Have you ever used a computer?'], 'Yes'))\n",
      "(28, (['MMT7', 'Computer usage in the last 12 months', 'In the last 12 months, have you used a computer from any location?'], 'Yes'))\n",
      "(29, (['MMT8', 'Frequency of computer usage in the last month', 'During the last month, how often did you use a computer: almost every day, at least once a week, less than once a week or not at all?'], 'Almost every day'))\n",
      "(30, (['MMT9', 'Ever used internet', 'Have you ever used the internet?'], 'Yes'))\n",
      "(31, (['MMT10', 'Internet usage in the last 12 months', 'In the last 12 months, have you used the internet?'], 'Yes'))\n",
      "(32, (['MMT11', 'Frequency of Internet usage in the past month', 'During the last month, how often did you use the internet: almost every day, at least once a week, less than once a week or not at all?'], 'Almost every day'))\n",
      "(33, (['MMT12', 'Ever used a mobile or non-mobile phone', ''], 'Yes'))\n",
      "(34, (['MMT13', 'Mobile or non-mobile phone usage in the last 12 months', ''], 'Yes'))\n",
      "(35, (['MMT14', 'Frequency of mobile or non-mobile usage in the past month', ''], 'Almost every day'))\n",
      "(36, (['MCM1', 'Ever fathered any children with any women', 'Now i would like to ask about all the children you have had in your lifetime. I am interested in all of the children that are biologically yours, even if they are not legally yours or do not have your last name.\\nHave you had any biological children with any woman?'], 'No'))\n",
      "(37, (['MCM3', 'Age when first child was born', 'How old were you when your (first) child was born?'], 'NA'))\n",
      "(38, (['MCM4', 'Any sons or daughters living with you', 'Do you have any biological sons or daughters who are now living with you?'], 'NA'))\n",
      "(39, (['MCM5A', 'Sons living with you', 'How many sons live with you?'], 'NA'))\n",
      "(40, (['MCM5B', 'Daughters living with you', 'How many daughters live with you?'], 'NA'))\n",
      "(41, (['MCM6', 'Any sons or daughters not living with you', 'Do you have any biological sons or daughters who are alive but do not live with you?'], 'NA'))\n",
      "(42, (['MCM7A', 'Sons living elsewhere', 'How many sons are alive but do not live with you?'], 'NA'))\n",
      "(43, (['MCM7B', 'Daughters living elsewhere', 'How many daughters are alive but do not live with you?'], 'NA'))\n",
      "(44, (['MCM8', 'Ever had child who later died', 'Have you had a biological son or daughter who was born alive but later died?'], 'No'))\n",
      "(45, (['MCM9A', 'Boys dead', 'How many boys have died?'], 'NA'))\n",
      "(46, (['MCM9B', 'Girls dead', 'How many girls have died?'], 'NA'))\n",
      "(47, (['MCM10', 'Children ever born', ''], '0'))\n",
      "(48, (['MCM11A', 'Same biological mother', 'Did all the biological children you have, have the same biological mother?'], 'NA'))\n",
      "(49, (['MCM11B', 'Number of women respondent fathered children with', 'In all, how many women have you had biological children with?'], 'NA'))\n",
      "(50, (['MCM12M', 'Month of last birth', 'Of these (total number in MCM10) biological children, when was the last one born (even if he or she has died)?'], 'NA'))\n",
      "(51, (['MCM12Y', 'Year of last birth', 'Of these (total number in MCM10) biological children, when was the last one born (even if he or she has died)?'], 'NA'))\n",
      "(52, (['MDV1A', 'If she goes out with out telling husband: wife beating justified', 'Sometimes a husband becomes annoyed or gets angry at things that his wife does. In your opinion, is a husband justified in hitting or beating his wife in the following situations: [A] If she goes out without telling him?'], 'No'))\n",
      "(53, (['MDV1B', 'If she neglects the children: wife beating justified', 'Sometimes a husband becomes annoyed or gets angry at things that his wife does. In your opinion, is a husband justified in hitting or beating his wife in the following situations: [B] If she neglects the children?'], 'No'))\n",
      "(54, (['MDV1C', 'If she argues with husband: wife beating justified', 'Sometimes a husband becomes annoyed or gets angry at things that his wife does. In your opinion, is a husband justified in hitting or beating his wife in the following situations: [C] If she argues with him?'], 'No'))\n",
      "(55, (['MDV1D', 'If she refuses sex with husband: wife beating justified', 'Sometimes a husband becomes annoyed or gets angry at things that his wife does. In your opinion, is a husband justified in hitting or beating his wife in the following situations: [D] If she refuses to have sex with him?'], 'No'))\n",
      "(56, (['MDV1E', 'If she burns the food: wife beating justified', 'Sometimes a husband becomes annoyed or gets angry at things that his wife does. In your opinion, is a husband justified in hitting or beating his wife in the following situations: [E] If she burns the food?'], 'No'))\n",
      "(57, (['MDV1F', 'Is she commits infidelity: wife beating justified', 'Sometimes a husband becomes annoyed or gets angry at things that his wife does. In your opinion, is a husband justified in hitting or beating his wife in the following situations: [F] If she commits infedelity?'], 'No'))\n",
      "(58, (['MMA1', 'Currently married or living with a man', 'Are you currently married or living together with a woman as if married?'], 'Yes, currently married'))\n",
      "(59, (['MMA3', 'Haveing other wives or liveing with other women as if you are married', 'Do you have other wives or do you live with other women as if married?'], 'No (Only one)'))\n",
      "(60, (['MMA4', 'How many other wives / partners living with you', 'How many other wives or live-in partners do you have?'], 'NA'))\n",
      "(61, (['MMA5', 'Ever married or lived with a woman', 'Have you ever been married or lived together with a woman as if married?'], 'NA'))\n",
      "(62, (['MMA6', 'Marital status', 'What is your marital status now: are you widowed, divorced or separated?'], 'NA'))\n",
      "(63, (['MMA7', 'Married or lived with a woman once or more than once', 'Have you been married or lived with a woman only once or more than once?'], 'Only once'))\n",
      "(64, (['MMA8M', 'Month of first union', 'In what month and year did you first marry or start living with a woman as if married?'], '9'))\n",
      "(65, (['MMA8Y', 'Year of first union', 'In what month and year did you first marry or start living with a woman as if married?'], '2013'))\n",
      "(66, (['MMA9', 'Age at first union', 'How old were you when you started living with your first wife/partner?'], 'NA'))\n",
      "(67, (['MSB1', 'Age at first sexual intercourse', 'Now i would like to ask you some questions about sexual activity in order to get a better understanding of some important life issues.\\nThe information you provide will remain strictly confidential. How old were you when you had sexual intercourse for the very first time?'], '20'))\n",
      "(68, (['MSB2', 'Condom used during first sexual intercourse', 'The first time you had sexual intercourse, was a condom used?'], 'Yes'))\n",
      "(69, (['MSB3U', 'Time since last sexual intercourse (unit)', \"When was the last time you had sexual intercourse?\\nRecord 'years ago' only if last intercourse was one or more years ago. If 12 months or more the answer must be recorded in years.\"], 'Days ago'))\n",
      "(70, (['MSB3N', 'Time since last sexual intercourse (number)', \"When was the last time you had sexual intercourse?\\nRecord 'years ago' only if last intercourse was one or more years ago. If 12 months or more the answer must be recorded in years.\"], '0'))\n",
      "(71, (['MSB4', 'Condom used at last sexual intercourse', 'The last time you had sexual intercourse, was a condom used?'], 'No'))\n",
      "(72, (['MSB5', 'Relationship to last sexual partner', 'What was your relationship to the person you last had sexual intercourse with?'], 'Wife'))\n",
      "(73, (['MSB8', 'Sex with any other person in the last 12 month', 'Have you had sexual intercourse with any other person in the last 12 months?'], 'No'))\n",
      "(74, (['MSB9', 'Condom used with prior sexual partner', 'The last time you had sexual intercourse with this other person, was a condom used?'], 'NA'))\n",
      "(75, (['MSB10', 'Relationship to prior sexual partner', 'What was your relationship to this person?'], 'NA'))\n",
      "(76, (['MSB13', 'Sex with any other man in the last 12 months', 'In the last 12 months, have you had sexual intercourse with any other person, other than these two persons?'], 'NA'))\n",
      "(77, (['MSB14', 'Number of sex partners in last 12 months', 'In total, with how many different people have you had sexual intercourse in the last 12 months?'], 'NA'))\n",
      "(78, (['MSB15', 'Number of sex partners in lifetime', 'In total, with how many different people have you had sexual intercourse in your lifetime?'], '5'))\n",
      "(79, (['MHA1', 'Ever heard of AIDS', 'Now i would like to talk with you about something else.\\nHave you ever heard of the HIV virus or an illness called AIDS (or SIDA)?'], 'Yes'))\n",
      "(80, (['MHA2', 'Can avoid AIDS virus by having one uninfected partner', 'Can people reduce their chance of getting the virus that causes AIDS by having just one uninfected sex partner who has no other sex partners?'], 'Yes'))\n",
      "(81, (['MHA3', 'Can get AIDS virus through supernatural means', 'Can people get the virus that causes AIDS because of witchcraft or other supernatural means?'], 'No'))\n",
      "(82, (['MHA4', 'Can avoid AIDS virus by using a condom correctly every time', 'Can people reduce their chance of getting the virus that causes AIDS by using a condom every time they have sex?'], 'Yes'))\n",
      "(83, (['MHA5', 'Can get AIDS virus from mosquito bites', 'Can people get the virus that causes AIDS from mosquito bites?'], 'No'))\n",
      "(84, (['MHA6', 'Can get AIDS virus by sharing food with a person who has AIDS', 'Can people get the virus that causes AIDS by sharing food with a person who has AIDS?'], 'No'))\n",
      "(85, (['MHA7', 'Healthy-looking person may have AIDS virus', 'Is it possible for a healthy-looking person to have the virus that causes AIDS?'], 'Yes'))\n",
      "(86, (['MHA8A', 'AIDS virus from mother to child during pregnancy', 'Can the virus that causes AIDS be transmitted from a mother to her baby: [A] During pregnancy?'], 'DK'))\n",
      "(87, (['MHA8B', 'AIDS virus from mother to child during delivery', 'Can the virus that causes AIDS be transmitted from a mother to her baby: [B] During delivery?'], 'Yes'))\n",
      "(88, (['MHA8C', 'AIDS virus from mother to child through breastfeeding', 'Can the virus that causes AIDS be transmitted from a mother to her baby: [C] By breastfeeding?'], 'DK'))\n",
      "(89, (['MHA9', 'Should female teacher with AIDS virus be allowed to teach in school', 'In your opinion, if a female teacher has the virus that causes AIDS but is not sick, should she be allowed to continue teaching in school?'], 'Yes'))\n",
      "(90, (['MHA10', 'Would buy fresh vegetables from shopkeeper with AIDS virus', 'Would you buy fresh vegetables from a shopkeeper or salesperson if you knew that this person had the virus that causes AIDS?'], 'Yes'))\n",
      "(91, (['MHA11', 'If HH member became infected with AIDS virus, would want it to remain a secret', 'If a member of your family got infected with the virus that causes AIDS, would you want it to remain a secret?'], 'No'))\n",
      "(92, (['MHA12', 'Willing to care for person with AIDS in household', 'If a member of your family became sick with AIDS, would you be willing to care for him or her in your own household?'], 'Yes'))\n",
      "(93, (['MHA24', 'Ever been tested for AIDS virus', 'I don’t want to know the results, but have you ever been tested to see if you have the virus that causes AIDS?'], 'Yes'))\n",
      "(94, (['MHA25', 'Most recent time of testing for AIDS virus', 'When was the most recent time you were tested?'], 'Less than 12 months ago'))\n",
      "(95, (['MHA26', 'Received results of AIDS virus test', 'I don’t want to know the results, but did you get the results of this test?'], 'Yes'))\n",
      "(96, (['MHA27', 'Know a place to get AIDS virus test', 'Do you know of a place where people can go to get tested for the virus that causes AIDS?'], 'NA'))\n",
      "(97, (['MTA1', 'Ever tried cigarette smoking', 'Have you ever tried smoking cigarettes, even taking one or two puffs?'], 'No'))\n",
      "(98, (['MTA2', 'Age when cigarette was smoked for the first time', 'How old were you when you smoked an entire cigarette for the first time?'], 'NA'))\n",
      "(99, (['MTA3', 'Currently smoking cigarettes', 'Do you currently smoke cigarettes?'], 'NA'))\n",
      "(100, (['MTA4', 'Number of cigarettes smoked in the last 24 hours', 'How many cigarettes did you smoke during the last month?'], 'NA'))\n",
      "(101, (['MTA5', 'Number of days when cigarettes were smoked in past month', 'During the last month, on how many days did you smoke cigarettes?'], 'No'))\n",
      "(102, (['MTA6', 'Ever tried any smoked tobacco products other than cigarettes', 'Have you ever tried any smoked tobacco products other than cigarettes, such as cigars (e.g. Cuban), a pipe or waterpipe (narghile/hookah)?'], 'NA'))\n",
      "(103, (['MTA7', 'Used any smoked tobacco products during the last month', 'During the last month, did you use any smoked tobacco products?'], 'NA'))\n",
      "(104, (['MTA8A', 'Type of smoked tobacco product: Cigars', 'What type of smoked tobacco product did you use or smoke during the last month?'], 'NA'))\n",
      "(105, (['MTA8B', 'Type of smoked tobacco product: Water pipe', 'What type of smoked tobacco product did you use or smoke during the last month?'], 'NA'))\n",
      "(106, (['MTA8C', 'Type of smoked tobacco product: Cigarillos', 'What type of smoked tobacco product did you use or smoke during the last month?'], 'No'))\n",
      "(107, (['MTA8D', 'Type of smoked tobacco product: Pipe', 'What type of smoked tobacco product did you use or smoke during the last month?'], 'NA'))\n",
      "(108, (['MTA8E', 'Type of smoked tomacco product: Rolled tobacco', ''], 'NA'))\n",
      "(109, (['MTA8X', 'Type of smoked tobacco product: Other', 'What type of smoked tobacco product did you use or smoke during the last month?'], 'NA'))\n",
      "(110, (['MTA9', 'Number of days when tobacco products where smoked in past month', 'On how many days did you use smoked tobacco products during the last month?'], 'NA'))\n",
      "(111, (['MTA10', 'Ever tried any form of smokeless tobacco products', 'Have you ever tried any form of smokeless tobacco products, such as chewing tobacco, tobacco for sniffing (snuff) or dipping tobacco?'], 'NA'))\n",
      "(112, (['MTA11', 'Used any smokeless tobacco products during the last month', 'Did you use any smokeless tobacco products during the last month?'], 'NA'))\n",
      "(113, (['MTA12A', 'Type of smokeless tobacco product used: Chewing tobacco', 'What type of smokeless tobacco product did you use during the last month?'], 'NA'))\n",
      "(114, (['MTA12B', 'Type of smokeless tobacco product used: Snuff', 'What type of smokeless tobacco product did you use during the last month?'], 'NA'))\n",
      "(115, (['MTA12C', 'Type of smokeless tobacco product used: Dip', 'What type of smokeless tobacco product did you use during the last month?'], 'No'))\n",
      "(116, (['MTA12X', 'Type of smokeless tobacco product used: Other', 'What type of smokeless tobacco product did you use during the last month?'], 'NA'))\n",
      "(117, (['MTA13', 'Number of days when smokeless tobacco products where used in past month', 'On how many days did you use smokeless tobacco products during the last month?'], 'NA'))\n",
      "(118, (['MTA14', 'Ever drunk alcohol', 'Now i would like to ask you some questions about drinking alcohol.\\nHave you ever drunk alcohol?'], 'NA'))\n",
      "(119, (['MTA15', 'Age when alcohol was used for the first time', 'We count one drink of alcohol as one can or bottle of beer, one glass of wine, or one shot of strong drink.\\nHow old were you when you had your first drink of alcohol, not counting a few sips?'], 'NA'))\n",
      "(120, (['MTA16', 'Number of days when at least one drink of alcohol was used in past month', 'During the last month, on how many days did you have at least one drink of alcohol?'], 'NA'))\n",
      "(121, (['MTA17', 'Number of drinks usually consumed', 'In the last month, on those days that you drank alcohol, what is the number of drinks did you usually had?'], 'NA'))\n",
      "(122, (['HH6', 'Area', ''], 'Yes'))\n",
      "(123, (['HH7', 'Region', ''], '16'))\n",
      "(124, (['MWDOI', 'Date of interview women (CMC)', ''], '0'))\n",
      "(125, (['MWDOB', 'Date of birth of woman (CMC)', ''], 'NA'))\n",
      "(126, (['MWAGE', 'Age', ''], 'NA'))\n",
      "(127, (['MWDOM', 'Date of marriage (CMC)', ''], 'NA'))\n",
      "(128, (['MWAGEM', 'Age at first marriage/union', ''], 'NA'))\n",
      "(129, (['MWDOBLC', 'Date of birth of last child (CMC)', ''], 'NA'))\n",
      "(130, (['MMSTATUS', 'Marital/Union status', ''], 'NA'))\n",
      "(131, (['MCEB', 'Children ever born', ''], 'NA'))\n",
      "(132, (['MCSURV', 'Children surviving', ''], 'NA'))\n",
      "(133, (['MCDEAD', 'Children dead', ''], 'NA'))\n",
      "(134, (['MMC1', 'Respondent is circumcised', ''], 'NA'))\n",
      "(135, (['MMC2', 'Age at circumcision', ''], 'NA'))\n",
      "(136, (['MMC3', 'Person performing circumcision', ''], 'NA'))\n",
      "(137, (['MMC4', 'Place of circumcision', ''], 'NA'))\n",
      "(138, (['TNLN', 'Net number', ''], 'Urban'))\n",
      "(139, (['TN4', 'Mosquito net observed', ''], 'Bulawayo'))\n",
      "(140, (['TN5', 'Brand/type of observed net', ''], '1372'))\n",
      "(141, (['TN6', 'Months ago net obtained', 'How many months ago did your household get the mosquito net?'], '1013'))\n",
      "(142, (['TN8', 'Net treated with an insecticide when obtained', 'When you got the net, was it already treated with an insecticide to kill or repel mosquitoes?'], '25-29'))\n",
      "(143, (['TN9', 'Net soaked or dipped since obtained', 'Since you got the net, was it ever soaked or dipped in a liquid to kill or repel mosquitoes?'], '1365'))\n",
      "(144, (['TN10', 'Months ago net soaked or dipped', 'How many months ago was the net last soaked or dipped?'], '29'))\n",
      "(145, (['TN11', 'Persons slept under mosquito net last night', 'Did anyone sleep under this mosquito net last night?'], 'NA'))\n",
      "(146, (['TN12_1', 'Person 1 who slept under net', 'Who slept under this mosquito net last night?'], 'Currently married/in union'))\n",
      "(147, (['TN12_2', 'Person 2 who slept under net', 'Who slept under this mosquito net last night?'], '0'))\n",
      "(148, (['TN12_3', 'Person 3 who slept under net', 'Who slept under this mosquito net last night?'], '0'))\n",
      "(149, (['TN12_4', 'Person 4 who slept under net', 'Who slept under this mosquito net last night?'], '0'))\n",
      "(150, (['wscore', 'Wealth index score', ''], '1.603670102'))\n",
      "(151, (['windex5', 'Wealth index quintiles', ''], '5'))\n"
     ]
    }
   ],
   "source": [
    "#If you don’t have unique keys, you can write a function to create a unique set. \"as simple as list comprehension\"\n",
    "\n",
    "zipped_data = [zip(header_rows, drow) for drow in new_data]\n",
    "for x in enumerate(zipped_data[0]): \n",
    "    print(x)\n"
   ]
  },
  {
   "cell_type": "code",
   "execution_count": 78,
   "id": "9a4a9f4d-8e5e-452b-88d6-c73eaa766028",
   "metadata": {
    "tags": []
   },
   "outputs": [],
   "source": [
    "#Python 2 text book, Python 3 issue to resolve\n",
    "#set_of_lines = set([x[2][1] for x in (zipped_data)]) \n",
    "#uniques = [x for x in zipped_data if not set_of_lines.remove(x[2][1])] \n",
    "#print(set_of_lines)"
   ]
  },
  {
   "cell_type": "code",
   "execution_count": 79,
   "id": "cc9f4171-118a-404b-a752-a839788cf7f2",
   "metadata": {},
   "outputs": [],
   "source": [
    "#Fuzzy matching"
   ]
  },
  {
   "cell_type": "code",
   "execution_count": 80,
   "id": "9b59e99d-8a52-4a51-a7df-2813dfc6a56e",
   "metadata": {
    "tags": []
   },
   "outputs": [],
   "source": [
    "import fuzzywuzzy "
   ]
  },
  {
   "cell_type": "code",
   "execution_count": 81,
   "id": "83522fa5-fba6-4042-bc43-df598f96f95c",
   "metadata": {},
   "outputs": [],
   "source": [
    "from fuzzywuzzy import fuzz"
   ]
  },
  {
   "cell_type": "code",
   "execution_count": 82,
   "id": "d50ed38e-7b2a-4b15-a6eb-66a83f1424de",
   "metadata": {},
   "outputs": [],
   "source": [
    "my_records = [{'favorite_book': 'Grapes of Wrath', 'favorite_movie': 'Free Willie', 'favorite_show': 'Two Broke Girls', }, {'favorite_book': 'The Grapes of Wrath', 'favorite_movie': 'Free Willy', 'favorite_show': '2 Broke Girls', }]"
   ]
  },
  {
   "cell_type": "code",
   "execution_count": 83,
   "id": "5ee6768a-b5cd-462d-888e-1194d6a1c7e2",
   "metadata": {
    "tags": []
   },
   "outputs": [
    {
     "name": "stdout",
     "output_type": "stream",
     "text": [
      "88\n"
     ]
    }
   ],
   "source": [
    "print(fuzz.ratio(my_records[0].get('favorite_book'), my_records[1].get('favorite_book')))"
   ]
  },
  {
   "cell_type": "code",
   "execution_count": 84,
   "id": "ec73f46e-d8ec-440e-b64e-062b5e7d263a",
   "metadata": {
    "tags": []
   },
   "outputs": [
    {
     "name": "stdout",
     "output_type": "stream",
     "text": [
      "86\n"
     ]
    }
   ],
   "source": [
    "print(fuzz.ratio(my_records[0].get('favorite_movie'), my_records[1].get('favorite_movie')))"
   ]
  },
  {
   "cell_type": "code",
   "execution_count": 85,
   "id": "f2946b76-cbd5-44ee-897f-1a19d7af5f6e",
   "metadata": {
    "tags": []
   },
   "outputs": [
    {
     "name": "stdout",
     "output_type": "stream",
     "text": [
      "86\n"
     ]
    }
   ],
   "source": [
    "print(fuzz.ratio(my_records[0].get('favorite_show'), my_records[1].get('favorite_show')))"
   ]
  },
  {
   "cell_type": "code",
   "execution_count": 86,
   "id": "be3875f3-7cb2-4c3a-92d2-eaa44a8971cb",
   "metadata": {},
   "outputs": [],
   "source": [
    "#Fuzzy ratio module compares similarity of sequencing"
   ]
  },
  {
   "cell_type": "code",
   "execution_count": 87,
   "id": "56a497e5-01cc-45b3-85f8-304f0e177d21",
   "metadata": {
    "tags": []
   },
   "outputs": [
    {
     "name": "stdout",
     "output_type": "stream",
     "text": [
      "100\n"
     ]
    }
   ],
   "source": [
    "print(fuzz.partial_ratio(my_records[0].get('favorite_book'), my_records[1].get('favorite_book')))"
   ]
  },
  {
   "cell_type": "code",
   "execution_count": 88,
   "id": "8990f17a-24ea-4633-9dd6-1b644e04fd1f",
   "metadata": {
    "tags": []
   },
   "outputs": [
    {
     "name": "stdout",
     "output_type": "stream",
     "text": [
      "92\n"
     ]
    }
   ],
   "source": [
    "print(fuzz.partial_ratio(my_records[0].get('favorite_show'), my_records[1].get('favorite_show')))"
   ]
  },
  {
   "cell_type": "code",
   "execution_count": 89,
   "id": "dbefe81d-4e04-4fd6-8769-eb93d4ad9515",
   "metadata": {
    "tags": []
   },
   "outputs": [
    {
     "name": "stdout",
     "output_type": "stream",
     "text": [
      "90\n"
     ]
    }
   ],
   "source": [
    "print(fuzz.partial_ratio(my_records[0].get('favorite_movie'), my_records[1].get('favorite_movie')))"
   ]
  },
  {
   "cell_type": "code",
   "execution_count": 90,
   "id": "d0c977df-bcd4-44da-ae6c-ac8a07dc760b",
   "metadata": {
    "tags": []
   },
   "outputs": [],
   "source": [
    "#Fuzzy partial ratio module compares substrings so accounts for missing word or punctuation"
   ]
  },
  {
   "cell_type": "code",
   "execution_count": 91,
   "id": "095e8708-40ea-47d0-a7ce-5a0139f7e847",
   "metadata": {
    "tags": []
   },
   "outputs": [],
   "source": [
    "my_records_b = [{'favorite_food': 'cheeseburgers with bacon', 'favorite_drink': 'wine, beer, and tequila', 'favorite_dessert': 'cheese or cake', }, {'favorite_food': 'burgers with cheese and bacon', 'favorite_drink': 'beer, wine, and tequila', 'favorite_dessert': 'cheese cake', }]"
   ]
  },
  {
   "cell_type": "code",
   "execution_count": 92,
   "id": "bbf4026d-8f10-4a3c-9edc-f8853ec00393",
   "metadata": {
    "tags": []
   },
   "outputs": [
    {
     "name": "stdout",
     "output_type": "stream",
     "text": [
      "68\n"
     ]
    }
   ],
   "source": [
    "print(fuzz.token_sort_ratio(my_records_b[0].get('favorite_food'), my_records_b[1].get('favorite_food')))"
   ]
  },
  {
   "cell_type": "code",
   "execution_count": 93,
   "id": "6c0761b8-aae7-4c43-b26c-53b74abbc103",
   "metadata": {
    "tags": []
   },
   "outputs": [
    {
     "name": "stdout",
     "output_type": "stream",
     "text": [
      "100\n"
     ]
    }
   ],
   "source": [
    "print(fuzz.token_sort_ratio(my_records_b[0].get('favorite_drink'), my_records_b[1].get('favorite_drink')))"
   ]
  },
  {
   "cell_type": "code",
   "execution_count": 94,
   "id": "6b752d29-2e92-47b8-a951-1cb07e13db93",
   "metadata": {
    "tags": []
   },
   "outputs": [
    {
     "name": "stdout",
     "output_type": "stream",
     "text": [
      "88\n"
     ]
    }
   ],
   "source": [
    "print(fuzz.token_sort_ratio(my_records_b[0].get('favorite_dessert'), my_records_b[1].get('favorite_dessert')))"
   ]
  },
  {
   "cell_type": "code",
   "execution_count": 95,
   "id": "d97a3914-0d91-4922-b9a3-ceda854efe92",
   "metadata": {
    "tags": []
   },
   "outputs": [],
   "source": [
    "#fuzzy token compares strings regardless of order"
   ]
  },
  {
   "cell_type": "code",
   "execution_count": 96,
   "id": "87c759da-1ea0-485d-9530-85f6486e7338",
   "metadata": {
    "tags": []
   },
   "outputs": [
    {
     "name": "stdout",
     "output_type": "stream",
     "text": [
      "68\n"
     ]
    }
   ],
   "source": [
    "print(fuzz.token_set_ratio(my_records_b[0].get('favorite_food'), my_records_b[1].get('favorite_food')))"
   ]
  },
  {
   "cell_type": "code",
   "execution_count": 97,
   "id": "e31c4a5f-270f-4ce8-8158-5e1774fce8f9",
   "metadata": {
    "tags": []
   },
   "outputs": [
    {
     "name": "stdout",
     "output_type": "stream",
     "text": [
      "100\n"
     ]
    }
   ],
   "source": [
    "print(fuzz.token_set_ratio(my_records_b[0].get('favorite_drink'), my_records_b[1].get('favorite_drink')))"
   ]
  },
  {
   "cell_type": "code",
   "execution_count": 98,
   "id": "ec250250-748f-4e5d-9fec-143ea487b59f",
   "metadata": {
    "tags": []
   },
   "outputs": [
    {
     "name": "stdout",
     "output_type": "stream",
     "text": [
      "100\n"
     ]
    }
   ],
   "source": [
    "print(fuzz.token_set_ratio(my_records_b[0].get('favorite_dessert'), my_records_b[1].get('favorite_dessert')))"
   ]
  },
  {
   "cell_type": "code",
   "execution_count": 99,
   "id": "cc9fd7c0-12eb-41b9-a9a4-b9b0a8ee1f69",
   "metadata": {
    "tags": []
   },
   "outputs": [],
   "source": [
    "#set attempts to find best possible match of order but can get false posatives cheese and cake and cheese cake = 100% when different"
   ]
  },
  {
   "cell_type": "code",
   "execution_count": 100,
   "id": "b99dbd10-0fa0-4c64-b184-4c2f75a52a6e",
   "metadata": {
    "tags": []
   },
   "outputs": [],
   "source": [
    "from fuzzywuzzy import process"
   ]
  },
  {
   "cell_type": "code",
   "execution_count": 101,
   "id": "6b119619-98b7-4d29-bd61-c8d934ca4457",
   "metadata": {
    "tags": []
   },
   "outputs": [],
   "source": [
    "choices = ['Yes', 'No', 'Maybe', 'N/A']\n"
   ]
  },
  {
   "cell_type": "code",
   "execution_count": 102,
   "id": "c54d2dcd-f756-4652-8f34-20e045f3397b",
   "metadata": {
    "tags": []
   },
   "outputs": [
    {
     "data": {
      "text/plain": [
       "[('Yes', 45), ('Maybe', 45)]"
      ]
     },
     "execution_count": 102,
     "metadata": {},
     "output_type": "execute_result"
    }
   ],
   "source": [
    "process.extract('ya', choices, limit=2)\n"
   ]
  },
  {
   "cell_type": "code",
   "execution_count": 103,
   "id": "b209e9a8-dccb-46bf-b1ca-f2beeeea1bfc",
   "metadata": {
    "tags": []
   },
   "outputs": [
    {
     "data": {
      "text/plain": [
       "('Yes', 45)"
      ]
     },
     "execution_count": 103,
     "metadata": {},
     "output_type": "execute_result"
    }
   ],
   "source": [
    "process.extractOne('ya', choices)\n"
   ]
  },
  {
   "cell_type": "code",
   "execution_count": 104,
   "id": "d2bb2795-e7c4-4f1d-b60f-c32bd4e50dc3",
   "metadata": {
    "tags": []
   },
   "outputs": [
    {
     "data": {
      "text/plain": [
       "[('No', 90), ('Yes', 29)]"
      ]
     },
     "execution_count": 104,
     "metadata": {},
     "output_type": "execute_result"
    }
   ],
   "source": [
    "process.extract('nope', choices, limit=2)\n"
   ]
  },
  {
   "cell_type": "code",
   "execution_count": 105,
   "id": "3359106f-3fc4-4d5b-8367-b384d0d9782b",
   "metadata": {
    "tags": []
   },
   "outputs": [
    {
     "data": {
      "text/plain": [
       "('No', 90)"
      ]
     },
     "execution_count": 105,
     "metadata": {},
     "output_type": "execute_result"
    }
   ],
   "source": [
    "process.extractOne('nope', choices)\n"
   ]
  },
  {
   "cell_type": "code",
   "execution_count": 106,
   "id": "a557cdd8-3388-4da8-99e2-88286b15777a",
   "metadata": {
    "tags": []
   },
   "outputs": [],
   "source": [
    "#Uses FuzzyWuzzy’s extract method to compare strings to the list of possible matches. The function returns two possible matches from the list of choices we have declared in our choices variable.\n",
    "#Uses FuzzyWuzzy’s extractOne our string and the list of available choices."
   ]
  },
  {
   "cell_type": "code",
   "execution_count": 107,
   "id": "0a736d39-f73b-4153-ae67-4254a5bbe1de",
   "metadata": {
    "tags": []
   },
   "outputs": [],
   "source": [
    "#Process can extract the best match, extract get tuples with ratio, extractONe the best with ratio"
   ]
  },
  {
   "cell_type": "markdown",
   "id": "48a8a498-b203-4c3b-82c7-7279c7e8f559",
   "metadata": {},
   "source": [
    "RegEx Matching"
   ]
  },
  {
   "cell_type": "code",
   "execution_count": 108,
   "id": "c58d72be-f7fc-4db7-bafe-943ece0ade17",
   "metadata": {
    "tags": []
   },
   "outputs": [],
   "source": [
    "import re"
   ]
  },
  {
   "cell_type": "code",
   "execution_count": 109,
   "id": "bd2baea7-6abe-4b87-95b1-af04b8d53347",
   "metadata": {
    "tags": []
   },
   "outputs": [],
   "source": [
    "word = '\\w+'\n",
    "#Defines a basic pattern of a normal string. This pattern accounts for strings that contain letters and numbers but not spaces or punctuation. It will match until it doesn’t match (i.e., the + makes it greedy!\n",
    "sentence = 'Here is my sentence.'"
   ]
  },
  {
   "cell_type": "code",
   "execution_count": 110,
   "id": "e8b95e43-ac61-498f-b424-bca64c7dbf65",
   "metadata": {
    "tags": []
   },
   "outputs": [
    {
     "data": {
      "text/plain": [
       "['Here', 'is', 'my', 'sentence']"
      ]
     },
     "execution_count": 110,
     "metadata": {},
     "output_type": "execute_result"
    }
   ],
   "source": [
    "re.findall(word, sentence)"
   ]
  },
  {
   "cell_type": "code",
   "execution_count": 111,
   "id": "29b9b887-0359-4d54-8e94-0720cc137e79",
   "metadata": {
    "tags": []
   },
   "outputs": [],
   "source": [
    "search_results = re.search(word,sentence)"
   ]
  },
  {
   "cell_type": "code",
   "execution_count": 112,
   "id": "195bcac3-082b-4e0a-978b-2573d9996e18",
   "metadata": {
    "tags": []
   },
   "outputs": [
    {
     "data": {
      "text/plain": [
       "'Here'"
      ]
     },
     "execution_count": 112,
     "metadata": {},
     "output_type": "execute_result"
    }
   ],
   "source": [
    "search_results.group()"
   ]
  },
  {
   "cell_type": "code",
   "execution_count": 113,
   "id": "a4e340cb-243e-4489-907c-244347762644",
   "metadata": {
    "tags": []
   },
   "outputs": [],
   "source": [
    "match_results = re.match(word, sentence)"
   ]
  },
  {
   "cell_type": "code",
   "execution_count": 114,
   "id": "7573d831-ec98-47e6-bc08-a7577f59e779",
   "metadata": {
    "tags": []
   },
   "outputs": [
    {
     "data": {
      "text/plain": [
       "'Here'"
      ]
     },
     "execution_count": 114,
     "metadata": {},
     "output_type": "execute_result"
    }
   ],
   "source": [
    "match_results.group()"
   ]
  },
  {
   "cell_type": "code",
   "execution_count": 115,
   "id": "c6b94c79-ce1b-490d-ac3e-4e5891984585",
   "metadata": {
    "tags": []
   },
   "outputs": [],
   "source": [
    "number = '\\d+'\n",
    "capitalized_word = '[A-Z]\\w+'"
   ]
  },
  {
   "cell_type": "code",
   "execution_count": 116,
   "id": "a7a2cda9-083a-426b-ad1c-5d32213f16fe",
   "metadata": {
    "tags": []
   },
   "outputs": [],
   "source": [
    "sentence = 'I have 2 pets: Bear and Bunny.'"
   ]
  },
  {
   "cell_type": "code",
   "execution_count": 117,
   "id": "98d9c70a-a9cc-4754-8ba0-1e09df181318",
   "metadata": {
    "tags": []
   },
   "outputs": [],
   "source": [
    "search_number = re.search(number, sentence)"
   ]
  },
  {
   "cell_type": "code",
   "execution_count": 118,
   "id": "663cd3c5-c6a6-4780-8c0f-3fb5091302df",
   "metadata": {
    "tags": []
   },
   "outputs": [
    {
     "data": {
      "text/plain": [
       "'2'"
      ]
     },
     "execution_count": 118,
     "metadata": {},
     "output_type": "execute_result"
    }
   ],
   "source": [
    "search_number.group()"
   ]
  },
  {
   "cell_type": "code",
   "execution_count": 119,
   "id": "398facfe-1763-4fed-b42a-20d7fe15f59d",
   "metadata": {
    "tags": []
   },
   "outputs": [],
   "source": [
    "match_number = re.match(number, sentence)\n"
   ]
  },
  {
   "cell_type": "code",
   "execution_count": 120,
   "id": "ce61c1fa-2168-4d08-bf71-04e255f4620d",
   "metadata": {
    "tags": []
   },
   "outputs": [],
   "source": [
    "# match_number.group() returns AttributeError: 'NoneType' object has no attribute 'group' - unable to find a good match - as starts from string and if doesn't find one returns none\n"
   ]
  },
  {
   "cell_type": "code",
   "execution_count": 121,
   "id": "fb25b265-1f30-49b9-8ca0-41cc74ddb67c",
   "metadata": {
    "tags": []
   },
   "outputs": [],
   "source": [
    "search_capital = re.search(capitalized_word, sentence)\n"
   ]
  },
  {
   "cell_type": "code",
   "execution_count": 122,
   "id": "1aa085bc-d9ae-4e6b-b755-364838c59044",
   "metadata": {
    "tags": []
   },
   "outputs": [
    {
     "data": {
      "text/plain": [
       "'Bear'"
      ]
     },
     "execution_count": 122,
     "metadata": {},
     "output_type": "execute_result"
    }
   ],
   "source": [
    "search_capital.group()"
   ]
  },
  {
   "cell_type": "code",
   "execution_count": 123,
   "id": "076cf514-b328-4151-9450-0081e3195056",
   "metadata": {
    "tags": []
   },
   "outputs": [],
   "source": [
    "match_capital = re.match(capitalized_word, sentence)\n"
   ]
  },
  {
   "cell_type": "code",
   "execution_count": 124,
   "id": "85584b0f-fc49-4e87-a73b-ccc4337d7e6c",
   "metadata": {
    "tags": []
   },
   "outputs": [],
   "source": [
    "# match_capital.group() returns AttributeError: 'NoneType' object has no attribute 'group' - unable to find a good match - as starts from string and if doesn't find one returns none"
   ]
  },
  {
   "cell_type": "code",
   "execution_count": 125,
   "id": "3b6d5f7d-d97e-40bf-b703-a58731a2a0dd",
   "metadata": {
    "tags": []
   },
   "outputs": [],
   "source": [
    "name_regex = '([A-Z]\\w+) ([A-Z]\\w+)'"
   ]
  },
  {
   "cell_type": "code",
   "execution_count": 126,
   "id": "136c603f-7bfa-4725-b387-546d1d4db1ca",
   "metadata": {
    "tags": []
   },
   "outputs": [
    {
     "data": {
      "text/plain": [
       "('Barack', 'Obama')"
      ]
     },
     "execution_count": 126,
     "metadata": {},
     "output_type": "execute_result"
    }
   ],
   "source": [
    "names = \"Barack Obama, Ronald Reagan, Nancy Drew\" \n",
    "name_match = re.match(name_regex, names) \n",
    "name_match.group() \n",
    "name_match.groups()"
   ]
  },
  {
   "cell_type": "code",
   "execution_count": 127,
   "id": "f6a7d0b5-58e8-463a-9352-2354b60ec796",
   "metadata": {
    "tags": []
   },
   "outputs": [],
   "source": [
    "names = \"Barack Obama, Ronald Reagan, Nancy Drew\" \n",
    "name_regex = '(?P<first_name>[A-Z]\\w+) (?P<last_name>[A-Z]\\w+)'"
   ]
  },
  {
   "cell_type": "code",
   "execution_count": 128,
   "id": "d34e0015-26dd-41a6-930b-50db7fc9380d",
   "metadata": {
    "tags": []
   },
   "outputs": [
    {
     "name": "stdout",
     "output_type": "stream",
     "text": [
      "Meet Barack!\n",
      "Meet Ronald!\n",
      "Meet Nancy!\n"
     ]
    }
   ],
   "source": [
    "for name in re.finditer(name_regex, names): \n",
    "    print('Meet {}!'.format(name.group('first_name')))"
   ]
  },
  {
   "cell_type": "code",
   "execution_count": 129,
   "id": "cabb1f74-7459-4d8e-8ba8-7b8222ce8d82",
   "metadata": {
    "tags": []
   },
   "outputs": [],
   "source": [
    "#The power of regex lets you quickly discern what’s in your strings and parse data from your strings easily. Great for messy data from webscraping"
   ]
  },
  {
   "cell_type": "code",
   "execution_count": 130,
   "id": "3bf11af7-0b57-43d0-9956-9d3e864bc254",
   "metadata": {
    "tags": []
   },
   "outputs": [
    {
     "name": "stdout",
     "output_type": "stream",
     "text": [
      "6920\n"
     ]
    }
   ],
   "source": [
    "#DUPLICATE DATA\n",
    "\n",
    "#below reads the data and parses it all, then defines a data dictionary, it makes a unique key from household, cluset and line number (for mapping unique households) - it then checks this key and adds to the list otehrwise it etends list\n",
    "#this then adds it to the data ditionary, then count how many unique households in our data.\n",
    "\n",
    "from csv import DictReader \n",
    "\n",
    "mn_data_rdr = DictReader(open('mn.csv', 'r')) \n",
    "\n",
    "mn_data = [d for d in mn_data_rdr] \n",
    "\n",
    "def combine_data_dict(data_rows): \n",
    "    data_dict = {} \n",
    "    for row in data_rows: \n",
    "        key = '%s-%s' % (row.get('HH1'), row.get('HH2')) \n",
    "        if key in data_dict.keys(): \n",
    "            data_dict[key].append(row) \n",
    "        else : \n",
    "            data_dict[key] = [row] \n",
    "    return data_dict \n",
    "\n",
    "mn_dict = combine_data_dict(mn_data) \n",
    "\n",
    "print (len(mn_dict))"
   ]
  },
  {
   "cell_type": "code",
   "execution_count": 131,
   "id": "273e8b48-3fab-4b11-8e6b-aebd8253e61f",
   "metadata": {
    "tags": []
   },
   "outputs": [],
   "source": [
    "from csv import writer \n",
    "def write_file(zipped_data, file_name): \n",
    "    with open(file_name, 'w') as new_csv_file: \n",
    "        wrtr = writer(new_csv_file) \n",
    "        titles = [row[0][1] for row in zipped_data[0]] \n",
    "        wrtr.writerow(titles) \n",
    "        for row in zipped_data: \n",
    "            answers = [resp[1] for resp in row] \n",
    "            wrtr.writerow(answers) \n",
    "            \n",
    "write_file(zipped_data, 'cleaned_unicef_data.csv')"
   ]
  },
  {
   "cell_type": "markdown",
   "id": "e4212392-68b7-4dad-bf83-eed06da8e815",
   "metadata": {},
   "source": [
    "Scripting Code:\n",
    "\n",
    "Essentially aim is to re-organise these steps into one script:\n",
    "\n",
    "• Import data from UNICEF data files. \n",
    "• Locate headers for data rows. \n",
    "• Properly match headers we can read with cryptic built-in headers. \n",
    "• Parse the data to see if we have dupes. \n",
    "• Parse the data to see if we have missing data. \n",
    "• Merge data with other rows based on household.\n",
    "• Save data\n",
    "\n",
    "Creating a function for each part:"
   ]
  },
  {
   "cell_type": "code",
   "execution_count": 132,
   "id": "90cd3ef1-9eee-4839-a370-38e055bf71a6",
   "metadata": {
    "tags": []
   },
   "outputs": [],
   "source": [
    "#import function\n",
    "\n",
    "def get_rows(file_name): \n",
    "    rdr = reader(open(file_name, 'r')) \n",
    "    return [row for row in rdr]"
   ]
  },
  {
   "cell_type": "code",
   "execution_count": 133,
   "id": "6ce6891e-6da6-4cb4-bdef-39e3741a6099",
   "metadata": {
    "tags": []
   },
   "outputs": [],
   "source": [
    "#function to match headers and avoid mismatch  - combining multiple section s of previous code into one\n",
    "\n",
    "def eliminate_mismatches(header_rows, data_rows): \n",
    "    all_short_headers = [h[0] for h in header_rows] \n",
    "    skip_index = [] \n",
    "    final_header_rows = []\n",
    "    \n",
    "    for header in data_rows[0]:\n",
    "        if header not in all_short_headers: \n",
    "            index = data_rows[0].index(header) \n",
    "            if index not in skip_index: \n",
    "                skip_index.append(index) \n",
    "    else: \n",
    "        for head in header_rows: \n",
    "            if head[0] == header: \n",
    "                final_header_rows.append(head) \n",
    "                break \n",
    "    return skip_index, final_header_rows"
   ]
  },
  {
   "cell_type": "code",
   "execution_count": 134,
   "id": "4ccd8c88-593a-4fe9-94e1-8dda98b392ad",
   "metadata": {
    "tags": []
   },
   "outputs": [],
   "source": [
    "#Next section creates zipped dataset\n",
    "\n",
    "def zip_data(headers, data): \n",
    "    zipped_data = [] \n",
    "    for drow in data: \n",
    "        zipped_data.append(zip(headers, drow)) \n",
    "    return zipped_data \n",
    "\n",
    "def create_zipped_data(final_header_rows, data_rows, skip_index): \n",
    "    new_data = [] \n",
    "    for row in data_rows[1:]: \n",
    "        new_row = [] \n",
    "        for index, data in enumerate(row): \n",
    "            if index not in skip_index: \n",
    "                new_row.append(data) \n",
    "        new_data.append(new_row) \n",
    "    zipped_data = zip_data(final_header_rows, new_data) \n",
    "    return zipped_data"
   ]
  },
  {
   "cell_type": "code",
   "execution_count": 135,
   "id": "06cf8f12-0071-46aa-99d7-712aced8d6dc",
   "metadata": {
    "tags": []
   },
   "outputs": [],
   "source": [
    "#further functions for missing data and duplicate data\n",
    "\n",
    "def find_missing_data(zipped_data):\n",
    "    missing_count = 0\n",
    "    for response in zipped_data:\n",
    "        for question, answer in response:\n",
    "            if not answer:\n",
    "                missing_count += 1\n",
    "    return missing_count"
   ]
  },
  {
   "cell_type": "code",
   "execution_count": 136,
   "id": "5a61b638-f8a7-4ffb-8417-999f0f6e52fa",
   "metadata": {
    "tags": []
   },
   "outputs": [],
   "source": [
    "def find_duplicate_data(zipped_data):\n",
    "    \n",
    "    set_of_keys = set([\n",
    "        '%s-%s-%s' % (row[0][1], row[1][1], row[2][1])\n",
    "        for row in zipped_data])\n",
    "\n",
    "    #extra code for if no duplicates and therefore an error\n",
    "    uniques = [row for row in zipped_data if not\n",
    "        set_of_keys.remove('%s-%s-%s' %\n",
    "                                  (row[0][1], row[1][1], row[2][1]))]\n",
    "\n",
    "    return uniques, len(set_of_keys)"
   ]
  },
  {
   "cell_type": "code",
   "execution_count": 137,
   "id": "707657ad-463a-4aa1-9ac1-fbe05fcae48e",
   "metadata": {
    "tags": []
   },
   "outputs": [],
   "source": [
    "def save_to_sqlitedb(db_file, zipped_data, survey_type): \n",
    "    db = dataset.connect(db_file) \n",
    "    table = db['unicef_survey'] \n",
    "    all_rows = [] \n",
    "    for row_num, data in enumerate(zipped_data): \n",
    "        for question, answer in data: \n",
    "            data_dict = { 'question': question[1], \n",
    "                         'question_code': question[0], \n",
    "                         'answer': answer, \n",
    "                         'response_number': row_num, \n",
    "                         'survey': survey_type, \n",
    "            } \n",
    "            all_rows.append(data_dict) \n",
    "            \n",
    "    table.insert_many(all_rows)"
   ]
  },
  {
   "cell_type": "markdown",
   "id": "90deeff1-6fd4-44e7-a819-a605296aa4a2",
   "metadata": {},
   "source": [
    "Full script below aims to:\n",
    "\n",
    "-Read the data rows from ‘mn.csv’ and the header rows from ‘mn_headers.csv’ using the get_rows function.\n",
    "-Eliminate any mismatches between the header rows and the data rows using the eliminate_mismatches function. This function returns the index of the first mismatched row and a list of final header rows that match the data rows.\n",
    "-Create a zipped data structure that pairs each header row with its corresponding data row using the create_zipped_data function. This function skips any mismatched rows based on the skip_index returned by the previous function.\n",
    "-Find any missing data or duplicate data in the zipped data using the find_missing_data and find_duplicate_data functions. These functions return the number of missing values and the number of duplicates, respectively, as well as a set of unique values in the data.\n",
    "-If there is no missing data or duplicate data, save the zipped data to a SQLite database using the save_to_sqlitedb function. This function takes a database connection string and a zipped data object as arguments.\n",
    "-If there is any missing data or duplicate data, print an error message that informs the user about the problem and asks them to fix it."
   ]
  },
  {
   "cell_type": "code",
   "execution_count": 146,
   "id": "a2142fe0-355f-4001-b0a5-e3922e3f4ae7",
   "metadata": {},
   "outputs": [
    {
     "data": {
      "text/plain": [
       "\"def main():\\n    data_rows = get_rows('mn.csv')\\n    header_rows = get_rows('mn_headers.csv')\\n    skip_index, final_header_rows = eliminate_mismatches(header_rows,\\n                                                          data_rows)\\n    zipped_data = create_zipped_data(final_header_rows, data_rows, skip_index)\\n    num_missing = find_missing_data(zipped_data)\\n    uniques, num_dupes = find_duplicate_data(zipped_data)\\n    if num_missing == 0 and num_dupes == 0:\\n        save_to_sqlitedb('sqlite:///data/data_wrangling.db', zipped_data)\\n    else:\\n        error_msg = ''\\n        if num_missing:\\n            error_msg += 'We are missing {} values. '.format(num_missing)\\n        if num_dupes:\\n            error_msg += 'We have {} duplicates. '.format(num_dupes)\\n        error_msg += 'Please have a look and fix!'\\n        print(error_msg)\\n\\n\\nif __name__ == '__main__':\\n    main() \""
      ]
     },
     "execution_count": 146,
     "metadata": {},
     "output_type": "execute_result"
    }
   ],
   "source": [
    "\n",
    "\n",
    "\n",
    "\n",
    "\"\"\"def main():\n",
    "    data_rows = get_rows('mn.csv')\n",
    "    header_rows = get_rows('mn_headers.csv')\n",
    "    skip_index, final_header_rows = eliminate_mismatches(header_rows,\n",
    "                                                          data_rows)\n",
    "    zipped_data = create_zipped_data(final_header_rows, data_rows, skip_index)\n",
    "    num_missing = find_missing_data(zipped_data)\n",
    "    uniques, num_dupes = find_duplicate_data(zipped_data)\n",
    "    if num_missing == 0 and num_dupes == 0:\n",
    "        save_to_sqlitedb('sqlite:///data/data_wrangling.db', zipped_data)\n",
    "    else:\n",
    "        error_msg = ''\n",
    "        if num_missing:\n",
    "            error_msg += 'We are missing {} values. '.format(num_missing)\n",
    "        if num_dupes:\n",
    "            error_msg += 'We have {} duplicates. '.format(num_dupes)\n",
    "        error_msg += 'Please have a look and fix!'\n",
    "        print(error_msg)\n",
    "\n",
    "\n",
    "if __name__ == '__main__':\n",
    "    main() \"\"\""
   ]
  },
  {
   "cell_type": "markdown",
   "id": "f2b21a7f-acb6-4850-9206-789d0f20d20f",
   "metadata": {
    "tags": []
   },
   "source": [
    "#below is an example of full documeted script with a heading text that could be used in the README.MD File\n",
    "\n",
    "\n",
    "Usage: python our_cleanup_script.py\n",
    "\n",
    "This script is used to intake the male survey data from UNICEF\n",
    "and save it to a simple database file after it has been checked\n",
    "for duplicates and missing data and after the headers have been properly\n",
    "matched with the data. It expects there to be a 'mn.csv' file with the\n",
    "data and the 'mn_updated_headers.csv' file in a subfolder called 'unicef' within\n",
    "a data folder in this directory. It also expects there to be a SQLite\n",
    "file called 'data_wrangling.db' in the root of this directory. Finally,\n",
    "it expects to utilize the dataset library\n",
    "(http://dataset.readthedocs.org/en/latest/).\n",
    "\n",
    "If the script runs without finding any errors, it will save the\n",
    "cleaned data to the 'unicef_survey' table in the SQLite.\n",
    "The saved data will have the following structure:\n",
    "    - question: string\n",
    "    - question_code: string\n",
    "    - answer: string\n",
    "    - response_number: integer\n",
    "    - survey: string\n",
    "\n",
    "The response number can later be used to join entire responses together\n",
    "(i.e. all of response_number 3 come from the same interview, etc.).\n",
    "\n",
    "If you have any questions, please feel free to contact me via ...\n",
    "\"\"\"\n",
    "\n",
    "from csv import reader\n",
    "import dataset\n",
    "\n",
    "\n",
    "def get_rows(file_name):\n",
    "    \"\"\"Return a list of rows from a given csv filename.\"\"\"\n",
    "    rdr = reader(open(file_name, 'rb'))\n",
    "    return [row for row in rdr]\n",
    "\n",
    "\n",
    "def eliminate_mismatches(header_rows, data_rows):\n",
    "    \"\"\"\n",
    "    Return index numbers to skip in a list and final header rows in a list\n",
    "    when given header rows and data rows from a UNICEF dataset. This\n",
    "    function assumes the data_rows object has headers in the first element.\n",
    "    It assumes those headers are the shortened UNICEF form. It also assumes\n",
    "    the first element of each header row in the header data is the\n",
    "    shortened UNICEF form. It will return the list of indexes to skip in the\n",
    "    data rows (ones that don't match properly with headers) as the first element\n",
    "    and will return the final cleaned header rows as the second element.\n",
    "    \"\"\"\n",
    "    all_short_headers = [h[0] for h in header_rows]\n",
    "    skip_index = []\n",
    "    final_header_rows = []\n",
    "\n",
    "    for header in data_rows[0]:\n",
    "        if header not in all_short_headers:\n",
    "            index = data_rows[0].index(header)\n",
    "            if index not in skip_index:\n",
    "                skip_index.append(index)\n",
    "        else:\n",
    "            for head in header_rows:\n",
    "                if head[0] == header:\n",
    "                    final_header_rows.append(head)\n",
    "                    break\n",
    "    return skip_index, final_header_rows\n",
    "\n",
    "\n",
    "def zip_data(headers, data):\n",
    "    \"\"\"\n",
    "    Return a list of zipped data when given a header list and data list. Assumes\n",
    "    the length of data elements per row and the length of headers are the same.\n",
    "\n",
    "    example output: [(['question code', 'question summary', 'question text'], \n",
    "\t\t\t\t\t\t\t\t\t\t\t\t\t\t\t\t\t\t\t\t\t\t  'resp'), ....]\n",
    "    \"\"\"\n",
    "    zipped_data = []\n",
    "    for drow in data:\n",
    "        zipped_data.append(zip(headers, drow))\n",
    "    return zipped_data\n",
    "\n",
    "\n",
    "def create_zipped_data(final_header_rows, data_rows, skip_index):\n",
    "    \"\"\"\n",
    "    Returns a list of zipped data rows (matching header and data) when given a \n",
    "    list of final header rows, a list of data rows, and a list of indexes on those \n",
    "    data rows to skip as they don't match properly. The function assumes the \n",
    "    first row in the data     rows contains the original data header values, and \n",
    "    will remove those values from the final list.\n",
    "    \"\"\"\n",
    "    new_data = []\n",
    "    for row in data_rows[1:]:\n",
    "        new_row = []\n",
    "        for index, data in enumerate(row):\n",
    "            if index not in skip_index:\n",
    "                new_row.append(data)\n",
    "        new_data.append(new_row)\n",
    "    zipped_data = zip_data(final_header_rows, new_data)\n",
    "    return zipped_data\n",
    "\n",
    "\n",
    "def find_missing_data(zipped_data):\n",
    "    \"\"\"\n",
    "    Returns a count of how many answers are missing in an entire set of zipped \n",
    "    data.     This function assumes all responses are stored as the second element.\n",
    "    It also assumes every response is stored in a list of these matched question, \n",
    "    answer groupings. It returns an integer.\n",
    "    \"\"\"\n",
    "    missing_count = 0\n",
    "    for response in zipped_data:\n",
    "        for question, answer in response:\n",
    "            if not answer:\n",
    "                missing_count += 1\n",
    "    return missing_count\n",
    "\n",
    "\n",
    "def find_duplicate_data(zipped_data):\n",
    "    \"\"\"\n",
    "    Returns a list of unique elements and a number of duplicates found when given a\n",
    "    UNICEF zipped_data list. This function assumes that the first three rows of data are\n",
    "    structured to have the house, cluster, and line number of the interview and uses\n",
    "    these values to create a unique key that should not be repeated.\n",
    "    \"\"\"\n",
    "\n",
    "    set_of_keys = set([\n",
    "        '%s-%s-%s' % (row[0][1], row[1][1], row[2][1])\n",
    "        for row in zipped_data])\n",
    "\n",
    "    #TODO: this will throw an error if we have duplicates- we should find a way \n",
    "    #around this\n",
    "    uniques = [row for row in zipped_data if not\n",
    "               set_of_keys.remove('%s-%s-%s' %\n",
    "                                  (row[0][1], row[1][1], row[2][1]))]\n",
    "\n",
    "    return uniques, len(set_of_keys)\n",
    "\n",
    "\n",
    "def save_to_sqlitedb(db_file, zipped_data, survey_type):\n",
    "    \"\"\"\n",
    "    When given a path to a SQLite file, the cleaned zipped_data, and the\n",
    "    UNICEF survey type that was used, saves the data to SQLite in a\n",
    "    table called 'unicef_survey' with the following attributes:\n",
    "        question, question_code, answer, response_number, survey\n",
    "    \"\"\"\n",
    "    db = dataset.connect(db_file)\n",
    "\n",
    "    table = db['unicef_survey']\n",
    "    all_rows = []\n",
    "\n",
    "    for row_num, data in enumerate(zipped_data):\n",
    "        for question, answer in data:\n",
    "            data_dict = {\n",
    "                'question': question[1],\n",
    "                'question_code': question[0],\n",
    "                'answer': answer,\n",
    "                'response_number': row_num,\n",
    "                'survey': survey_type,\n",
    "            }\n",
    "            all_rows.append(data_dict)\n",
    "\n",
    "    table.insert_many(all_rows)\n",
    "\n",
    "\n",
    "def main():\n",
    "    \"\"\"\n",
    "    Import all data into rows, clean it, and then if\n",
    "    no errors are found, save it to SQlite.\n",
    "    If there are errors found, print out details so\n",
    "    developers can begin work on fixing the script\n",
    "    or seeing if there is an error in the data.\n",
    "    \"\"\"\n",
    "\n",
    "    #TODO: we probably should abstract these files so that we can pass\n",
    "    # them in as variables and use the main function with other surveys\n",
    "    data_rows = get_rows('mn.csv')\n",
    "    header_rows = get_rows('mn_headers.csv')\n",
    "    skip_index, final_header_rows = eliminate_mismatches(header_rows,\n",
    "                                                         data_rows)\n",
    "    zipped_data = create_zipped_data(final_header_rows, data_rows, skip_index)\n",
    "    num_missing = find_missing_data(zipped_data)\n",
    "    uniques, num_dupes = find_duplicate_data(zipped_data)\n",
    "    if num_missing == 0 and num_dupes == 0:\n",
    "        #TODO: we probably also want to abstract this\n",
    "        # file away, or make sure it exists before continuing\n",
    "        save_to_sqlite('sqlite:///data_wrangling.db', zipped_data, 'mn')\n",
    "    else:\n",
    "        #TODO: eventually we probably want to log this, and\n",
    "        # maybe send an email if an error is thrown rather than print it\n",
    "        error_msg = ''\n",
    "        if num_missing:\n",
    "            error_msg += 'We are missing {} values. '.format(num_missing)\n",
    "        if num_dupes:\n",
    "            error_msg += 'We have {} duplicates. '.format(num_dupes)\n",
    "        error_msg += 'Please have a look and fix!'\n",
    "        print(error_msg)\n",
    "\n",
    "\n",
    "if __name__ == '__main__':\n",
    "    main()"
   ]
  },
  {
   "cell_type": "code",
   "execution_count": null,
   "id": "4e52812c-fab7-40c8-bc2b-776240e72db0",
   "metadata": {},
   "outputs": [],
   "source": []
  }
 ],
 "metadata": {
  "kernelspec": {
   "display_name": "Python 3 (ipykernel)",
   "language": "python",
   "name": "python3"
  },
  "language_info": {
   "codemirror_mode": {
    "name": "ipython",
    "version": 3
   },
   "file_extension": ".py",
   "mimetype": "text/x-python",
   "name": "python",
   "nbconvert_exporter": "python",
   "pygments_lexer": "ipython3",
   "version": "3.11.4"
  }
 },
 "nbformat": 4,
 "nbformat_minor": 5
}
