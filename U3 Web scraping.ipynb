{
 "cells": [
  {
   "cell_type": "code",
   "execution_count": 1,
   "id": "14e3f22e-79bc-4a7c-8894-caf090da356f",
   "metadata": {
    "tags": []
   },
   "outputs": [],
   "source": [
    "#Unit 3 Webscraping - find \"Data Scientist\" on a page"
   ]
  },
  {
   "cell_type": "code",
   "execution_count": 2,
   "id": "a86d553a-19dd-4986-9281-8712a39d0bae",
   "metadata": {
    "tags": []
   },
   "outputs": [],
   "source": [
    "from bs4 import BeautifulSoup"
   ]
  },
  {
   "cell_type": "code",
   "execution_count": 3,
   "id": "0697e10a-2dc6-4644-91d7-4332d3e42ef3",
   "metadata": {
    "tags": []
   },
   "outputs": [],
   "source": [
    "\n",
    "\n",
    "import bs4"
   ]
  },
  {
   "cell_type": "code",
   "execution_count": 4,
   "id": "56edbebc-0ca9-4a7b-8505-aaaacdb049e0",
   "metadata": {
    "tags": []
   },
   "outputs": [],
   "source": [
    "import requests"
   ]
  },
  {
   "cell_type": "code",
   "execution_count": 5,
   "id": "189f7a71-ae5a-41b6-b16d-f36567fc9172",
   "metadata": {
    "tags": []
   },
   "outputs": [],
   "source": [
    " url = 'https://nationalcareers.service.gov.uk/job-profiles/data-scientist'"
   ]
  },
  {
   "cell_type": "code",
   "execution_count": 6,
   "id": "3f8d0153-92f5-46a7-bb79-97be911a1861",
   "metadata": {
    "tags": []
   },
   "outputs": [],
   "source": [
    "data = requests.get(url)"
   ]
  },
  {
   "cell_type": "code",
   "execution_count": 7,
   "id": "f29f3e9c-28a1-42f4-a957-6c87e29f41ac",
   "metadata": {
    "tags": []
   },
   "outputs": [],
   "source": [
    "html = BeautifulSoup(data.text, 'html.parser')\n",
    "\n"
   ]
  },
  {
   "cell_type": "code",
   "execution_count": 8,
   "id": "b3b8f283-24a6-4d63-960a-a526095be9b8",
   "metadata": {
    "tags": []
   },
   "outputs": [],
   "source": [
    "DS = html.find('h1')\n",
    "Data_sci = (DS.text)"
   ]
  },
  {
   "cell_type": "code",
   "execution_count": 9,
   "id": "60a4262d-c4d1-458e-b130-dbfd430d7c8a",
   "metadata": {
    "tags": []
   },
   "outputs": [
    {
     "name": "stdout",
     "output_type": "stream",
     "text": [
      " Data scientist\n"
     ]
    }
   ],
   "source": [
    "print(Data_sci)"
   ]
  },
  {
   "cell_type": "code",
   "execution_count": 10,
   "id": "8c168db4-c130-4826-803f-f08c7aa91804",
   "metadata": {
    "tags": []
   },
   "outputs": [],
   "source": [
    "import json"
   ]
  },
  {
   "cell_type": "code",
   "execution_count": 12,
   "id": "6e9df95c-2175-4207-b551-c98efac17e24",
   "metadata": {},
   "outputs": [],
   "source": [
    "DS_json = json.dumps(Data_sci)"
   ]
  },
  {
   "cell_type": "code",
   "execution_count": 13,
   "id": "12676934-ab6e-4464-bc17-f21366458329",
   "metadata": {
    "tags": []
   },
   "outputs": [
    {
     "name": "stdout",
     "output_type": "stream",
     "text": [
      "\" Data scientist\"\n"
     ]
    }
   ],
   "source": [
    "print(DS_json)"
   ]
  },
  {
   "cell_type": "markdown",
   "id": "754d4031-da23-43d1-8f49-42ce501f04f2",
   "metadata": {},
   "source": [
    "Various sources used to help with this activity:\n",
    "\n",
    "https://opensource.com/article/21/9/web-scraping-python-beautiful-soup\n",
    "A guide to web scraping in Python using Beautiful Soup - Ayush Sharma (2021)\n",
    "\n",
    "https://stackoverflow.com/questions/54994297/show-text-inside-the-tags-beautifulsoup\n",
    "\n",
    "Show text inside the tags BeautifulSoup - Public Questions\n",
    "\n",
    "https://www.w3schools.com/python/gloss_python_convert_into_JSON.asp\n",
    "Create JSON from varaibale \n"
   ]
  },
  {
   "cell_type": "code",
   "execution_count": null,
   "id": "4fb34b9b-9d13-4bc3-a402-c446f4c50fb8",
   "metadata": {},
   "outputs": [],
   "source": []
  },
  {
   "cell_type": "code",
   "execution_count": null,
   "id": "bac7328f-0519-4f50-aef6-a4b63edddee7",
   "metadata": {},
   "outputs": [],
   "source": []
  },
  {
   "cell_type": "code",
   "execution_count": null,
   "id": "abc846ea-b293-47e6-af17-517d49251b38",
   "metadata": {},
   "outputs": [],
   "source": []
  }
 ],
 "metadata": {
  "kernelspec": {
   "display_name": "Python 3 (ipykernel)",
   "language": "python",
   "name": "python3"
  },
  "language_info": {
   "codemirror_mode": {
    "name": "ipython",
    "version": 3
   },
   "file_extension": ".py",
   "mimetype": "text/x-python",
   "name": "python",
   "nbconvert_exporter": "python",
   "pygments_lexer": "ipython3",
   "version": "3.11.4"
  }
 },
 "nbformat": 4,
 "nbformat_minor": 5
}
